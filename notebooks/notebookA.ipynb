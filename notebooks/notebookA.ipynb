{
 "cells": [
  {
   "cell_type": "code",
   "execution_count": 23,
   "metadata": {},
   "outputs": [],
   "source": [
    "from idc_index import index\n",
    "import ipywidgets as widgets\n",
    "from pathlib import Path\n",
    "from pydicom import dcmread\n",
    "from tqdm.notebook import tqdm\n",
    "import subprocess\n"
   ]
  },
  {
   "cell_type": "code",
   "execution_count": 24,
   "metadata": {},
   "outputs": [
    {
     "name": "stdout",
     "output_type": "stream",
     "text": [
      "v17\n"
     ]
    }
   ],
   "source": [
    "client = index.IDCClient()\n",
    "print(client.get_idc_version())"
   ]
  },
  {
   "cell_type": "code",
   "execution_count": 25,
   "metadata": {},
   "outputs": [
    {
     "name": "stdout",
     "output_type": "stream",
     "text": [
      "Found 142 collections\n"
     ]
    },
    {
     "data": {
      "text/html": [
       "<div>\n",
       "<style scoped>\n",
       "    .dataframe tbody tr th:only-of-type {\n",
       "        vertical-align: middle;\n",
       "    }\n",
       "\n",
       "    .dataframe tbody tr th {\n",
       "        vertical-align: top;\n",
       "    }\n",
       "\n",
       "    .dataframe thead th {\n",
       "        text-align: right;\n",
       "    }\n",
       "</style>\n",
       "<table border=\"1\" class=\"dataframe\">\n",
       "  <thead>\n",
       "    <tr style=\"text-align: right;\">\n",
       "      <th></th>\n",
       "      <th>Modality</th>\n",
       "      <th>series_size_MB</th>\n",
       "    </tr>\n",
       "    <tr>\n",
       "      <th>collection_id</th>\n",
       "      <th></th>\n",
       "      <th></th>\n",
       "    </tr>\n",
       "  </thead>\n",
       "  <tbody>\n",
       "    <tr>\n",
       "      <th>4d_lung</th>\n",
       "      <td>[RTSTRUCT, CT]</td>\n",
       "      <td>183054.14</td>\n",
       "    </tr>\n",
       "    <tr>\n",
       "      <th>acrin_6698</th>\n",
       "      <td>[MR, SEG]</td>\n",
       "      <td>841956.27</td>\n",
       "    </tr>\n",
       "    <tr>\n",
       "      <th>acrin_contralateral_breast_mr</th>\n",
       "      <td>[MR, CR]</td>\n",
       "      <td>199592.57</td>\n",
       "    </tr>\n",
       "    <tr>\n",
       "      <th>acrin_flt_breast</th>\n",
       "      <td>[PT, CT, OT]</td>\n",
       "      <td>74235.64</td>\n",
       "    </tr>\n",
       "    <tr>\n",
       "      <th>acrin_nsclc_fdg_pet</th>\n",
       "      <td>[PT, CT, DX, CR, NM, MR, SC, SEG]</td>\n",
       "      <td>145677.88</td>\n",
       "    </tr>\n",
       "    <tr>\n",
       "      <th>...</th>\n",
       "      <td>...</td>\n",
       "      <td>...</td>\n",
       "    </tr>\n",
       "    <tr>\n",
       "      <th>tcga_uvm</th>\n",
       "      <td>[SM]</td>\n",
       "      <td>102250.70</td>\n",
       "    </tr>\n",
       "    <tr>\n",
       "      <th>upenn_gbm</th>\n",
       "      <td>[MR]</td>\n",
       "      <td>139399.35</td>\n",
       "    </tr>\n",
       "    <tr>\n",
       "      <th>vestibular_schwannoma_mc_rc</th>\n",
       "      <td>[MR]</td>\n",
       "      <td>10015.97</td>\n",
       "    </tr>\n",
       "    <tr>\n",
       "      <th>vestibular_schwannoma_seg</th>\n",
       "      <td>[RTDOSE, RTSTRUCT, RTPLAN, MR]</td>\n",
       "      <td>28194.20</td>\n",
       "    </tr>\n",
       "    <tr>\n",
       "      <th>victre</th>\n",
       "      <td>[MG]</td>\n",
       "      <td>1027187.60</td>\n",
       "    </tr>\n",
       "  </tbody>\n",
       "</table>\n",
       "<p>142 rows × 2 columns</p>\n",
       "</div>"
      ],
      "text/plain": [
       "                                                        Modality  \\\n",
       "collection_id                                                      \n",
       "4d_lung                                           [RTSTRUCT, CT]   \n",
       "acrin_6698                                             [MR, SEG]   \n",
       "acrin_contralateral_breast_mr                           [MR, CR]   \n",
       "acrin_flt_breast                                    [PT, CT, OT]   \n",
       "acrin_nsclc_fdg_pet            [PT, CT, DX, CR, NM, MR, SC, SEG]   \n",
       "...                                                          ...   \n",
       "tcga_uvm                                                    [SM]   \n",
       "upenn_gbm                                                   [MR]   \n",
       "vestibular_schwannoma_mc_rc                                 [MR]   \n",
       "vestibular_schwannoma_seg         [RTDOSE, RTSTRUCT, RTPLAN, MR]   \n",
       "victre                                                      [MG]   \n",
       "\n",
       "                               series_size_MB  \n",
       "collection_id                                  \n",
       "4d_lung                             183054.14  \n",
       "acrin_6698                          841956.27  \n",
       "acrin_contralateral_breast_mr       199592.57  \n",
       "acrin_flt_breast                     74235.64  \n",
       "acrin_nsclc_fdg_pet                 145677.88  \n",
       "...                                       ...  \n",
       "tcga_uvm                            102250.70  \n",
       "upenn_gbm                           139399.35  \n",
       "vestibular_schwannoma_mc_rc          10015.97  \n",
       "vestibular_schwannoma_seg            28194.20  \n",
       "victre                             1027187.60  \n",
       "\n",
       "[142 rows x 2 columns]"
      ]
     },
     "execution_count": 25,
     "metadata": {},
     "output_type": "execute_result"
    }
   ],
   "source": [
    "collections = sorted(client.get_collections())\n",
    "print(f\"Found {len(collections)} collections\")  \n",
    "client.collection_summary"
   ]
  },
  {
   "cell_type": "markdown",
   "metadata": {},
   "source": [
    "# Filter Collections have both RTSTRUCTS and CTs"
   ]
  },
  {
   "cell_type": "code",
   "execution_count": 26,
   "metadata": {},
   "outputs": [
    {
     "name": "stdout",
     "output_type": "stream",
     "text": [
      "Found 13 collections with both RTSTRUCT and CT\n"
     ]
    },
    {
     "data": {
      "text/plain": [
       "collection_id\n",
       "4d_lung                                           {CT, RTSTRUCT}\n",
       "cc_tumor_heterogeneity               {MR, CT, PT, RTSTRUCT, REG}\n",
       "cptac_ccrcc                               {MR, CT, SM, RTSTRUCT}\n",
       "cptac_pda                         {MR, SM, CT, PT, US, RTSTRUCT}\n",
       "cptac_ucec                            {MR, SM, CT, PT, RTSTRUCT}\n",
       "lctsc                                             {CT, RTSTRUCT}\n",
       "nsclc_radiomics                          {SEG, SR, CT, RTSTRUCT}\n",
       "nsclc_radiomics_interobserver1               {SEG, CT, RTSTRUCT}\n",
       "pancreatic_ct_cbct_seg                    {RTDOSE, CT, RTSTRUCT}\n",
       "pediatric_ct_seg                                  {CT, RTSTRUCT}\n",
       "prostate_anatomical_edge_cases                    {CT, RTSTRUCT}\n",
       "rider_lung_ct                        {CT, SEG, RTSTRUCT, PR, SR}\n",
       "soft_tissue_sarcoma                       {PT, MR, CT, RTSTRUCT}\n",
       "Name: Modality, dtype: object"
      ]
     },
     "execution_count": 26,
     "metadata": {},
     "output_type": "execute_result"
    }
   ],
   "source": [
    "# Group by collection_id and aggregate the Modality column\n",
    "grouped = client.index.groupby('collection_id')['Modality'].apply(lambda x: set(x))\n",
    "\n",
    "# Filter collection_ids where both RTSTRUCT and CT exist in the Modality set\n",
    "rt_ct_collections = grouped[grouped.apply(lambda x: 'RTSTRUCT' in x and 'CT' in x)]\n",
    "\n",
    "print(f\"Found {len(rt_ct_collections)} collections with both RTSTRUCT and CT\")\n",
    "rt_ct_collections"
   ]
  },
  {
   "cell_type": "markdown",
   "metadata": {},
   "source": [
    "# Select a Collection to explore from the dropdown menu below.\n",
    "\n",
    "The default is `4d_lung`"
   ]
  },
  {
   "cell_type": "code",
   "execution_count": 27,
   "metadata": {},
   "outputs": [
    {
     "data": {
      "application/vnd.jupyter.widget-view+json": {
       "model_id": "228b330f21fd4ca3a7a020bd97e17564",
       "version_major": 2,
       "version_minor": 0
      },
      "text/plain": [
       "Dropdown(description='Collection:', options=('4d_lung', 'cc_tumor_heterogeneity', 'cptac_ccrcc', 'cptac_pda', …"
      ]
     },
     "metadata": {},
     "output_type": "display_data"
    }
   ],
   "source": [
    "collection_list = rt_ct_collections.index\n",
    "\n",
    "collection_widget = widgets.Dropdown(\n",
    "    options=collection_list,\n",
    "    description='Collection:',\n",
    "    value='4d_lung',\n",
    "    disabled=False,\n",
    ")\n",
    "display(collection_widget)"
   ]
  },
  {
   "cell_type": "code",
   "execution_count": 28,
   "metadata": {},
   "outputs": [
    {
     "name": "stdout",
     "output_type": "stream",
     "text": [
      "Found 6690 series in collection 4d_lung\n"
     ]
    },
    {
     "data": {
      "application/vnd.jupyter.widget-view+json": {
       "model_id": "c931619a8096443f8a2a77b1b44db306",
       "version_major": 2,
       "version_minor": 0
      },
      "text/plain": [
       "Dropdown(description='Series:', layout=Layout(width='max-content'), options=(('SeriesUID-1074172.68 [Modality:…"
      ]
     },
     "metadata": {},
     "output_type": "display_data"
    }
   ],
   "source": [
    "matching_series = client.index.loc[client.index.collection_id == collection_widget.value, ['SeriesInstanceUID', 'Modality', \"series_size_MB\"]]\n",
    "print(f\"Found {len(matching_series)} series in collection {collection_widget.value}\")\n",
    "options=[\n",
    "  (\n",
    "    f'SeriesUID-{row['SeriesInstanceUID'][-10:]} [Modality: {row[\"Modality\"]}; Size: {row[\"series_size_MB\"]}MB]',\n",
    "    row[\"SeriesInstanceUID\"]\n",
    "  )\n",
    "  for _, row in matching_series.iterrows()\n",
    "  if row['Modality'] == 'RTSTRUCT'\n",
    "]\n",
    "\n",
    "rt_widget = widgets.Dropdown(\n",
    "    options=options,\n",
    "    description='Series:',\n",
    "    layout={'width': 'max-content'},\n",
    "    disabled=False,\n",
    ")\n",
    "display(rt_widget)"
   ]
  },
  {
   "cell_type": "code",
   "execution_count": 29,
   "metadata": {},
   "outputs": [
    {
     "name": "stdout",
     "output_type": "stream",
     "text": [
      "Selected RTSTRUCT Series: 2.25.301560857511085372174077181327491074172.68\n"
     ]
    }
   ],
   "source": [
    "print(f\"Selected RTSTRUCT Series: {rt_widget.value}\")"
   ]
  },
  {
   "cell_type": "code",
   "execution_count": 32,
   "metadata": {},
   "outputs": [
    {
     "name": "stdout",
     "output_type": "stream",
     "text": [
      "Downloading RTSTRUCT file...\n",
      "\u001b[32m100.00%\u001b[0m \u001b[32m ━━━━━━━━━━━━━━━━━━━━━━━━━━━━━━━━━━━━━━━━━━━━━━━━━━━━━━━━━━━━━━━━━━━━━━━━━━━━━━━━ \u001b[0m \u001b[32m35.58 kB / 35.58 kB\u001b[0m \u001b[31m? p/s\u001b[0m \u001b[34m100ms\u001b[0m \u001b[33m(1/1)\u001b[0m\n",
      "Downloaded RTSTRUCT file to data/tmp/0b45f1fd-0ca7-45b7-907b-c089f03abda4.dcm\n",
      "Referenced CT Series: 1.3.6.1.4.1.14519.5.2.1.6834.5010.102021682875249184391293522170\n"
     ]
    },
    {
     "data": {
      "application/vnd.jupyter.widget-view+json": {
       "model_id": "1ac5c4ba4d3c4c95b0324f94dec7d028",
       "version_major": 2,
       "version_minor": 0
      },
      "text/plain": [
       "Downloading CT files:   0%|          | 0/90 [00:00<?, ?it/s]"
      ]
     },
     "metadata": {},
     "output_type": "display_data"
    },
    {
     "name": "stdout",
     "output_type": "stream",
     "text": [
      "cp s3://idc-open-data/fb556b73-d1be-4b03-b42f-2291b5ea2d38/00b68307-66d7-4baf-a6aa-0a12c5572336.dcm data/tmp/00b68307-66d7-4baf-a6aa-0a12c5572336.dcm\n",
      "cp s3://idc-open-data/fb556b73-d1be-4b03-b42f-2291b5ea2d38/0108ff97-bac8-4411-bb15-912e2975063c.dcm data/tmp/0108ff97-bac8-4411-bb15-912e2975063c.dcm\n",
      "cp s3://idc-open-data/fb556b73-d1be-4b03-b42f-2291b5ea2d38/04113e7e-3afc-41fb-b58a-2e5dd525b701.dcm data/tmp/04113e7e-3afc-41fb-b58a-2e5dd525b701.dcm\n",
      "cp s3://idc-open-data/fb556b73-d1be-4b03-b42f-2291b5ea2d38/058ebbc6-cd4c-492b-bf31-990aac93cf55.dcm data/tmp/058ebbc6-cd4c-492b-bf31-990aac93cf55.dcm\n",
      "cp s3://idc-open-data/fb556b73-d1be-4b03-b42f-2291b5ea2d38/05f91828-b284-4516-b52d-8b52c80adfc1.dcm data/tmp/05f91828-b284-4516-b52d-8b52c80adfc1.dcm\n",
      "cp s3://idc-open-data/fb556b73-d1be-4b03-b42f-2291b5ea2d38/06da7fdf-6df9-4f36-9bc3-2103bca4ca02.dcm data/tmp/06da7fdf-6df9-4f36-9bc3-2103bca4ca02.dcm\n",
      "cp s3://idc-open-data/fb556b73-d1be-4b03-b42f-2291b5ea2d38/0936f9c6-9be7-46ef-8373-e4fe31a25d36.dcm data/tmp/0936f9c6-9be7-46ef-8373-e4fe31a25d36.dcm\n",
      "cp s3://idc-open-data/fb556b73-d1be-4b03-b42f-2291b5ea2d38/0b009b71-8418-47ac-a11c-edf2e13e937d.dcm data/tmp/0b009b71-8418-47ac-a11c-edf2e13e937d.dcm\n",
      "cp s3://idc-open-data/fb556b73-d1be-4b03-b42f-2291b5ea2d38/0bd084b1-c70e-42e5-a317-979fe7a2e697.dcm data/tmp/0bd084b1-c70e-42e5-a317-979fe7a2e697.dcm\n",
      "cp s3://idc-open-data/fb556b73-d1be-4b03-b42f-2291b5ea2d38/0bd88fb1-592b-41a2-8530-bcffa82d12f1.dcm data/tmp/0bd88fb1-592b-41a2-8530-bcffa82d12f1.dcm\n",
      "cp s3://idc-open-data/fb556b73-d1be-4b03-b42f-2291b5ea2d38/10fd121c-7c43-461f-9574-23267fe431fd.dcm data/tmp/10fd121c-7c43-461f-9574-23267fe431fd.dcm\n",
      "cp s3://idc-open-data/fb556b73-d1be-4b03-b42f-2291b5ea2d38/1272542b-0513-42b1-b3ea-e436f0fbe590.dcm data/tmp/1272542b-0513-42b1-b3ea-e436f0fbe590.dcm\n",
      "cp s3://idc-open-data/fb556b73-d1be-4b03-b42f-2291b5ea2d38/1334295e-abc5-4823-8acd-9ea0f0dc18b9.dcm data/tmp/1334295e-abc5-4823-8acd-9ea0f0dc18b9.dcm\n",
      "cp s3://idc-open-data/fb556b73-d1be-4b03-b42f-2291b5ea2d38/138e72ed-be7e-4441-9484-8a521a42c0b3.dcm data/tmp/138e72ed-be7e-4441-9484-8a521a42c0b3.dcm\n",
      "cp s3://idc-open-data/fb556b73-d1be-4b03-b42f-2291b5ea2d38/13cf66f0-4961-479d-9b48-c99a2018b5fe.dcm data/tmp/13cf66f0-4961-479d-9b48-c99a2018b5fe.dcm\n",
      "cp s3://idc-open-data/fb556b73-d1be-4b03-b42f-2291b5ea2d38/19c587d8-7111-417d-9e47-b9412618e762.dcm data/tmp/19c587d8-7111-417d-9e47-b9412618e762.dcm\n",
      "cp s3://idc-open-data/fb556b73-d1be-4b03-b42f-2291b5ea2d38/1b096cfb-efee-497e-b85d-46bd306962ad.dcm data/tmp/1b096cfb-efee-497e-b85d-46bd306962ad.dcm\n",
      "cp s3://idc-open-data/fb556b73-d1be-4b03-b42f-2291b5ea2d38/20810e7e-479d-4001-b0ef-7639d8e48b03.dcm data/tmp/20810e7e-479d-4001-b0ef-7639d8e48b03.dcm\n",
      "cp s3://idc-open-data/fb556b73-d1be-4b03-b42f-2291b5ea2d38/228c8bcd-fb5e-47ee-9bb4-a3fda3ba7b08.dcm data/tmp/228c8bcd-fb5e-47ee-9bb4-a3fda3ba7b08.dcm\n",
      "cp s3://idc-open-data/fb556b73-d1be-4b03-b42f-2291b5ea2d38/26c6990e-7df3-45f7-8d43-886ac868dcbc.dcm data/tmp/26c6990e-7df3-45f7-8d43-886ac868dcbc.dcm\n",
      "cp s3://idc-open-data/fb556b73-d1be-4b03-b42f-2291b5ea2d38/26d98911-a8db-43ed-943e-68b8ff8012dd.dcm data/tmp/26d98911-a8db-43ed-943e-68b8ff8012dd.dcm\n",
      "cp s3://idc-open-data/fb556b73-d1be-4b03-b42f-2291b5ea2d38/30e2498a-f48c-4151-b3b4-806619372d3c.dcm data/tmp/30e2498a-f48c-4151-b3b4-806619372d3c.dcm\n",
      "cp s3://idc-open-data/fb556b73-d1be-4b03-b42f-2291b5ea2d38/318f103d-df2e-4b47-8695-f8aa58be1475.dcm data/tmp/318f103d-df2e-4b47-8695-f8aa58be1475.dcm\n",
      "cp s3://idc-open-data/fb556b73-d1be-4b03-b42f-2291b5ea2d38/33f98d50-c5bb-41c2-b640-af8407584f89.dcm data/tmp/33f98d50-c5bb-41c2-b640-af8407584f89.dcm\n",
      "cp s3://idc-open-data/fb556b73-d1be-4b03-b42f-2291b5ea2d38/34229fa2-e8ac-4661-a41a-3a0b4f57ed40.dcm data/tmp/34229fa2-e8ac-4661-a41a-3a0b4f57ed40.dcm\n",
      "cp s3://idc-open-data/fb556b73-d1be-4b03-b42f-2291b5ea2d38/355350b4-1249-4938-b9fa-f98291edb89c.dcm data/tmp/355350b4-1249-4938-b9fa-f98291edb89c.dcm\n",
      "cp s3://idc-open-data/fb556b73-d1be-4b03-b42f-2291b5ea2d38/3625b5c8-b6cc-4018-bdf9-76743cb98988.dcm data/tmp/3625b5c8-b6cc-4018-bdf9-76743cb98988.dcm\n",
      "cp s3://idc-open-data/fb556b73-d1be-4b03-b42f-2291b5ea2d38/368de48c-dae7-43ba-b219-226b17551b04.dcm data/tmp/368de48c-dae7-43ba-b219-226b17551b04.dcm\n",
      "cp s3://idc-open-data/fb556b73-d1be-4b03-b42f-2291b5ea2d38/3c36bf10-4918-4296-b069-13294f36cc7e.dcm data/tmp/3c36bf10-4918-4296-b069-13294f36cc7e.dcm\n",
      "cp s3://idc-open-data/fb556b73-d1be-4b03-b42f-2291b5ea2d38/40bc4101-e170-4ce9-a836-4b363b546b8c.dcm data/tmp/40bc4101-e170-4ce9-a836-4b363b546b8c.dcm\n",
      "cp s3://idc-open-data/fb556b73-d1be-4b03-b42f-2291b5ea2d38/40e21315-a8d7-4af0-a902-4ad2e850a946.dcm data/tmp/40e21315-a8d7-4af0-a902-4ad2e850a946.dcm\n",
      "cp s3://idc-open-data/fb556b73-d1be-4b03-b42f-2291b5ea2d38/40eebb40-ed49-47ef-af7c-fcf41cb8b7d4.dcm data/tmp/40eebb40-ed49-47ef-af7c-fcf41cb8b7d4.dcm\n",
      "cp s3://idc-open-data/fb556b73-d1be-4b03-b42f-2291b5ea2d38/44764aa6-a1f8-4a3d-b942-3a049c77f36b.dcm data/tmp/44764aa6-a1f8-4a3d-b942-3a049c77f36b.dcm\n",
      "cp s3://idc-open-data/fb556b73-d1be-4b03-b42f-2291b5ea2d38/44f316cd-efcc-4641-a5dd-c42cf7b32c37.dcm data/tmp/44f316cd-efcc-4641-a5dd-c42cf7b32c37.dcm\n",
      "cp s3://idc-open-data/fb556b73-d1be-4b03-b42f-2291b5ea2d38/455a249e-6d3c-4af9-96ce-7a2f9a20891c.dcm data/tmp/455a249e-6d3c-4af9-96ce-7a2f9a20891c.dcm\n",
      "cp s3://idc-open-data/fb556b73-d1be-4b03-b42f-2291b5ea2d38/4588f63c-1256-4aea-886d-850a334fc739.dcm data/tmp/4588f63c-1256-4aea-886d-850a334fc739.dcm\n",
      "cp s3://idc-open-data/fb556b73-d1be-4b03-b42f-2291b5ea2d38/4e960fac-7470-47b6-863c-e0fcc65db402.dcm data/tmp/4e960fac-7470-47b6-863c-e0fcc65db402.dcm\n",
      "cp s3://idc-open-data/fb556b73-d1be-4b03-b42f-2291b5ea2d38/53f3eba9-4f4d-40f1-96c4-1c35c7724591.dcm data/tmp/53f3eba9-4f4d-40f1-96c4-1c35c7724591.dcm\n",
      "cp s3://idc-open-data/fb556b73-d1be-4b03-b42f-2291b5ea2d38/55cc0a2d-881c-4c98-bad6-72bf044d4a9b.dcm data/tmp/55cc0a2d-881c-4c98-bad6-72bf044d4a9b.dcm\n",
      "cp s3://idc-open-data/fb556b73-d1be-4b03-b42f-2291b5ea2d38/5652e8f6-e9e5-4d50-9d13-2d6e0efddd42.dcm data/tmp/5652e8f6-e9e5-4d50-9d13-2d6e0efddd42.dcm\n",
      "cp s3://idc-open-data/fb556b73-d1be-4b03-b42f-2291b5ea2d38/57b322a2-f46d-4e66-a171-0bbfa239b34b.dcm data/tmp/57b322a2-f46d-4e66-a171-0bbfa239b34b.dcm\n",
      "cp s3://idc-open-data/fb556b73-d1be-4b03-b42f-2291b5ea2d38/5e6bdbda-db94-4d0a-a249-7b61a08ef293.dcm data/tmp/5e6bdbda-db94-4d0a-a249-7b61a08ef293.dcm\n",
      "cp s3://idc-open-data/fb556b73-d1be-4b03-b42f-2291b5ea2d38/60d209de-4196-40d9-9739-df3a2ae42d12.dcm data/tmp/60d209de-4196-40d9-9739-df3a2ae42d12.dcm\n",
      "cp s3://idc-open-data/fb556b73-d1be-4b03-b42f-2291b5ea2d38/634a01c6-2a25-456d-80b2-862ffb6b9c91.dcm data/tmp/634a01c6-2a25-456d-80b2-862ffb6b9c91.dcm\n",
      "cp s3://idc-open-data/fb556b73-d1be-4b03-b42f-2291b5ea2d38/65358ba7-d30a-4c60-b578-f23b5c5e7de1.dcm data/tmp/65358ba7-d30a-4c60-b578-f23b5c5e7de1.dcm\n",
      "cp s3://idc-open-data/fb556b73-d1be-4b03-b42f-2291b5ea2d38/65a97f0b-94f4-482b-86a1-d5516cd0085d.dcm data/tmp/65a97f0b-94f4-482b-86a1-d5516cd0085d.dcm\n",
      "cp s3://idc-open-data/fb556b73-d1be-4b03-b42f-2291b5ea2d38/66325960-ef3a-4f83-af4c-eee63b1ad333.dcm data/tmp/66325960-ef3a-4f83-af4c-eee63b1ad333.dcm\n",
      "cp s3://idc-open-data/fb556b73-d1be-4b03-b42f-2291b5ea2d38/67228a66-382a-4532-b5ca-b97585df92ad.dcm data/tmp/67228a66-382a-4532-b5ca-b97585df92ad.dcm\n",
      "cp s3://idc-open-data/fb556b73-d1be-4b03-b42f-2291b5ea2d38/6802a0e8-8234-440a-9064-d0fffb4ffe5e.dcm data/tmp/6802a0e8-8234-440a-9064-d0fffb4ffe5e.dcm\n",
      "cp s3://idc-open-data/fb556b73-d1be-4b03-b42f-2291b5ea2d38/6a380050-4147-4eb9-9256-e9f90525722a.dcm data/tmp/6a380050-4147-4eb9-9256-e9f90525722a.dcm\n",
      "cp s3://idc-open-data/fb556b73-d1be-4b03-b42f-2291b5ea2d38/6b63a2ca-98c9-4b44-8ed1-3213ce03136d.dcm data/tmp/6b63a2ca-98c9-4b44-8ed1-3213ce03136d.dcm\n",
      "cp s3://idc-open-data/fb556b73-d1be-4b03-b42f-2291b5ea2d38/6bb0d2a4-7e94-40ee-82a3-22ab975ee09a.dcm data/tmp/6bb0d2a4-7e94-40ee-82a3-22ab975ee09a.dcm\n",
      "cp s3://idc-open-data/fb556b73-d1be-4b03-b42f-2291b5ea2d38/6c495e97-16f9-4433-951b-2bb7892145d4.dcm data/tmp/6c495e97-16f9-4433-951b-2bb7892145d4.dcm\n",
      "cp s3://idc-open-data/fb556b73-d1be-4b03-b42f-2291b5ea2d38/74049845-48bd-438d-ba67-089af89089d3.dcm data/tmp/74049845-48bd-438d-ba67-089af89089d3.dcm\n",
      "cp s3://idc-open-data/fb556b73-d1be-4b03-b42f-2291b5ea2d38/74742529-b84a-46d0-8132-74f4c57b37d4.dcm data/tmp/74742529-b84a-46d0-8132-74f4c57b37d4.dcm\n",
      "cp s3://idc-open-data/fb556b73-d1be-4b03-b42f-2291b5ea2d38/77faed00-33c5-43bf-86df-fb98eadb21d6.dcm data/tmp/77faed00-33c5-43bf-86df-fb98eadb21d6.dcm\n",
      "cp s3://idc-open-data/fb556b73-d1be-4b03-b42f-2291b5ea2d38/785fd85b-345f-4c30-bf6e-27c6861f958d.dcm data/tmp/785fd85b-345f-4c30-bf6e-27c6861f958d.dcm\n",
      "cp s3://idc-open-data/fb556b73-d1be-4b03-b42f-2291b5ea2d38/789d5b45-f6e0-4e56-844b-e8bf41b27fc1.dcm data/tmp/789d5b45-f6e0-4e56-844b-e8bf41b27fc1.dcm\n",
      "cp s3://idc-open-data/fb556b73-d1be-4b03-b42f-2291b5ea2d38/7a13baf2-922e-4ec7-acc6-8b800d35ff85.dcm data/tmp/7a13baf2-922e-4ec7-acc6-8b800d35ff85.dcm\n",
      "cp s3://idc-open-data/fb556b73-d1be-4b03-b42f-2291b5ea2d38/81499bdf-9443-4b80-81fd-25e03b5ceb3e.dcm data/tmp/81499bdf-9443-4b80-81fd-25e03b5ceb3e.dcm\n",
      "cp s3://idc-open-data/fb556b73-d1be-4b03-b42f-2291b5ea2d38/83759912-1a54-4887-88fc-e9843678e577.dcm data/tmp/83759912-1a54-4887-88fc-e9843678e577.dcm\n",
      "cp s3://idc-open-data/fb556b73-d1be-4b03-b42f-2291b5ea2d38/850f59a2-ff7a-448c-bcfa-abb84f2de1dc.dcm data/tmp/850f59a2-ff7a-448c-bcfa-abb84f2de1dc.dcm\n",
      "cp s3://idc-open-data/fb556b73-d1be-4b03-b42f-2291b5ea2d38/8a60b8a3-b3bf-4252-a65c-1ce3699d96aa.dcm data/tmp/8a60b8a3-b3bf-4252-a65c-1ce3699d96aa.dcm\n",
      "cp s3://idc-open-data/fb556b73-d1be-4b03-b42f-2291b5ea2d38/8cc19f7d-f12b-49b0-8120-2b8c095c7d3c.dcm data/tmp/8cc19f7d-f12b-49b0-8120-2b8c095c7d3c.dcm\n",
      "cp s3://idc-open-data/fb556b73-d1be-4b03-b42f-2291b5ea2d38/8cf3384a-f656-4e59-8dcb-f1ac7bac1074.dcm data/tmp/8cf3384a-f656-4e59-8dcb-f1ac7bac1074.dcm\n",
      "cp s3://idc-open-data/fb556b73-d1be-4b03-b42f-2291b5ea2d38/8db91542-3c8a-4df0-bd9b-5dd1b2be5473.dcm data/tmp/8db91542-3c8a-4df0-bd9b-5dd1b2be5473.dcm\n",
      "cp s3://idc-open-data/fb556b73-d1be-4b03-b42f-2291b5ea2d38/8dd7c046-badc-4c0c-9a34-8ffa3e6ed680.dcm data/tmp/8dd7c046-badc-4c0c-9a34-8ffa3e6ed680.dcm\n",
      "cp s3://idc-open-data/fb556b73-d1be-4b03-b42f-2291b5ea2d38/8ee5ac64-a3d9-4a4d-a6ab-64c8804499fb.dcm data/tmp/8ee5ac64-a3d9-4a4d-a6ab-64c8804499fb.dcm\n",
      "cp s3://idc-open-data/fb556b73-d1be-4b03-b42f-2291b5ea2d38/930c5077-dabb-4dae-a8e8-f29162ad7f72.dcm data/tmp/930c5077-dabb-4dae-a8e8-f29162ad7f72.dcm\n",
      "cp s3://idc-open-data/fb556b73-d1be-4b03-b42f-2291b5ea2d38/942471e1-5d83-4619-8f47-4a32be4e91f1.dcm data/tmp/942471e1-5d83-4619-8f47-4a32be4e91f1.dcm\n",
      "cp s3://idc-open-data/fb556b73-d1be-4b03-b42f-2291b5ea2d38/94d5103c-9515-4772-93c3-279ca5623e55.dcm data/tmp/94d5103c-9515-4772-93c3-279ca5623e55.dcm\n",
      "cp s3://idc-open-data/fb556b73-d1be-4b03-b42f-2291b5ea2d38/96e3e285-9604-4fff-a4a9-f6f926056ad4.dcm data/tmp/96e3e285-9604-4fff-a4a9-f6f926056ad4.dcm\n",
      "cp s3://idc-open-data/fb556b73-d1be-4b03-b42f-2291b5ea2d38/9ec0d289-eb4a-4676-ae03-e2519f068f82.dcm data/tmp/9ec0d289-eb4a-4676-ae03-e2519f068f82.dcm\n",
      "cp s3://idc-open-data/fb556b73-d1be-4b03-b42f-2291b5ea2d38/a5cea9ee-0fd1-4cc4-9a09-2badae6b06b0.dcm data/tmp/a5cea9ee-0fd1-4cc4-9a09-2badae6b06b0.dcm\n",
      "cp s3://idc-open-data/fb556b73-d1be-4b03-b42f-2291b5ea2d38/a70e9ab5-6c1e-4c94-96c3-9b1c7643af35.dcm data/tmp/a70e9ab5-6c1e-4c94-96c3-9b1c7643af35.dcm\n",
      "cp s3://idc-open-data/fb556b73-d1be-4b03-b42f-2291b5ea2d38/ad4bff6a-4c20-49d7-b064-18ca3c1590dc.dcm data/tmp/ad4bff6a-4c20-49d7-b064-18ca3c1590dc.dcm\n",
      "cp s3://idc-open-data/fb556b73-d1be-4b03-b42f-2291b5ea2d38/aecafd0d-4650-4afb-85ad-e20e2f7f5cc3.dcm data/tmp/aecafd0d-4650-4afb-85ad-e20e2f7f5cc3.dcm\n",
      "cp s3://idc-open-data/fb556b73-d1be-4b03-b42f-2291b5ea2d38/aecf14ba-2a40-4618-a3d0-cd9474774daf.dcm data/tmp/aecf14ba-2a40-4618-a3d0-cd9474774daf.dcm\n",
      "cp s3://idc-open-data/fb556b73-d1be-4b03-b42f-2291b5ea2d38/b7c50e28-703e-4b66-a163-073612db762e.dcm data/tmp/b7c50e28-703e-4b66-a163-073612db762e.dcm\n",
      "cp s3://idc-open-data/fb556b73-d1be-4b03-b42f-2291b5ea2d38/bb840831-ba12-4afa-90b5-08bae5daae44.dcm data/tmp/bb840831-ba12-4afa-90b5-08bae5daae44.dcm\n",
      "cp s3://idc-open-data/fb556b73-d1be-4b03-b42f-2291b5ea2d38/bcfb1a1e-9cf4-49d8-8a3c-f4c25f8d0433.dcm data/tmp/bcfb1a1e-9cf4-49d8-8a3c-f4c25f8d0433.dcm\n",
      "cp s3://idc-open-data/fb556b73-d1be-4b03-b42f-2291b5ea2d38/bd74688a-4235-4598-b32c-428ad8607e37.dcm data/tmp/bd74688a-4235-4598-b32c-428ad8607e37.dcm\n",
      "cp s3://idc-open-data/fb556b73-d1be-4b03-b42f-2291b5ea2d38/c2bb414e-de16-42a3-ac82-ff0eb27a2ef0.dcm data/tmp/c2bb414e-de16-42a3-ac82-ff0eb27a2ef0.dcm\n",
      "cp s3://idc-open-data/fb556b73-d1be-4b03-b42f-2291b5ea2d38/c62df1b5-cddd-462c-83c6-0c51c978b54c.dcm data/tmp/c62df1b5-cddd-462c-83c6-0c51c978b54c.dcm\n",
      "cp s3://idc-open-data/fb556b73-d1be-4b03-b42f-2291b5ea2d38/d13356f6-05e0-46c6-a356-6407a86085aa.dcm data/tmp/d13356f6-05e0-46c6-a356-6407a86085aa.dcm\n",
      "cp s3://idc-open-data/fb556b73-d1be-4b03-b42f-2291b5ea2d38/d3522094-e195-4e56-854a-8fa3d0232eb9.dcm data/tmp/d3522094-e195-4e56-854a-8fa3d0232eb9.dcm\n",
      "cp s3://idc-open-data/fb556b73-d1be-4b03-b42f-2291b5ea2d38/d9ea8be2-0172-41a8-a40c-640f2ab79739.dcm data/tmp/d9ea8be2-0172-41a8-a40c-640f2ab79739.dcm\n",
      "cp s3://idc-open-data/fb556b73-d1be-4b03-b42f-2291b5ea2d38/e69bad6f-d95f-41c2-8600-f52bbbb694d6.dcm data/tmp/e69bad6f-d95f-41c2-8600-f52bbbb694d6.dcm\n",
      "cp s3://idc-open-data/fb556b73-d1be-4b03-b42f-2291b5ea2d38/f71149d6-8fd1-4394-a582-fb0b3fd2d11e.dcm data/tmp/f71149d6-8fd1-4394-a582-fb0b3fd2d11e.dcm\n",
      "cp s3://idc-open-data/fb556b73-d1be-4b03-b42f-2291b5ea2d38/ff955a8a-5912-499b-b80c-fc010c75fef2.dcm data/tmp/ff955a8a-5912-499b-b80c-fc010c75fef2.dcm\n"
     ]
    }
   ],
   "source": [
    "rt_url = client.get_series_file_URLs(rt_widget.value)[0]\n",
    "s5cmd = client.s5cmdPath\n",
    "\n",
    "TMP_DIR = Path(\"data\") / \"tmp\"\n",
    "TMP_DIR.mkdir(parents=True, exist_ok=True)\n",
    "print(\"Downloading RTSTRUCT file...\")\n",
    "! $s5cmd --no-sign-request --endpoint-url https://s3.amazonaws.com cp --show-progress  $rt_url $TMP_DIR\n",
    "\n",
    "rt_path = TMP_DIR.iterdir().__next__()\n",
    "print(f\"Downloaded RTSTRUCT file to {rt_path}\")\n",
    "\n",
    "ds = dcmread(rt_path, stop_before_pixels=True, specific_tags=['ReferencedFrameOfReferenceSequence', 'StructureSetROISequence'])\n",
    "\n",
    "referenced_ct = ds.ReferencedFrameOfReferenceSequence[0].RTReferencedStudySequence[0].RTReferencedSeriesSequence[0].SeriesInstanceUID\n",
    "print(f\"Referenced CT Series: {referenced_ct}\")\n",
    "\n",
    "ct_urls = client.get_series_file_URLs(referenced_ct)\n",
    "\n",
    "for ct_url in tqdm(ct_urls, desc=\"Downloading CT files\"):\n",
    "  subprocess.run([s5cmd, \"--no-sign-request\", \"--endpoint-url\", \"https://s3.amazonaws.com\", \"sync\", ct_url, TMP_DIR])"
   ]
  },
  {
   "cell_type": "code",
   "execution_count": 43,
   "metadata": {},
   "outputs": [
    {
     "data": {
      "application/vnd.jupyter.widget-view+json": {
       "model_id": "d973010728a84f5ca19234508fdcb052",
       "version_major": 2,
       "version_minor": 0
      },
      "text/plain": [
       "Output()"
      ]
     },
     "metadata": {},
     "output_type": "display_data"
    },
    {
     "data": {
      "text/html": [
       "<pre style=\"white-space:pre;overflow-x:auto;line-height:normal;font-family:Menlo,'DejaVu Sans Mono',consolas,'Courier New',monospace\"></pre>\n"
      ],
      "text/plain": []
     },
     "metadata": {},
     "output_type": "display_data"
    },
    {
     "data": {
      "application/vnd.jupyter.widget-view+json": {
       "model_id": "d695768bb7cd4398a3ae2754bd6e92f6",
       "version_major": 2,
       "version_minor": 0
      },
      "text/plain": [
       "Output()"
      ]
     },
     "metadata": {},
     "output_type": "display_data"
    },
    {
     "data": {
      "text/html": [
       "<pre style=\"white-space:pre;overflow-x:auto;line-height:normal;font-family:Menlo,'DejaVu Sans Mono',consolas,'Courier New',monospace\"></pre>\n"
      ],
      "text/plain": []
     },
     "metadata": {},
     "output_type": "display_data"
    },
    {
     "name": "stdout",
     "output_type": "stream",
     "text": [
      "New Directory Structure: \n",
      "\u001b[01;34m.\u001b[0m\n",
      "└── \u001b[01;34mdata\u001b[0m\n",
      "    ├── \u001b[01;34m4d_lung\u001b[0m\n",
      "    │   └── \u001b[01;34mPatient-117_HM10395\u001b[0m\n",
      "    │       └── \u001b[01;34mStudyUID-01309\u001b[0m\n",
      "    │           ├── \u001b[01;34mCT-SeriesUID22170\u001b[0m\n",
      "    │           └── \u001b[01;34mRTSTRUCT-SeriesUID72.68\u001b[0m\n",
      "    └── \u001b[01;34mtmp\u001b[0m\n",
      "\n",
      "8 directories\n"
     ]
    }
   ],
   "source": [
    "from imgtools.dicom.sort import DICOMSorter, FileAction \n",
    "\n",
    "sorted_path = TMP_DIR.parent / collection_widget.value\n",
    "\n",
    "if sorted_path.exists():\n",
    "  raise FileExistsError(f\"Sorted Path Exists, please remove `{sorted_path}`\")\n",
    "\n",
    "dicomsorter = DICOMSorter(\n",
    "  source_directory=TMP_DIR.absolute(),\n",
    "  target_pattern=Path(\n",
    "    sorted_path,\n",
    "    \"Patient-%PatientID/StudyUID-%StudyInstanceUID/%Modality-SeriesUID%SeriesInstanceUID/\"\n",
    "  ).as_posix(),\n",
    ")\n",
    "dicomsorter.execute(action=\"symlink\")\n",
    "\n",
    "print(\"New Directory Structure: \")\n",
    "! tree -d $(TMP_DIR.parent.absolute() / collection_widget.value) "
   ]
  }
 ],
 "metadata": {
  "kernelspec": {
   "display_name": "default",
   "language": "python",
   "name": "python3"
  },
  "language_info": {
   "codemirror_mode": {
    "name": "ipython",
    "version": 3
   },
   "file_extension": ".py",
   "mimetype": "text/x-python",
   "name": "python",
   "nbconvert_exporter": "python",
   "pygments_lexer": "ipython3",
   "version": "3.12.7"
  }
 },
 "nbformat": 4,
 "nbformat_minor": 2
}
