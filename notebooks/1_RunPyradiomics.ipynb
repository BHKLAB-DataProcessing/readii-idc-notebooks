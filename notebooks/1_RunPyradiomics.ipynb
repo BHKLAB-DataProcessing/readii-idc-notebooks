{
 "cells": [
  {
   "cell_type": "markdown",
   "metadata": {},
   "source": [
    "[![Open In Colab](https://colab.research.google.com/assets/colab-badge.svg)](https://colab.research.google.com/github/BHKLAB-DataProcessing/readii-idc-notebooks/blob/jjjermiah-dev/notebooks/1_RunPyradiomics.ipynb)"
   ]
  },
  {
   "cell_type": "code",
   "execution_count": null,
   "metadata": {},
   "outputs": [],
   "source": [
    "try:\n",
    "    import google.colab\n",
    "    IN_COLAB = True\n",
    "except:\n",
    "    IN_COLAB = False\n",
    "\n",
    "if IN_COLAB:\n",
    "    !curl -fsSL https://pixi.sh/install.sh | bash\n",
    "\n",
    "    # get pixi.toml and pixi.lock from github based on commit \n",
    "    pixifile = 'https://raw.githubusercontent.com/BHKLAB-DataProcessing/readii-idc-notebooks/refs/heads/jjjermiah/dev/pixi.toml'\n",
    "    lockfile = 'https://raw.githubusercontent.com/BHKLAB-DataProcessing/readii-idc-notebooks/refs/heads/jjjermiah/dev/pixi.lock'\n",
    "    !curl -fsSL $pixifile > pixi.toml\n",
    "    !curl -fsSL $lockfile > pixi.lock\n",
    "\n",
    "    pixi = '/root/.pixi/bin/pixi'\n"
   ]
  },
  {
   "cell_type": "code",
   "execution_count": 8,
   "metadata": {},
   "outputs": [],
   "source": [
    "from __future__ import annotations\n",
    "\n",
    "from pathlib import Path\n",
    "from rich import print\n",
    "import pandas as pd\n",
    "import re\n",
    "from dataclasses import dataclass, field\n",
    "from typing import Any, Dict, Iterator, List, Union, NamedTuple\n",
    "from collections import namedtuple\n",
    "\n",
    "from readii.io.utils.pattern_resolver import PatternResolver\n",
    "from readii.utils import logger\n",
    "\n",
    "from pathlib import Path\n",
    "import logging\n",
    "\n",
    "pyradiomics_logger = logging.getLogger(\"radiomics\")\n",
    "pyradiomics_logger.setLevel(logging.ERROR)"
   ]
  },
  {
   "cell_type": "markdown",
   "metadata": {},
   "source": [
    "# Setup and Configuration"
   ]
  },
  {
   "cell_type": "code",
   "execution_count": 9,
   "metadata": {},
   "outputs": [],
   "source": [
    "# a Save data to local directory\n",
    "DATA_DIR = Path(\"data\")\n",
    "\n",
    "# If you choose a different collection in the setup notebook, you will need to change this value\n",
    "COLLECTION_ID = \"nsclc_radiomics\"\n",
    "\n",
    "NIFTI_OUTPUT_DIR = DATA_DIR / \"images\" / COLLECTION_ID / \"niftis\"\n",
    "\n",
    "PYRADIOMICS_CONFIG = Path().cwd().parent / \"pyradiomics.yaml\"\n",
    "\n",
    "\n",
    "\n",
    "IMAGE_TYPES = [\n",
    "    \"shuffled_full\",\n",
    "    \"shuffled_roi\",\n",
    "    \"shuffled_non_roi\",\n",
    "    \"randomized_sampled_full\",\n",
    "    \"randomized_sampled_roi\",\n",
    "    \"randomized_sampled_non_roi\",\n",
    "]"
   ]
  },
  {
   "cell_type": "code",
   "execution_count": 10,
   "metadata": {},
   "outputs": [
    {
     "name": "stdout",
     "output_type": "stream",
     "text": [
      "\u001b[01;34mdata/images/nsclc_radiomics/niftis\u001b[0m/\n",
      "├── \u001b[01;34mSubjectID-0_LUNG1-162\u001b[0m/\n",
      "│   └── \u001b[01;34mStudyUID-21249\u001b[0m/\n",
      "│       ├── \u001b[01;34mCT_SeriesUID-72433\u001b[0m/\n",
      "│       │   ├── \u001b[01;31moriginal.nii.gz\u001b[0m\n",
      "│       │   ├── \u001b[01;31mrandomized_sampled_full.nii.gz\u001b[0m\n",
      "│       │   ├── \u001b[01;31mrandomized_sampled_non_roi.nii.gz\u001b[0m\n",
      "│       │   ├── \u001b[01;31mrandomized_sampled_roi.nii.gz\u001b[0m\n",
      "│       │   ├── \u001b[01;31mshuffled_full.nii.gz\u001b[0m\n",
      "│       │   ├── \u001b[01;31mshuffled_non_roi.nii.gz\u001b[0m\n",
      "│       │   └── \u001b[01;31mshuffled_roi.nii.gz\u001b[0m\n",
      "│       └── \u001b[01;34mRTSTRUCT_SeriesUID-38612\u001b[0m/\n",
      "│           └── \u001b[01;31mGTV.nii.gz\u001b[0m\n",
      "├── \u001b[01;34mSubjectID-1_LUNG1-101\u001b[0m/\n",
      "│   └── \u001b[01;34mStudyUID-27911\u001b[0m/\n",
      "│       ├── \u001b[01;34mCT_SeriesUID-55665\u001b[0m/\n",
      "│       │   ├── \u001b[01;31moriginal.nii.gz\u001b[0m\n",
      "│       │   ├── \u001b[01;31mrandomized_sampled_full.nii.gz\u001b[0m\n",
      "│       │   ├── \u001b[01;31mrandomized_sampled_non_roi.nii.gz\u001b[0m\n",
      "│       │   ├── \u001b[01;31mrandomized_sampled_roi.nii.gz\u001b[0m\n",
      "│       │   ├── \u001b[01;31mshuffled_full.nii.gz\u001b[0m\n",
      "│       │   ├── \u001b[01;31mshuffled_non_roi.nii.gz\u001b[0m\n",
      "│       │   └── \u001b[01;31mshuffled_roi.nii.gz\u001b[0m\n",
      "│       └── \u001b[01;34mRTSTRUCT_SeriesUID-25865\u001b[0m/\n",
      "│           └── \u001b[01;31mGTV.nii.gz\u001b[0m\n",
      "└── \u001b[01;34mSubjectID-2_LUNG1-108\u001b[0m/\n",
      "    └── \u001b[01;34mStudyUID-62453\u001b[0m/\n",
      "        ├── \u001b[01;34mCT_SeriesUID-81484\u001b[0m/\n",
      "        │   ├── \u001b[01;31moriginal.nii.gz\u001b[0m\n",
      "        │   ├── \u001b[01;31mrandomized_sampled_full.nii.gz\u001b[0m\n",
      "        │   ├── \u001b[01;31mrandomized_sampled_non_roi.nii.gz\u001b[0m\n",
      "        │   ├── \u001b[01;31mrandomized_sampled_roi.nii.gz\u001b[0m\n",
      "        │   ├── \u001b[01;31mshuffled_full.nii.gz\u001b[0m\n",
      "        │   ├── \u001b[01;31mshuffled_non_roi.nii.gz\u001b[0m\n",
      "        │   └── \u001b[01;31mshuffled_roi.nii.gz\u001b[0m\n",
      "        └── \u001b[01;34mRTSTRUCT_SeriesUID-99496\u001b[0m/\n",
      "            └── \u001b[01;31mGTV.nii.gz\u001b[0m\n",
      "\n",
      "13 directories, 24 files\n"
     ]
    }
   ],
   "source": [
    "! tree -F $NIFTI_OUTPUT_DIR"
   ]
  },
  {
   "cell_type": "code",
   "execution_count": 18,
   "metadata": {},
   "outputs": [
    {
     "data": {
      "text/html": [
       "<pre style=\"white-space:pre;overflow-x:auto;line-height:normal;font-family:Menlo,'DejaVu Sans Mono',consolas,'Courier New',monospace\">0_LUNG1-<span style=\"color: #008080; text-decoration-color: #008080; font-weight: bold\">162</span>\n",
       "</pre>\n"
      ],
      "text/plain": [
       "0_LUNG1-\u001b[1;36m162\u001b[0m\n"
      ]
     },
     "metadata": {},
     "output_type": "display_data"
    },
    {
     "name": "stdout",
     "output_type": "stream",
     "text": [
      "<class 'pandas.core.frame.DataFrame'>\n",
      "Index: 8 entries, 0 to 7\n",
      "Data columns (total 6 columns):\n",
      " #   Column             Non-Null Count  Dtype \n",
      "---  ------             --------------  ----- \n",
      " 0   PatientID          8 non-null      object\n",
      " 1   StudyInstanceUID   8 non-null      object\n",
      " 2   Modality           8 non-null      object\n",
      " 3   SeriesInstanceUID  8 non-null      object\n",
      " 4   IMAGE_ID           8 non-null      object\n",
      " 5   filepath           8 non-null      object\n",
      "dtypes: object(6)\n",
      "memory usage: 448.0+ bytes\n"
     ]
    },
    {
     "data": {
      "text/html": [
       "<pre style=\"white-space:pre;overflow-x:auto;line-height:normal;font-family:Menlo,'DejaVu Sans Mono',consolas,'Courier New',monospace\"><span style=\"color: #800080; text-decoration-color: #800080; font-style: italic\">None</span>\n",
       "</pre>\n"
      ],
      "text/plain": [
       "\u001b[3;35mNone\u001b[0m\n"
      ]
     },
     "metadata": {},
     "output_type": "display_data"
    },
    {
     "data": {
      "text/html": [
       "<pre style=\"white-space:pre;overflow-x:auto;line-height:normal;font-family:Menlo,'DejaVu Sans Mono',consolas,'Courier New',monospace\"><span style=\"color: #800080; text-decoration-color: #800080; font-weight: bold\">Pandas</span><span style=\"font-weight: bold\">(</span>\n",
       "    <span style=\"color: #808000; text-decoration-color: #808000\">Index</span>=<span style=\"color: #008080; text-decoration-color: #008080; font-weight: bold\">0</span>,\n",
       "    <span style=\"color: #808000; text-decoration-color: #808000\">PatientID</span>=<span style=\"color: #008000; text-decoration-color: #008000\">'0_LUNG1-162'</span>,\n",
       "    <span style=\"color: #808000; text-decoration-color: #808000\">StudyInstanceUID</span>=<span style=\"color: #008000; text-decoration-color: #008000\">'21249'</span>,\n",
       "    <span style=\"color: #808000; text-decoration-color: #808000\">Modality</span>=<span style=\"color: #008000; text-decoration-color: #008000\">'CT'</span>,\n",
       "    <span style=\"color: #808000; text-decoration-color: #808000\">SeriesInstanceUID</span>=<span style=\"color: #008000; text-decoration-color: #008000\">'72433'</span>,\n",
       "    <span style=\"color: #808000; text-decoration-color: #808000\">IMAGE_ID</span>=<span style=\"color: #008000; text-decoration-color: #008000\">'randomized_sampled_non_roi'</span>,\n",
       "    <span style=\"color: #808000; text-decoration-color: #808000\">filepath</span>=<span style=\"color: #008000; text-decoration-color: #008000\">'data/images/nsclc_radiomics/niftis/SubjectID-0_LUNG1-162/StudyUID-21249/CT_SeriesUID-72433/randomized</span>\n",
       "<span style=\"color: #008000; text-decoration-color: #008000\">_sampled_non_roi.nii.gz'</span>\n",
       "<span style=\"font-weight: bold\">)</span>\n",
       "</pre>\n"
      ],
      "text/plain": [
       "\u001b[1;35mPandas\u001b[0m\u001b[1m(\u001b[0m\n",
       "    \u001b[33mIndex\u001b[0m=\u001b[1;36m0\u001b[0m,\n",
       "    \u001b[33mPatientID\u001b[0m=\u001b[32m'0_LUNG1-162'\u001b[0m,\n",
       "    \u001b[33mStudyInstanceUID\u001b[0m=\u001b[32m'21249'\u001b[0m,\n",
       "    \u001b[33mModality\u001b[0m=\u001b[32m'CT'\u001b[0m,\n",
       "    \u001b[33mSeriesInstanceUID\u001b[0m=\u001b[32m'72433'\u001b[0m,\n",
       "    \u001b[33mIMAGE_ID\u001b[0m=\u001b[32m'randomized_sampled_non_roi'\u001b[0m,\n",
       "    \u001b[33mfilepath\u001b[0m=\u001b[32m'data/images/nsclc_radiomics/niftis/SubjectID-0_LUNG1-162/StudyUID-21249/CT_SeriesUID-72433/randomized\u001b[0m\n",
       "\u001b[32m_sampled_non_roi.nii.gz'\u001b[0m\n",
       "\u001b[1m)\u001b[0m\n"
      ]
     },
     "metadata": {},
     "output_type": "display_data"
    },
    {
     "data": {
      "text/html": [
       "<pre style=\"white-space:pre;overflow-x:auto;line-height:normal;font-family:Menlo,'DejaVu Sans Mono',consolas,'Courier New',monospace\">1_LUNG1-<span style=\"color: #008080; text-decoration-color: #008080; font-weight: bold\">101</span>\n",
       "</pre>\n"
      ],
      "text/plain": [
       "1_LUNG1-\u001b[1;36m101\u001b[0m\n"
      ]
     },
     "metadata": {},
     "output_type": "display_data"
    },
    {
     "name": "stdout",
     "output_type": "stream",
     "text": [
      "<class 'pandas.core.frame.DataFrame'>\n",
      "Index: 8 entries, 8 to 15\n",
      "Data columns (total 6 columns):\n",
      " #   Column             Non-Null Count  Dtype \n",
      "---  ------             --------------  ----- \n",
      " 0   PatientID          8 non-null      object\n",
      " 1   StudyInstanceUID   8 non-null      object\n",
      " 2   Modality           8 non-null      object\n",
      " 3   SeriesInstanceUID  8 non-null      object\n",
      " 4   IMAGE_ID           8 non-null      object\n",
      " 5   filepath           8 non-null      object\n",
      "dtypes: object(6)\n",
      "memory usage: 448.0+ bytes\n"
     ]
    },
    {
     "data": {
      "text/html": [
       "<pre style=\"white-space:pre;overflow-x:auto;line-height:normal;font-family:Menlo,'DejaVu Sans Mono',consolas,'Courier New',monospace\"><span style=\"color: #800080; text-decoration-color: #800080; font-style: italic\">None</span>\n",
       "</pre>\n"
      ],
      "text/plain": [
       "\u001b[3;35mNone\u001b[0m\n"
      ]
     },
     "metadata": {},
     "output_type": "display_data"
    },
    {
     "data": {
      "text/html": [
       "<pre style=\"white-space:pre;overflow-x:auto;line-height:normal;font-family:Menlo,'DejaVu Sans Mono',consolas,'Courier New',monospace\"><span style=\"color: #800080; text-decoration-color: #800080; font-weight: bold\">Pandas</span><span style=\"font-weight: bold\">(</span>\n",
       "    <span style=\"color: #808000; text-decoration-color: #808000\">Index</span>=<span style=\"color: #008080; text-decoration-color: #008080; font-weight: bold\">8</span>,\n",
       "    <span style=\"color: #808000; text-decoration-color: #808000\">PatientID</span>=<span style=\"color: #008000; text-decoration-color: #008000\">'1_LUNG1-101'</span>,\n",
       "    <span style=\"color: #808000; text-decoration-color: #808000\">StudyInstanceUID</span>=<span style=\"color: #008000; text-decoration-color: #008000\">'27911'</span>,\n",
       "    <span style=\"color: #808000; text-decoration-color: #808000\">Modality</span>=<span style=\"color: #008000; text-decoration-color: #008000\">'RTSTRUCT'</span>,\n",
       "    <span style=\"color: #808000; text-decoration-color: #808000\">SeriesInstanceUID</span>=<span style=\"color: #008000; text-decoration-color: #008000\">'25865'</span>,\n",
       "    <span style=\"color: #808000; text-decoration-color: #808000\">IMAGE_ID</span>=<span style=\"color: #008000; text-decoration-color: #008000\">'GTV'</span>,\n",
       "    <span style=\"color: #808000; text-decoration-color: #808000\">filepath</span>=<span style=\"color: #008000; text-decoration-color: #008000\">'data/images/nsclc_radiomics/niftis/SubjectID-1_LUNG1-101/StudyUID-27911/RTSTRUCT_SeriesUID-25865/GTV.</span>\n",
       "<span style=\"color: #008000; text-decoration-color: #008000\">nii.gz'</span>\n",
       "<span style=\"font-weight: bold\">)</span>\n",
       "</pre>\n"
      ],
      "text/plain": [
       "\u001b[1;35mPandas\u001b[0m\u001b[1m(\u001b[0m\n",
       "    \u001b[33mIndex\u001b[0m=\u001b[1;36m8\u001b[0m,\n",
       "    \u001b[33mPatientID\u001b[0m=\u001b[32m'1_LUNG1-101'\u001b[0m,\n",
       "    \u001b[33mStudyInstanceUID\u001b[0m=\u001b[32m'27911'\u001b[0m,\n",
       "    \u001b[33mModality\u001b[0m=\u001b[32m'RTSTRUCT'\u001b[0m,\n",
       "    \u001b[33mSeriesInstanceUID\u001b[0m=\u001b[32m'25865'\u001b[0m,\n",
       "    \u001b[33mIMAGE_ID\u001b[0m=\u001b[32m'GTV'\u001b[0m,\n",
       "    \u001b[33mfilepath\u001b[0m=\u001b[32m'data/images/nsclc_radiomics/niftis/SubjectID-1_LUNG1-101/StudyUID-27911/RTSTRUCT_SeriesUID-25865/GTV.\u001b[0m\n",
       "\u001b[32mnii.gz'\u001b[0m\n",
       "\u001b[1m)\u001b[0m\n"
      ]
     },
     "metadata": {},
     "output_type": "display_data"
    },
    {
     "data": {
      "text/html": [
       "<pre style=\"white-space:pre;overflow-x:auto;line-height:normal;font-family:Menlo,'DejaVu Sans Mono',consolas,'Courier New',monospace\">2_LUNG1-<span style=\"color: #008080; text-decoration-color: #008080; font-weight: bold\">108</span>\n",
       "</pre>\n"
      ],
      "text/plain": [
       "2_LUNG1-\u001b[1;36m108\u001b[0m\n"
      ]
     },
     "metadata": {},
     "output_type": "display_data"
    },
    {
     "name": "stdout",
     "output_type": "stream",
     "text": [
      "<class 'pandas.core.frame.DataFrame'>\n",
      "Index: 8 entries, 16 to 23\n",
      "Data columns (total 6 columns):\n",
      " #   Column             Non-Null Count  Dtype \n",
      "---  ------             --------------  ----- \n",
      " 0   PatientID          8 non-null      object\n",
      " 1   StudyInstanceUID   8 non-null      object\n",
      " 2   Modality           8 non-null      object\n",
      " 3   SeriesInstanceUID  8 non-null      object\n",
      " 4   IMAGE_ID           8 non-null      object\n",
      " 5   filepath           8 non-null      object\n",
      "dtypes: object(6)\n",
      "memory usage: 448.0+ bytes\n"
     ]
    },
    {
     "data": {
      "text/html": [
       "<pre style=\"white-space:pre;overflow-x:auto;line-height:normal;font-family:Menlo,'DejaVu Sans Mono',consolas,'Courier New',monospace\"><span style=\"color: #800080; text-decoration-color: #800080; font-style: italic\">None</span>\n",
       "</pre>\n"
      ],
      "text/plain": [
       "\u001b[3;35mNone\u001b[0m\n"
      ]
     },
     "metadata": {},
     "output_type": "display_data"
    },
    {
     "data": {
      "text/html": [
       "<pre style=\"white-space:pre;overflow-x:auto;line-height:normal;font-family:Menlo,'DejaVu Sans Mono',consolas,'Courier New',monospace\"><span style=\"color: #800080; text-decoration-color: #800080; font-weight: bold\">Pandas</span><span style=\"font-weight: bold\">(</span>\n",
       "    <span style=\"color: #808000; text-decoration-color: #808000\">Index</span>=<span style=\"color: #008080; text-decoration-color: #008080; font-weight: bold\">16</span>,\n",
       "    <span style=\"color: #808000; text-decoration-color: #808000\">PatientID</span>=<span style=\"color: #008000; text-decoration-color: #008000\">'2_LUNG1-108'</span>,\n",
       "    <span style=\"color: #808000; text-decoration-color: #808000\">StudyInstanceUID</span>=<span style=\"color: #008000; text-decoration-color: #008000\">'62453'</span>,\n",
       "    <span style=\"color: #808000; text-decoration-color: #808000\">Modality</span>=<span style=\"color: #008000; text-decoration-color: #008000\">'CT'</span>,\n",
       "    <span style=\"color: #808000; text-decoration-color: #808000\">SeriesInstanceUID</span>=<span style=\"color: #008000; text-decoration-color: #008000\">'81484'</span>,\n",
       "    <span style=\"color: #808000; text-decoration-color: #808000\">IMAGE_ID</span>=<span style=\"color: #008000; text-decoration-color: #008000\">'randomized_sampled_non_roi'</span>,\n",
       "    <span style=\"color: #808000; text-decoration-color: #808000\">filepath</span>=<span style=\"color: #008000; text-decoration-color: #008000\">'data/images/nsclc_radiomics/niftis/SubjectID-2_LUNG1-108/StudyUID-62453/CT_SeriesUID-81484/randomized</span>\n",
       "<span style=\"color: #008000; text-decoration-color: #008000\">_sampled_non_roi.nii.gz'</span>\n",
       "<span style=\"font-weight: bold\">)</span>\n",
       "</pre>\n"
      ],
      "text/plain": [
       "\u001b[1;35mPandas\u001b[0m\u001b[1m(\u001b[0m\n",
       "    \u001b[33mIndex\u001b[0m=\u001b[1;36m16\u001b[0m,\n",
       "    \u001b[33mPatientID\u001b[0m=\u001b[32m'2_LUNG1-108'\u001b[0m,\n",
       "    \u001b[33mStudyInstanceUID\u001b[0m=\u001b[32m'62453'\u001b[0m,\n",
       "    \u001b[33mModality\u001b[0m=\u001b[32m'CT'\u001b[0m,\n",
       "    \u001b[33mSeriesInstanceUID\u001b[0m=\u001b[32m'81484'\u001b[0m,\n",
       "    \u001b[33mIMAGE_ID\u001b[0m=\u001b[32m'randomized_sampled_non_roi'\u001b[0m,\n",
       "    \u001b[33mfilepath\u001b[0m=\u001b[32m'data/images/nsclc_radiomics/niftis/SubjectID-2_LUNG1-108/StudyUID-62453/CT_SeriesUID-81484/randomized\u001b[0m\n",
       "\u001b[32m_sampled_non_roi.nii.gz'\u001b[0m\n",
       "\u001b[1m)\u001b[0m\n"
      ]
     },
     "metadata": {},
     "output_type": "display_data"
    }
   ],
   "source": [
    "filename_format = \"SubjectID-{SubjectID}/StudyUID-{StudyInstanceUID}/{Modality}_SeriesUID-{SeriesInstanceUID}/{IMAGE_ID}.nii.gz\"\n",
    "\n",
    "# Define the regex pattern based on the updated filename format\n",
    "filename_pattern = (\n",
    "    r\"SubjectID-(?P<PatientID>[^/]+)/\"\n",
    "    r\"StudyUID-(?P<StudyInstanceUID>[^/]+)/\"\n",
    "    r\"(?P<Modality>[^/]+)_SeriesUID-(?P<SeriesInstanceUID>[^/]+)/\"\n",
    "    r\"(?P<IMAGE_ID>[^/]+)\\.nii\\.gz\"\n",
    ")\n",
    "\n",
    "# Initialize a list to hold extracted data\n",
    "data = []\n",
    "\n",
    "# Walk through the directory structure\n",
    "for file_path in NIFTI_OUTPUT_DIR.rglob(\"*.nii.gz\"):\n",
    "    match = re.search(filename_pattern, str(file_path).replace(\"\\\\\", \"/\"))\n",
    "    if match:\n",
    "        # Add extracted data and file path to the list\n",
    "        data.append({**match.groupdict(), \"filepath\": str(file_path)})\n",
    "\n",
    "# Convert the collected data into a pandas DataFrame\n",
    "df = pd.DataFrame(data)\n",
    "\n",
    "# Print the DataFrame for verification\n",
    "for PatientID, patientdf in df.groupby(\"PatientID\"):\n",
    "    # Print the patient ID\n",
    "    print(PatientID)\n",
    "    print(patientdf.info())\n",
    "    for row in patientdf.itertuples():\n",
    "        print(row)\n",
    "        break\n"
   ]
  },
  {
   "cell_type": "code",
   "execution_count": null,
   "metadata": {},
   "outputs": [],
   "source": []
  }
 ],
 "metadata": {
  "kernelspec": {
   "display_name": "default",
   "language": "python",
   "name": "python3"
  },
  "language_info": {
   "name": "python",
   "version": "3.1.undefined"
  }
 },
 "nbformat": 4,
 "nbformat_minor": 2
}
