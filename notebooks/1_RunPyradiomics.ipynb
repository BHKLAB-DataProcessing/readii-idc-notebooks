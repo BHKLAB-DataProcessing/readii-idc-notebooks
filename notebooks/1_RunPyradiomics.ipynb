{
 "cells": [
  {
   "cell_type": "markdown",
   "metadata": {},
   "source": [
    "[![Open In Colab](https://colab.research.google.com/assets/colab-badge.svg)](https://colab.research.google.com/github/BHKLAB-DataProcessing/readii-idc-notebooks/blob/jjjermiah-dev/notebooks/1_RunPyradiomics.ipynb)"
   ]
  },
  {
   "cell_type": "code",
   "execution_count": 1,
   "metadata": {},
   "outputs": [],
   "source": [
    "import logging\n",
    "from collections import Counter\n",
    "from pathlib import Path\n",
    "\n",
    "import pandas as pd\n",
    "from readii.feature_extraction import singleRadiomicFeatureExtraction\n",
    "from rich import print\n",
    "\n",
    "from readii_idc_notebooks import generate_image_mask_pairs\n",
    "\n",
    "pyradiomics_logger = logging.getLogger(\"radiomics\")\n",
    "pyradiomics_logger.setLevel(logging.ERROR)"
   ]
  },
  {
   "cell_type": "markdown",
   "metadata": {},
   "source": [
    "# Setup and Configuration"
   ]
  },
  {
   "cell_type": "code",
   "execution_count": 2,
   "metadata": {},
   "outputs": [
    {
     "name": "stdout",
     "output_type": "stream",
     "text": [
      "\u001b[01;34mdata/images/nsclc_radiomics/niftis\u001b[00m\n",
      "├── dataset_index.csv\n",
      "├── \u001b[01;34mSubjectID-0_LUNG1-254\u001b[00m/\n",
      "│   ├── \u001b[01;34mCT_SeriesUID-65670\u001b[00m/\n",
      "│   │   ├── \u001b[01;31moriginal.nii.gz\u001b[00m\n",
      "│   │   ├── \u001b[01;31mrandomized_full.nii.gz\u001b[00m\n",
      "│   │   ├── \u001b[01;31mrandomized_non_roi.nii.gz\u001b[00m\n",
      "│   │   ├── \u001b[01;31mrandomized_roi.nii.gz\u001b[00m\n",
      "│   │   ├── \u001b[01;31mrandomized_sampled_full.nii.gz\u001b[00m\n",
      "│   │   ├── \u001b[01;31mrandomized_sampled_non_roi.nii.gz\u001b[00m\n",
      "│   │   ├── \u001b[01;31mrandomized_sampled_roi.nii.gz\u001b[00m\n",
      "│   │   ├── \u001b[01;31mshuffled_full.nii.gz\u001b[00m\n",
      "│   │   ├── \u001b[01;31mshuffled_non_roi.nii.gz\u001b[00m\n",
      "│   │   └── \u001b[01;31mshuffled_roi.nii.gz\u001b[00m\n",
      "│   └── \u001b[01;34mRTSTRUCT_SeriesUID-44321\u001b[00m/\n",
      "│       └── \u001b[01;31mGTV.nii.gz\u001b[00m\n",
      "├── \u001b[01;34mSubjectID-1_LUNG1-289\u001b[00m/\n",
      "│   ├── \u001b[01;34mCT_SeriesUID-98684\u001b[00m/\n",
      "│   │   ├── \u001b[01;31moriginal.nii.gz\u001b[00m\n",
      "│   │   ├── \u001b[01;31mrandomized_full.nii.gz\u001b[00m\n",
      "│   │   ├── \u001b[01;31mrandomized_non_roi.nii.gz\u001b[00m\n",
      "│   │   ├── \u001b[01;31mrandomized_roi.nii.gz\u001b[00m\n",
      "│   │   ├── \u001b[01;31mrandomized_sampled_full.nii.gz\u001b[00m\n",
      "│   │   ├── \u001b[01;31mrandomized_sampled_non_roi.nii.gz\u001b[00m\n",
      "│   │   ├── \u001b[01;31mrandomized_sampled_roi.nii.gz\u001b[00m\n",
      "│   │   ├── \u001b[01;31mshuffled_full.nii.gz\u001b[00m\n",
      "│   │   ├── \u001b[01;31mshuffled_non_roi.nii.gz\u001b[00m\n",
      "│   │   └── \u001b[01;31mshuffled_roi.nii.gz\u001b[00m\n",
      "│   └── \u001b[01;34mRTSTRUCT_SeriesUID-86747\u001b[00m/\n",
      "│       └── \u001b[01;31mGTV.nii.gz\u001b[00m\n",
      "├── \u001b[01;34mSubjectID-2_LUNG1-261\u001b[00m/\n",
      "│   ├── \u001b[01;34mCT_SeriesUID-62313\u001b[00m/\n",
      "│   │   ├── \u001b[01;31moriginal.nii.gz\u001b[00m\n",
      "│   │   ├── \u001b[01;31mrandomized_full.nii.gz\u001b[00m\n",
      "│   │   ├── \u001b[01;31mrandomized_non_roi.nii.gz\u001b[00m\n",
      "│   │   ├── \u001b[01;31mrandomized_roi.nii.gz\u001b[00m\n",
      "│   │   ├── \u001b[01;31mrandomized_sampled_full.nii.gz\u001b[00m\n",
      "│   │   ├── \u001b[01;31mrandomized_sampled_non_roi.nii.gz\u001b[00m\n",
      "│   │   ├── \u001b[01;31mrandomized_sampled_roi.nii.gz\u001b[00m\n",
      "│   │   ├── \u001b[01;31mshuffled_full.nii.gz\u001b[00m\n",
      "│   │   ├── \u001b[01;31mshuffled_non_roi.nii.gz\u001b[00m\n",
      "│   │   └── \u001b[01;31mshuffled_roi.nii.gz\u001b[00m\n",
      "│   └── \u001b[01;34mRTSTRUCT_SeriesUID-97208\u001b[00m/\n",
      "│       └── \u001b[01;31mGTV.nii.gz\u001b[00m\n",
      "├── \u001b[01;34mSubjectID-3_LUNG1-100\u001b[00m/\n",
      "│   ├── \u001b[01;34mCT_SeriesUID-95207\u001b[00m/\n",
      "│   │   ├── \u001b[01;31moriginal.nii.gz\u001b[00m\n",
      "│   │   ├── \u001b[01;31mrandomized_full.nii.gz\u001b[00m\n",
      "│   │   ├── \u001b[01;31mrandomized_non_roi.nii.gz\u001b[00m\n",
      "│   │   ├── \u001b[01;31mrandomized_roi.nii.gz\u001b[00m\n",
      "│   │   ├── \u001b[01;31mrandomized_sampled_full.nii.gz\u001b[00m\n",
      "│   │   ├── \u001b[01;31mrandomized_sampled_non_roi.nii.gz\u001b[00m\n",
      "│   │   ├── \u001b[01;31mrandomized_sampled_roi.nii.gz\u001b[00m\n",
      "│   │   ├── \u001b[01;31mshuffled_full.nii.gz\u001b[00m\n",
      "│   │   ├── \u001b[01;31mshuffled_non_roi.nii.gz\u001b[00m\n",
      "│   │   └── \u001b[01;31mshuffled_roi.nii.gz\u001b[00m\n",
      "│   └── \u001b[01;34mRTSTRUCT_SeriesUID-84885\u001b[00m/\n",
      "│       └── \u001b[01;31mGTV.nii.gz\u001b[00m\n",
      "└── \u001b[01;34mSubjectID-4_LUNG1-241\u001b[00m/\n",
      "    ├── \u001b[01;34mCT_SeriesUID-04303\u001b[00m/\n",
      "    │   ├── \u001b[01;31moriginal.nii.gz\u001b[00m\n",
      "    │   ├── \u001b[01;31mrandomized_full.nii.gz\u001b[00m\n",
      "    │   ├── \u001b[01;31mrandomized_non_roi.nii.gz\u001b[00m\n",
      "    │   ├── \u001b[01;31mrandomized_roi.nii.gz\u001b[00m\n",
      "    │   ├── \u001b[01;31mrandomized_sampled_full.nii.gz\u001b[00m\n",
      "    │   ├── \u001b[01;31mrandomized_sampled_non_roi.nii.gz\u001b[00m\n",
      "    │   ├── \u001b[01;31mrandomized_sampled_roi.nii.gz\u001b[00m\n",
      "    │   ├── \u001b[01;31mshuffled_full.nii.gz\u001b[00m\n",
      "    │   ├── \u001b[01;31mshuffled_non_roi.nii.gz\u001b[00m\n",
      "    │   └── \u001b[01;31mshuffled_roi.nii.gz\u001b[00m\n",
      "    └── \u001b[01;34mRTSTRUCT_SeriesUID-01405\u001b[00m/\n",
      "        └── \u001b[01;31mGTV.nii.gz\u001b[00m\n",
      "\n",
      "15 directories, 56 files\n"
     ]
    }
   ],
   "source": [
    "# a Save data to local directory\n",
    "DATA_DIR = Path(\"data\")\n",
    "\n",
    "# If you choose a different collection in the setup notebook, you will need to change this value\n",
    "COLLECTION_ID = \"nsclc_radiomics\"\n",
    "\n",
    "NIFTI_OUTPUT_DIR = DATA_DIR / \"images\" / COLLECTION_ID / \"niftis\"\n",
    "\n",
    "PYRADIOMICS_CONFIG = Path().cwd().parent / \"pyradiomics.yaml\"\n",
    "assert PYRADIOMICS_CONFIG.exists()\n",
    "\n",
    "RANDOM_SEED = 42\n",
    "\n",
    "! tree -F $NIFTI_OUTPUT_DIR"
   ]
  },
  {
   "cell_type": "code",
   "execution_count": 3,
   "metadata": {},
   "outputs": [
    {
     "name": "stderr",
     "output_type": "stream",
     "text": [
      "Processing 4_LUNG1-241 : original                      : 100%|██████████| 50/50 [12:14<00:00, 14.69s/it]  \n"
     ]
    }
   ],
   "source": [
    "results = []\n",
    "# Example usage:\n",
    "for i, subject in enumerate(generate_image_mask_pairs(NIFTI_OUTPUT_DIR)):\n",
    "    metadata = {\n",
    "                \"patient_ID\": subject.PatientID,\n",
    "                \"image_ID\": subject.image_id,\n",
    "                \"mask_ID\": subject.mask_id,\n",
    "                \"image_modality\": subject.image_modality,\n",
    "                \"mask_modality\": subject.mask_modality,\n",
    "            }\n",
    "    feature_vector = singleRadiomicFeatureExtraction(\n",
    "            ctImage=subject.image,\n",
    "            roiImage=subject.mask,\n",
    "            pyradiomicsParamFilePath=PYRADIOMICS_CONFIG,\n",
    "            randomSeed=RANDOM_SEED,\n",
    "        )\n",
    "    metadata.update(feature_vector)\n",
    "    results.append(\n",
    "        metadata\n",
    "    )\n",
    "pyradiomic_features = pd.DataFrame(results)"
   ]
  },
  {
   "cell_type": "code",
   "execution_count": 9,
   "metadata": {},
   "outputs": [
    {
     "data": {
      "text/html": [
       "<pre style=\"white-space:pre;overflow-x:auto;line-height:normal;font-family:Menlo,'DejaVu Sans Mono',consolas,'Courier New',monospace\">Summary:\n",
       "<span style=\"font-weight: bold\">{</span>\n",
       "    <span style=\"color: #008000; text-decoration-color: #008000\">'total_patients'</span>: <span style=\"color: #008080; text-decoration-color: #008080; font-weight: bold\">5</span>,\n",
       "    <span style=\"color: #008000; text-decoration-color: #008000\">'total_rows'</span>: <span style=\"color: #008080; text-decoration-color: #008080; font-weight: bold\">50</span>,\n",
       "    <span style=\"color: #008000; text-decoration-color: #008000\">'image_types'</span>: <span style=\"font-weight: bold\">[</span>\n",
       "        <span style=\"color: #008000; text-decoration-color: #008000\">'original'</span>,\n",
       "        <span style=\"color: #008000; text-decoration-color: #008000\">'randomized_full'</span>,\n",
       "        <span style=\"color: #008000; text-decoration-color: #008000\">'randomized_non_roi'</span>,\n",
       "        <span style=\"color: #008000; text-decoration-color: #008000\">'randomized_roi'</span>,\n",
       "        <span style=\"color: #008000; text-decoration-color: #008000\">'randomized_sampled_full'</span>,\n",
       "        <span style=\"color: #008000; text-decoration-color: #008000\">'randomized_sampled_non_roi'</span>,\n",
       "        <span style=\"color: #008000; text-decoration-color: #008000\">'randomized_sampled_roi'</span>,\n",
       "        <span style=\"color: #008000; text-decoration-color: #008000\">'shuffled_full'</span>,\n",
       "        <span style=\"color: #008000; text-decoration-color: #008000\">'shuffled_non_roi'</span>,\n",
       "        <span style=\"color: #008000; text-decoration-color: #008000\">'shuffled_roi'</span>\n",
       "    <span style=\"font-weight: bold\">]</span>,\n",
       "    <span style=\"color: #008000; text-decoration-color: #008000\">'column_type_counts'</span>: <span style=\"color: #800080; text-decoration-color: #800080; font-weight: bold\">Counter</span><span style=\"font-weight: bold\">({</span>\n",
       "        <span style=\"color: #008000; text-decoration-color: #008000\">'diagnostics'</span>: <span style=\"color: #008080; text-decoration-color: #008080; font-weight: bold\">37</span>,\n",
       "        <span style=\"color: #008000; text-decoration-color: #008000\">'original'</span>: <span style=\"color: #008080; text-decoration-color: #008080; font-weight: bold\">107</span>,\n",
       "        <span style=\"color: #008000; text-decoration-color: #008000\">'wavelet-LLH'</span>: <span style=\"color: #008080; text-decoration-color: #008080; font-weight: bold\">93</span>,\n",
       "        <span style=\"color: #008000; text-decoration-color: #008000\">'wavelet-LHL'</span>: <span style=\"color: #008080; text-decoration-color: #008080; font-weight: bold\">93</span>,\n",
       "        <span style=\"color: #008000; text-decoration-color: #008000\">'wavelet-LHH'</span>: <span style=\"color: #008080; text-decoration-color: #008080; font-weight: bold\">93</span>,\n",
       "        <span style=\"color: #008000; text-decoration-color: #008000\">'wavelet-HLL'</span>: <span style=\"color: #008080; text-decoration-color: #008080; font-weight: bold\">93</span>,\n",
       "        <span style=\"color: #008000; text-decoration-color: #008000\">'wavelet-HLH'</span>: <span style=\"color: #008080; text-decoration-color: #008080; font-weight: bold\">93</span>,\n",
       "        <span style=\"color: #008000; text-decoration-color: #008000\">'wavelet-HHL'</span>: <span style=\"color: #008080; text-decoration-color: #008080; font-weight: bold\">93</span>,\n",
       "        <span style=\"color: #008000; text-decoration-color: #008000\">'wavelet-HHH'</span>: <span style=\"color: #008080; text-decoration-color: #008080; font-weight: bold\">93</span>,\n",
       "        <span style=\"color: #008000; text-decoration-color: #008000\">'wavelet-LLL'</span>: <span style=\"color: #008080; text-decoration-color: #008080; font-weight: bold\">93</span>,\n",
       "        <span style=\"color: #008000; text-decoration-color: #008000\">'square'</span>: <span style=\"color: #008080; text-decoration-color: #008080; font-weight: bold\">93</span>,\n",
       "        <span style=\"color: #008000; text-decoration-color: #008000\">'squareroot'</span>: <span style=\"color: #008080; text-decoration-color: #008080; font-weight: bold\">93</span>,\n",
       "        <span style=\"color: #008000; text-decoration-color: #008000\">'logarithm'</span>: <span style=\"color: #008080; text-decoration-color: #008080; font-weight: bold\">93</span>,\n",
       "        <span style=\"color: #008000; text-decoration-color: #008000\">'exponential'</span>: <span style=\"color: #008080; text-decoration-color: #008080; font-weight: bold\">93</span>,\n",
       "        <span style=\"color: #008000; text-decoration-color: #008000\">'gradient'</span>: <span style=\"color: #008080; text-decoration-color: #008080; font-weight: bold\">93</span>\n",
       "    <span style=\"font-weight: bold\">})</span>\n",
       "<span style=\"font-weight: bold\">}</span>\n",
       "</pre>\n"
      ],
      "text/plain": [
       "Summary:\n",
       "\u001b[1m{\u001b[0m\n",
       "    \u001b[32m'total_patients'\u001b[0m: \u001b[1;36m5\u001b[0m,\n",
       "    \u001b[32m'total_rows'\u001b[0m: \u001b[1;36m50\u001b[0m,\n",
       "    \u001b[32m'image_types'\u001b[0m: \u001b[1m[\u001b[0m\n",
       "        \u001b[32m'original'\u001b[0m,\n",
       "        \u001b[32m'randomized_full'\u001b[0m,\n",
       "        \u001b[32m'randomized_non_roi'\u001b[0m,\n",
       "        \u001b[32m'randomized_roi'\u001b[0m,\n",
       "        \u001b[32m'randomized_sampled_full'\u001b[0m,\n",
       "        \u001b[32m'randomized_sampled_non_roi'\u001b[0m,\n",
       "        \u001b[32m'randomized_sampled_roi'\u001b[0m,\n",
       "        \u001b[32m'shuffled_full'\u001b[0m,\n",
       "        \u001b[32m'shuffled_non_roi'\u001b[0m,\n",
       "        \u001b[32m'shuffled_roi'\u001b[0m\n",
       "    \u001b[1m]\u001b[0m,\n",
       "    \u001b[32m'column_type_counts'\u001b[0m: \u001b[1;35mCounter\u001b[0m\u001b[1m(\u001b[0m\u001b[1m{\u001b[0m\n",
       "        \u001b[32m'diagnostics'\u001b[0m: \u001b[1;36m37\u001b[0m,\n",
       "        \u001b[32m'original'\u001b[0m: \u001b[1;36m107\u001b[0m,\n",
       "        \u001b[32m'wavelet-LLH'\u001b[0m: \u001b[1;36m93\u001b[0m,\n",
       "        \u001b[32m'wavelet-LHL'\u001b[0m: \u001b[1;36m93\u001b[0m,\n",
       "        \u001b[32m'wavelet-LHH'\u001b[0m: \u001b[1;36m93\u001b[0m,\n",
       "        \u001b[32m'wavelet-HLL'\u001b[0m: \u001b[1;36m93\u001b[0m,\n",
       "        \u001b[32m'wavelet-HLH'\u001b[0m: \u001b[1;36m93\u001b[0m,\n",
       "        \u001b[32m'wavelet-HHL'\u001b[0m: \u001b[1;36m93\u001b[0m,\n",
       "        \u001b[32m'wavelet-HHH'\u001b[0m: \u001b[1;36m93\u001b[0m,\n",
       "        \u001b[32m'wavelet-LLL'\u001b[0m: \u001b[1;36m93\u001b[0m,\n",
       "        \u001b[32m'square'\u001b[0m: \u001b[1;36m93\u001b[0m,\n",
       "        \u001b[32m'squareroot'\u001b[0m: \u001b[1;36m93\u001b[0m,\n",
       "        \u001b[32m'logarithm'\u001b[0m: \u001b[1;36m93\u001b[0m,\n",
       "        \u001b[32m'exponential'\u001b[0m: \u001b[1;36m93\u001b[0m,\n",
       "        \u001b[32m'gradient'\u001b[0m: \u001b[1;36m93\u001b[0m\n",
       "    \u001b[1m}\u001b[0m\u001b[1m)\u001b[0m\n",
       "\u001b[1m}\u001b[0m\n"
      ]
     },
     "metadata": {},
     "output_type": "display_data"
    }
   ],
   "source": [
    "column_type_counts = Counter(\n",
    "  pyradiomic_features.columns[5:].map(lambda cname: cname.split(\"_\")[0])\n",
    ")\n",
    "\n",
    "summary = {\n",
    "    \"total_patients\" : pyradiomic_features[\"patient_ID\"].nunique(),\n",
    "    \"total_rows\": len(pyradiomic_features),\n",
    "    \"image_types\" : sorted(list(pyradiomic_features[\"image_ID\"].unique())),\n",
    "    \"column_type_counts\": column_type_counts,\n",
    "}\n",
    "print(\"Summary:\", summary)\n",
    "\n",
    "pyradiomic_features.to_csv(DATA_DIR / \"pyradiomic_features.csv\", index=False)"
   ]
  },
  {
   "cell_type": "code",
   "execution_count": null,
   "metadata": {},
   "outputs": [],
   "source": []
  }
 ],
 "metadata": {
  "kernelspec": {
   "display_name": "Python 3",
   "language": "python",
   "name": "python3"
  },
  "language_info": {
   "codemirror_mode": {
    "name": "ipython",
    "version": 3
   },
   "file_extension": ".py",
   "mimetype": "text/x-python",
   "name": "python",
   "nbconvert_exporter": "python",
   "pygments_lexer": "ipython3",
   "version": "3.10.16"
  }
 },
 "nbformat": 4,
 "nbformat_minor": 2
}
