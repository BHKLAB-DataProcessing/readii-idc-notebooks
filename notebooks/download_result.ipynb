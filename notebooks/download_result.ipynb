{
 "cells": [
  {
   "cell_type": "code",
   "execution_count": 1,
   "metadata": {
    "execution": {
     "iopub.execute_input": "2024-12-16T21:38:38.271466Z",
     "iopub.status.busy": "2024-12-16T21:38:38.270982Z",
     "iopub.status.idle": "2024-12-16T21:38:38.753791Z",
     "shell.execute_reply": "2024-12-16T21:38:38.753530Z"
    }
   },
   "outputs": [],
   "source": [
    "import asyncio\n",
    "import os\n",
    "import subprocess\n",
    "import tempfile\n",
    "from pathlib import Path\n",
    "\n",
    "import aiohttp\n",
    "import ipywidgets as widgets\n",
    "from idc_index import index\n",
    "from imgtools.dicom.sort import DICOMSorter\n",
    "from imgtools.logging import logger as imgtools_logger\n",
    "from pydicom import dcmread\n",
    "import random # noqa\n",
    "\n",
    "imgtools_logger.setLevel(\"WARNING\")"
   ]
  },
  {
   "cell_type": "markdown",
   "metadata": {},
   "source": [
    "# SETUP "
   ]
  },
  {
   "cell_type": "code",
   "execution_count": 2,
   "metadata": {
    "execution": {
     "iopub.execute_input": "2024-12-16T21:38:38.755301Z",
     "iopub.status.busy": "2024-12-16T21:38:38.755162Z",
     "iopub.status.idle": "2024-12-16T21:38:41.148733Z",
     "shell.execute_reply": "2024-12-16T21:38:41.148444Z"
    }
   },
   "outputs": [
    {
     "name": "stdout",
     "output_type": "stream",
     "text": [
      "Current IDC Version: v17\n",
      "Found 142 collections\n"
     ]
    },
    {
     "data": {
      "text/html": [
       "<div>\n",
       "<style scoped>\n",
       "    .dataframe tbody tr th:only-of-type {\n",
       "        vertical-align: middle;\n",
       "    }\n",
       "\n",
       "    .dataframe tbody tr th {\n",
       "        vertical-align: top;\n",
       "    }\n",
       "\n",
       "    .dataframe thead th {\n",
       "        text-align: right;\n",
       "    }\n",
       "</style>\n",
       "<table border=\"1\" class=\"dataframe\">\n",
       "  <thead>\n",
       "    <tr style=\"text-align: right;\">\n",
       "      <th></th>\n",
       "      <th>Modality</th>\n",
       "      <th>series_size_MB</th>\n",
       "    </tr>\n",
       "    <tr>\n",
       "      <th>collection_id</th>\n",
       "      <th></th>\n",
       "      <th></th>\n",
       "    </tr>\n",
       "  </thead>\n",
       "  <tbody>\n",
       "    <tr>\n",
       "      <th>4d_lung</th>\n",
       "      <td>[RTSTRUCT, CT]</td>\n",
       "      <td>183054.14</td>\n",
       "    </tr>\n",
       "    <tr>\n",
       "      <th>acrin_6698</th>\n",
       "      <td>[MR, SEG]</td>\n",
       "      <td>841956.27</td>\n",
       "    </tr>\n",
       "    <tr>\n",
       "      <th>acrin_contralateral_breast_mr</th>\n",
       "      <td>[MR, CR]</td>\n",
       "      <td>199592.57</td>\n",
       "    </tr>\n",
       "    <tr>\n",
       "      <th>acrin_flt_breast</th>\n",
       "      <td>[PT, CT, OT]</td>\n",
       "      <td>74235.64</td>\n",
       "    </tr>\n",
       "    <tr>\n",
       "      <th>acrin_nsclc_fdg_pet</th>\n",
       "      <td>[PT, CT, DX, CR, NM, MR, SC, SEG]</td>\n",
       "      <td>145677.88</td>\n",
       "    </tr>\n",
       "    <tr>\n",
       "      <th>...</th>\n",
       "      <td>...</td>\n",
       "      <td>...</td>\n",
       "    </tr>\n",
       "    <tr>\n",
       "      <th>tcga_uvm</th>\n",
       "      <td>[SM]</td>\n",
       "      <td>102250.70</td>\n",
       "    </tr>\n",
       "    <tr>\n",
       "      <th>upenn_gbm</th>\n",
       "      <td>[MR]</td>\n",
       "      <td>139399.35</td>\n",
       "    </tr>\n",
       "    <tr>\n",
       "      <th>vestibular_schwannoma_mc_rc</th>\n",
       "      <td>[MR]</td>\n",
       "      <td>10015.97</td>\n",
       "    </tr>\n",
       "    <tr>\n",
       "      <th>vestibular_schwannoma_seg</th>\n",
       "      <td>[RTDOSE, RTSTRUCT, RTPLAN, MR]</td>\n",
       "      <td>28194.20</td>\n",
       "    </tr>\n",
       "    <tr>\n",
       "      <th>victre</th>\n",
       "      <td>[MG]</td>\n",
       "      <td>1027187.60</td>\n",
       "    </tr>\n",
       "  </tbody>\n",
       "</table>\n",
       "<p>142 rows × 2 columns</p>\n",
       "</div>"
      ],
      "text/plain": [
       "                                                        Modality  \\\n",
       "collection_id                                                      \n",
       "4d_lung                                           [RTSTRUCT, CT]   \n",
       "acrin_6698                                             [MR, SEG]   \n",
       "acrin_contralateral_breast_mr                           [MR, CR]   \n",
       "acrin_flt_breast                                    [PT, CT, OT]   \n",
       "acrin_nsclc_fdg_pet            [PT, CT, DX, CR, NM, MR, SC, SEG]   \n",
       "...                                                          ...   \n",
       "tcga_uvm                                                    [SM]   \n",
       "upenn_gbm                                                   [MR]   \n",
       "vestibular_schwannoma_mc_rc                                 [MR]   \n",
       "vestibular_schwannoma_seg         [RTDOSE, RTSTRUCT, RTPLAN, MR]   \n",
       "victre                                                      [MG]   \n",
       "\n",
       "                               series_size_MB  \n",
       "collection_id                                  \n",
       "4d_lung                             183054.14  \n",
       "acrin_6698                          841956.27  \n",
       "acrin_contralateral_breast_mr       199592.57  \n",
       "acrin_flt_breast                     74235.64  \n",
       "acrin_nsclc_fdg_pet                 145677.88  \n",
       "...                                       ...  \n",
       "tcga_uvm                            102250.70  \n",
       "upenn_gbm                           139399.35  \n",
       "vestibular_schwannoma_mc_rc          10015.97  \n",
       "vestibular_schwannoma_seg            28194.20  \n",
       "victre                             1027187.60  \n",
       "\n",
       "[142 rows x 2 columns]"
      ]
     },
     "execution_count": 2,
     "metadata": {},
     "output_type": "execute_result"
    }
   ],
   "source": [
    "# Create a client object from the IDC package\n",
    "client = index.IDCClient()\n",
    "print(f'Current IDC Version: {client.get_idc_version()}')\n",
    "\n",
    "# Get the list of collections\n",
    "collections = sorted(client.get_collections())\n",
    "print(f\"Found {len(collections)} collections\")  \n",
    "client.collection_summary"
   ]
  },
  {
   "cell_type": "markdown",
   "metadata": {},
   "source": [
    "# Filter Collections that have both RTSTRUCTS and CTs"
   ]
  },
  {
   "cell_type": "code",
   "execution_count": 3,
   "metadata": {
    "execution": {
     "iopub.execute_input": "2024-12-16T21:38:41.167731Z",
     "iopub.status.busy": "2024-12-16T21:38:41.167609Z",
     "iopub.status.idle": "2024-12-16T21:38:41.220637Z",
     "shell.execute_reply": "2024-12-16T21:38:41.220380Z"
    }
   },
   "outputs": [
    {
     "name": "stdout",
     "output_type": "stream",
     "text": [
      "Found 13 collections with both RTSTRUCT and CT\n"
     ]
    },
    {
     "data": {
      "text/plain": [
       "collection_id\n",
       "4d_lung                                           {CT, RTSTRUCT}\n",
       "cc_tumor_heterogeneity               {RTSTRUCT, REG, MR, CT, PT}\n",
       "cptac_ccrcc                               {SM, CT, MR, RTSTRUCT}\n",
       "cptac_pda                         {US, SM, RTSTRUCT, MR, CT, PT}\n",
       "cptac_ucec                            {SM, RTSTRUCT, MR, CT, PT}\n",
       "lctsc                                             {CT, RTSTRUCT}\n",
       "nsclc_radiomics                          {SEG, CT, SR, RTSTRUCT}\n",
       "nsclc_radiomics_interobserver1               {SEG, CT, RTSTRUCT}\n",
       "pancreatic_ct_cbct_seg                    {RTDOSE, CT, RTSTRUCT}\n",
       "pediatric_ct_seg                                  {CT, RTSTRUCT}\n",
       "prostate_anatomical_edge_cases                    {CT, RTSTRUCT}\n",
       "rider_lung_ct                        {PR, RTSTRUCT, SEG, SR, CT}\n",
       "soft_tissue_sarcoma                       {CT, PT, MR, RTSTRUCT}\n",
       "Name: Modality, dtype: object"
      ]
     },
     "execution_count": 3,
     "metadata": {},
     "output_type": "execute_result"
    }
   ],
   "source": [
    "# Group the data by 'collection_id' and aggregate the 'Modality' column into a set for each group\n",
    "# Aggregate the 'Modality' column into a set, so we get unique modalities per 'collection_id'\n",
    "# Filter groups where the 'Modality' set includes both 'RTSTRUCT' and 'CT'\n",
    "rt_ct_collections = client.index\\\n",
    "  .groupby('collection_id')['Modality']\\\n",
    "  .agg(set)\\\n",
    "  .loc[lambda x: x.map({'RTSTRUCT', 'CT'}.issubset)]\n",
    "\n",
    "print(f\"Found {len(rt_ct_collections)} collections with both RTSTRUCT and CT\")\n",
    "rt_ct_collections"
   ]
  },
  {
   "cell_type": "markdown",
   "metadata": {},
   "source": [
    "# Select a Collection\n",
    "\n",
    "The default is `nsclc_radiomics`.\n",
    "\n",
    "for the sake of the demonstration, the dropdown options are disabled."
   ]
  },
  {
   "cell_type": "code",
   "execution_count": 4,
   "metadata": {
    "execution": {
     "iopub.execute_input": "2024-12-16T21:38:41.221829Z",
     "iopub.status.busy": "2024-12-16T21:38:41.221731Z",
     "iopub.status.idle": "2024-12-16T21:38:41.223386Z",
     "shell.execute_reply": "2024-12-16T21:38:41.223143Z"
    }
   },
   "outputs": [],
   "source": [
    "COLLECTION_ID = 'nsclc_radiomics'"
   ]
  },
  {
   "cell_type": "code",
   "execution_count": 5,
   "metadata": {
    "execution": {
     "iopub.execute_input": "2024-12-16T21:38:41.224388Z",
     "iopub.status.busy": "2024-12-16T21:38:41.224291Z",
     "iopub.status.idle": "2024-12-16T21:38:41.308085Z",
     "shell.execute_reply": "2024-12-16T21:38:41.307823Z"
    }
   },
   "outputs": [
    {
     "name": "stdout",
     "output_type": "stream",
     "text": [
      "Found 4926 series in collection nsclc_radiomics\n",
      "Found 422 RTSTRUCT series in collection nsclc_radiomics\n"
     ]
    }
   ],
   "source": [
    "\n",
    "matching_series = client.index.loc[client.index.collection_id == COLLECTION_ID, ['SeriesInstanceUID', 'Modality', \"series_size_MB\"]]\n",
    "print(f\"Found {len(matching_series)} series in collection {COLLECTION_ID}\")\n",
    "options=[\n",
    "  (\n",
    "    f'SeriesUID-{row['SeriesInstanceUID'][-10:]} [Modality: {row[\"Modality\"]}; Size: {row[\"series_size_MB\"]}MB]',\n",
    "    row[\"SeriesInstanceUID\"]\n",
    "  )\n",
    "  for _, row in matching_series.iterrows()\n",
    "  if row['Modality'] == 'RTSTRUCT'\n",
    "]\n",
    "print(f\"Found {len(options)} RTSTRUCT series in collection {COLLECTION_ID}\")"
   ]
  },
  {
   "cell_type": "markdown",
   "metadata": {},
   "source": [
    "## Setting up Directories To Download\n"
   ]
  },
  {
   "cell_type": "code",
   "execution_count": 6,
   "metadata": {
    "execution": {
     "iopub.execute_input": "2024-12-16T21:38:41.309361Z",
     "iopub.status.busy": "2024-12-16T21:38:41.309272Z",
     "iopub.status.idle": "2024-12-16T21:38:41.311355Z",
     "shell.execute_reply": "2024-12-16T21:38:41.311130Z"
    }
   },
   "outputs": [],
   "source": [
    "# Find user's s5cmd path\n",
    "s5cmd = client.s5cmdPath\n",
    "\n",
    "# Save data to local directory\n",
    "DATA_DIR = Path('data') \n",
    "\n",
    "# Create a temporary directory to store the downloaded files before moving them to local directory\n",
    "TMP_DIR = Path(tempfile.mkdtemp())\n",
    "TMP_DIR.mkdir(parents=True, exist_ok=True)\n",
    "\n"
   ]
  },
  {
   "cell_type": "markdown",
   "metadata": {},
   "source": [
    "## Download chosen RTSTRUCT and CT files\n",
    "\n",
    "1. download the RTSTRUCT\n",
    "2. Query the RTSTRUCT's metadata for the CT `SeriesInstanceUID` it references\n",
    "3. Download the CT files corresponding to the `SeriesInstanceUID`"
   ]
  },
  {
   "cell_type": "code",
   "execution_count": 7,
   "metadata": {
    "execution": {
     "iopub.execute_input": "2024-12-16T21:38:41.312465Z",
     "iopub.status.busy": "2024-12-16T21:38:41.312388Z",
     "iopub.status.idle": "2024-12-16T21:38:41.315515Z",
     "shell.execute_reply": "2024-12-16T21:38:41.315291Z"
    }
   },
   "outputs": [],
   "source": [
    "async def download_file(s3_url: str, output_dir: str, progress) -> None:\n",
    "\t\"\"\"\n",
    "\tDownload a file from a public S3 bucket URL to the specified directory.\n",
    "\n",
    "\tParameters\n",
    "\t----------\n",
    "\ts3_url : str\n",
    "\t\tThe S3 URL of the file (e.g., s3://bucket/key).\n",
    "\toutput_dir : str\n",
    "\t\tThe directory where the file will be saved.\n",
    "\t\"\"\"\n",
    "\t# Convert the S3 URL to an HTTP URL\n",
    "\thttp_url = s3_url.replace(\"s3://\", \"https://s3.amazonaws.com/\")\n",
    "\t\n",
    "\tfilename = os.path.basename(http_url)\n",
    "\toutput_path = os.path.join(output_dir, filename)\n",
    "\n",
    "\t# Ensure the output directory exists\n",
    "\tos.makedirs(output_dir, exist_ok=True)\n",
    "\n",
    "\tasync with aiohttp.ClientSession() as session:\n",
    "\t\tasync with session.get(http_url) as response:\n",
    "\t\t\tif response.status != 200:\n",
    "\t\t\t\t# raise Exception(f\"Failed to fetch {s3_url}. HTTP status: {response.status}\")\n",
    "\t\t\t\tprint(f\"Failed to fetch {s3_url}. HTTP status: {response.status}\")\n",
    "\t\t\t\n",
    "\t\t\t# Save the file with a progress bar\n",
    "\t\t\t# total_size = int(response.headers.get(\"Content-Length\", 0))\n",
    "\t\t\twith open(output_path, \"wb\") as file:\n",
    "\t\t\t# \t tqdm(\n",
    "\t\t\t# \ttotal=total_size, unit=\"B\", unit_scale=True, desc=filename\n",
    "\t\t\t# ) as pba\n",
    "\t\t\t\tasync for chunk in response.content.iter_chunked(1024):\n",
    "\t\t\t\t\tfile.write(chunk)\n",
    "\t\t\tprogress.value += 1\n",
    "\t# print(f\"Downloaded: {output_path}\")\n",
    "\n",
    "async def download_files_from_list(s3_paths: list[str], output_dir: str) -> None:\n",
    "\t\"\"\"\n",
    "\tDownload all files from a list of S3 URLs.\n",
    "\n",
    "\tParameters\n",
    "\t----------\n",
    "\ts3_paths : list[str]\n",
    "\t\tList of S3 URLs to download.\n",
    "\toutput_dir : str\n",
    "\t\tThe directory where all files will be saved.\n",
    "\t\"\"\" \n",
    "\n",
    "\tpbar = widgets.IntProgress(\n",
    "\t\tvalue=0,\n",
    "\t\tmin=0,\n",
    "\t\tmax=len(s3_paths),\n",
    "\t\tdescription=\"Downloading:\",\n",
    "\t\tbar_style=\"info\",\n",
    "\t\torientation=\"horizontal\"\n",
    "\t)\n",
    "\tdisplay(pbar)\n",
    "\n",
    "\ttasks = [download_file(s3_url, output_dir, pbar) for s3_url in s3_paths]\n",
    "\tawait asyncio.gather(*tasks)"
   ]
  },
  {
   "cell_type": "code",
   "execution_count": 8,
   "metadata": {
    "execution": {
     "iopub.execute_input": "2024-12-16T21:38:41.316558Z",
     "iopub.status.busy": "2024-12-16T21:38:41.316477Z",
     "iopub.status.idle": "2024-12-16T21:38:43.438182Z",
     "shell.execute_reply": "2024-12-16T21:38:43.437771Z"
    }
   },
   "outputs": [
    {
     "data": {
      "application/vnd.jupyter.widget-view+json": {
       "model_id": "c458cd4d30054c1db49b344b7ec7131e",
       "version_major": 2,
       "version_minor": 0
      },
      "text/plain": [
       "IntProgress(value=0, bar_style='info', description='Downloading:', max=3)"
      ]
     },
     "metadata": {},
     "output_type": "display_data"
    }
   ],
   "source": [
    "random.seed(42)\n",
    "\n",
    "NUM_RTSTRUCTS = 3\n",
    "\n",
    "rtstruct_uids = [options[i][1] for i in random.sample(range(len(options)), NUM_RTSTRUCTS)]\n",
    "\n",
    "rt_paths = [client.get_series_file_URLs(uid)[0] for uid in rtstruct_uids]\n",
    "await download_files_from_list(rt_paths, TMP_DIR)\n",
    "\n",
    "patients = client.index[client.index.SeriesInstanceUID.isin(rtstruct_uids)].PatientID.unique()"
   ]
  },
  {
   "cell_type": "code",
   "execution_count": 9,
   "metadata": {
    "execution": {
     "iopub.execute_input": "2024-12-16T21:38:43.439845Z",
     "iopub.status.busy": "2024-12-16T21:38:43.439730Z",
     "iopub.status.idle": "2024-12-16T21:38:44.297215Z",
     "shell.execute_reply": "2024-12-16T21:38:44.296548Z"
    }
   },
   "outputs": [
    {
     "name": "stdout",
     "output_type": "stream",
     "text": [
      "Found 412 CT files to download for 3 RTSTRUCT series\n"
     ]
    }
   ],
   "source": [
    "\n",
    "ct_paths = []\n",
    "for rt in TMP_DIR.iterdir():\n",
    "    ds = dcmread(rt, stop_before_pixels=True, specific_tags=['ReferencedFrameOfReferenceSequence', 'StructureSetROISequence', 'Modality'])\n",
    "    if not ds.Modality == 'RTSTRUCT':\n",
    "        print(f\"Skipping non-RTSTRUCT file: {rt}\")\n",
    "    referenced_ct = ds.ReferencedFrameOfReferenceSequence[0].RTReferencedStudySequence[0].RTReferencedSeriesSequence[0].SeriesInstanceUID\n",
    "    ct_paths.extend(client.get_series_file_URLs(referenced_ct))\n",
    "\n",
    "print(f'Found {len(ct_paths)} CT files to download for {len(rt_paths)} RTSTRUCT series')\n"
   ]
  },
  {
   "cell_type": "code",
   "execution_count": 10,
   "metadata": {
    "execution": {
     "iopub.execute_input": "2024-12-16T21:38:44.299304Z",
     "iopub.status.busy": "2024-12-16T21:38:44.299088Z",
     "iopub.status.idle": "2024-12-16T21:38:48.295692Z",
     "shell.execute_reply": "2024-12-16T21:38:48.295039Z"
    }
   },
   "outputs": [
    {
     "name": "stdout",
     "output_type": "stream",
     "text": [
      "Downloading CT files...\n"
     ]
    },
    {
     "data": {
      "application/vnd.jupyter.widget-view+json": {
       "model_id": "5bb93cafe9104f2394a27f026b9aad15",
       "version_major": 2,
       "version_minor": 0
      },
      "text/plain": [
       "IntProgress(value=0, bar_style='info', description='Downloading:', max=412)"
      ]
     },
     "metadata": {},
     "output_type": "display_data"
    },
    {
     "name": "stdout",
     "output_type": "stream",
     "text": [
      "CT files downloaded\n"
     ]
    }
   ],
   "source": [
    "print(\"Downloading CT files...\")\n",
    "await download_files_from_list(ct_paths, TMP_DIR)\n",
    "print(\"CT files downloaded\")"
   ]
  },
  {
   "cell_type": "markdown",
   "metadata": {},
   "source": [
    "# Sort the dicom files into an appropriate structure\n",
    "\n",
    "The dicom files are all named with a unique UUID. \n",
    "This makes it difficult to understand which files are related to each other.\n",
    "\n",
    "We will sort the files into a directory structure that makes it easier to understand the relationships between the files.\n",
    "\n",
    "This uses `Med-ImageTools`' `DICOMSorter` class to sort the files into a directory structure.\n",
    "\n",
    "The structure we are aiming for is:\n",
    "\n",
    "```console\n",
    "./data/<collection_name>/dicoms/sorted/\n",
    "└── Patient-<PatientID>\n",
    "    └── StudyUID-<StudyInstanceUID>\n",
    "        ├── <Modality>_SeriesUID-<SeriesInstanceUID>\n",
    "        └── <Modality2>_SeriesUID-<SeriesInstanceUID>\n",
    "            ├── DICOM-FILE\n",
    "            └── DICOM-FILE\n",
    "```\n",
    "\n",
    "**Note:**\n",
    "Earlier, we downloaded the data to a temporary directory, so we will perform a `move` operation on the sorter\n",
    "If you do not want to move your input data, you can use the `symlink` option to create symbolic links to the files instead of moving them."
   ]
  },
  {
   "cell_type": "code",
   "execution_count": 11,
   "metadata": {
    "execution": {
     "iopub.execute_input": "2024-12-16T21:38:48.298962Z",
     "iopub.status.busy": "2024-12-16T21:38:48.298604Z",
     "iopub.status.idle": "2024-12-16T21:38:49.358125Z",
     "shell.execute_reply": "2024-12-16T21:38:49.357807Z"
    }
   },
   "outputs": [
    {
     "data": {
      "application/vnd.jupyter.widget-view+json": {
       "model_id": "482262f441c3486d9f941357e0075df8",
       "version_major": 2,
       "version_minor": 0
      },
      "text/plain": [
       "Output()"
      ]
     },
     "metadata": {},
     "output_type": "display_data"
    },
    {
     "data": {
      "text/html": [
       "<pre style=\"white-space:pre;overflow-x:auto;line-height:normal;font-family:Menlo,'DejaVu Sans Mono',consolas,'Courier New',monospace\"></pre>\n"
      ],
      "text/plain": []
     },
     "metadata": {},
     "output_type": "display_data"
    },
    {
     "data": {
      "application/vnd.jupyter.widget-view+json": {
       "model_id": "1d028561d8d74064825ba4ce5b8c6caf",
       "version_major": 2,
       "version_minor": 0
      },
      "text/plain": [
       "Output()"
      ]
     },
     "metadata": {},
     "output_type": "display_data"
    },
    {
     "data": {
      "text/html": [
       "<pre style=\"white-space:pre;overflow-x:auto;line-height:normal;font-family:Menlo,'DejaVu Sans Mono',consolas,'Courier New',monospace\"></pre>\n"
      ],
      "text/plain": []
     },
     "metadata": {},
     "output_type": "display_data"
    }
   ],
   "source": [
    "sorted_path = DATA_DIR / \"images\" / COLLECTION_ID / \"dicoms\"\n",
    "\n",
    "NIFTI_OUTPUT_DIR = DATA_DIR / \"images\" / COLLECTION_ID / \"niftis\"\n",
    "\n",
    "dicomsorter = DICOMSorter(\n",
    "  source_directory=TMP_DIR.absolute(),\n",
    "  target_pattern=Path(\n",
    "    sorted_path,\n",
    "    \"Patient-%PatientID/StudyUID-%StudyInstanceUID/%Modality_SeriesUID-%SeriesInstanceUID/\"\n",
    "  ).as_posix(),\n",
    ")\n",
    "dicomsorter.execute(action=\"move\")\n"
   ]
  },
  {
   "cell_type": "code",
   "execution_count": 12,
   "metadata": {
    "execution": {
     "iopub.execute_input": "2024-12-16T21:38:49.368992Z",
     "iopub.status.busy": "2024-12-16T21:38:49.368921Z",
     "iopub.status.idle": "2024-12-16T21:38:49.386400Z",
     "shell.execute_reply": "2024-12-16T21:38:49.386116Z"
    }
   },
   "outputs": [
    {
     "name": "stdout",
     "output_type": "stream",
     "text": [
      "New Directory Structure: \n",
      "\u001b[01;34m/Users/bhklab/dev/radiomics/readii-idc-notebooks/notebooks/data/images/nsclc_radiomics/dicoms\u001b[0m\n",
      "├── \u001b[01;34mPatient-LUNG1-101\u001b[0m\n",
      "│   └── \u001b[01;34mStudyUID-27911\u001b[0m\n",
      "│       ├── \u001b[01;34mCT_SeriesUID-55665\u001b[0m\n",
      "│       └── \u001b[01;34mRTSTRUCT_SeriesUID-25865\u001b[0m\n",
      "├── \u001b[01;34mPatient-LUNG1-108\u001b[0m\n",
      "│   └── \u001b[01;34mStudyUID-62453\u001b[0m\n",
      "│       ├── \u001b[01;34mCT_SeriesUID-81484\u001b[0m\n",
      "│       └── \u001b[01;34mRTSTRUCT_SeriesUID-99496\u001b[0m\n",
      "└── \u001b[01;34mPatient-LUNG1-162\u001b[0m\n",
      "    └── \u001b[01;34mStudyUID-21249\u001b[0m\n",
      "        ├── \u001b[01;34mCT_SeriesUID-72433\u001b[0m\n",
      "        └── \u001b[01;34mRTSTRUCT_SeriesUID-38612\u001b[0m\n",
      "\n",
      "13 directories\n"
     ]
    },
    {
     "data": {
      "text/plain": [
       "CompletedProcess(args=['tree', '-d', PosixPath('/Users/bhklab/dev/radiomics/readii-idc-notebooks/notebooks/data/images/nsclc_radiomics/dicoms')], returncode=0)"
      ]
     },
     "execution_count": 12,
     "metadata": {},
     "output_type": "execute_result"
    }
   ],
   "source": [
    "print(\"New Directory Structure: \")\n",
    "subprocess.run([\"tree\", \"-d\", sorted_path.absolute()])"
   ]
  },
  {
   "cell_type": "code",
   "execution_count": 13,
   "metadata": {
    "execution": {
     "iopub.execute_input": "2024-12-16T21:38:49.387644Z",
     "iopub.status.busy": "2024-12-16T21:38:49.387523Z",
     "iopub.status.idle": "2024-12-16T21:38:49.389787Z",
     "shell.execute_reply": "2024-12-16T21:38:49.389463Z"
    }
   },
   "outputs": [],
   "source": [
    "# Modalities of interest, \n",
    "MODALITIES = [\"CT\", \"RTSTRUCT\"]\n",
    "\n",
    "\n",
    "PYRADIOMICS_CONFIG = Path().cwd().parent / \"pyradiomics.yaml\"\n",
    "RANDOM_SEED = 10\n",
    "IMAGE_TYPES =  [\"shuffled_full\",\"shuffled_roi\",\"shuffled_non_roi\",\"randomized_sampled_full\",\"randomized_sampled_roi\",\"randomized_sampled_non_roi\"]\n",
    "\n",
    "ROI_NAME = \"GTV\"\n",
    "roi_match_pattern = {ROI_NAME: \"^(GTV.*)$\"} # Use a regex to match the ROI name to rois like \"GTV 1\", \"GTV 2\""
   ]
  },
  {
   "cell_type": "code",
   "execution_count": 14,
   "metadata": {
    "execution": {
     "iopub.execute_input": "2024-12-16T21:38:49.391135Z",
     "iopub.status.busy": "2024-12-16T21:38:49.391027Z",
     "iopub.status.idle": "2024-12-16T21:38:52.681482Z",
     "shell.execute_reply": "2024-12-16T21:38:52.681155Z"
    }
   },
   "outputs": [
    {
     "name": "stderr",
     "output_type": "stream",
     "text": [
      "\r\n",
      "  0%|                                                                                                                                                                                                 | 0/3 [00:00<?, ?it/s]"
     ]
    },
    {
     "name": "stderr",
     "output_type": "stream",
     "text": [
      "\r\n",
      "100%|████████████████████████████████████████████████████████████████████████████████████████████████████████████████████████████████████████████████████████████████████████████████████████| 3/3 [00:00<00:00, 224.47it/s]"
     ]
    },
    {
     "name": "stderr",
     "output_type": "stream",
     "text": [
      "\n"
     ]
    },
    {
     "name": "stderr",
     "output_type": "stream",
     "text": [
      "/Users/bhklab/dev/radiomics/readii-idc-notebooks/.pixi/envs/default/lib/python3.12/site-packages/imgtools/modules/datagraph.py:430: UserWarning: This pattern is interpreted as a regular expression, and has match groups. To actually get the groups, use str.extract.\n",
      "  relevant_study_id = self.df_new.loc[(self.df_new.edge_type.str.contains(regex_term)), \"study_x\"].unique()\n"
     ]
    }
   ],
   "source": [
    "from imgtools.autopipeline import ImageAutoInput\n",
    "\t\n",
    "dataset = ImageAutoInput(\n",
    "  dir_path=sorted_path.absolute(),\n",
    "  modalities=\",\".join(MODALITIES),\n",
    "  update=True,\n",
    "  n_jobs=-1,\n",
    ")"
   ]
  },
  {
   "cell_type": "code",
   "execution_count": 15,
   "metadata": {
    "execution": {
     "iopub.execute_input": "2024-12-16T21:38:52.682840Z",
     "iopub.status.busy": "2024-12-16T21:38:52.682702Z",
     "iopub.status.idle": "2024-12-16T21:40:04.153995Z",
     "shell.execute_reply": "2024-12-16T21:40:04.153431Z"
    }
   },
   "outputs": [
    {
     "name": "stdout",
     "output_type": "stream",
     "text": [
      "Loading data for subject 0_LUNG1-162 : patient LUNG1-162\n",
      "Loading CT /Users/bhklab/dev/radiomics/readii-idc-notebooks/notebooks/data/images/nsclc_radiomics/dicoms/Patient-LUNG1-162/StudyUID-21249/CT_SeriesUID-72433\n",
      "Loading mask /Users/bhklab/dev/radiomics/readii-idc-notebooks/notebooks/data/images/nsclc_radiomics/dicoms/Patient-LUNG1-162/StudyUID-21249/RTSTRUCT_SeriesUID-38612/d547a179-83d6-4c38-ac2f-62875388f17a.dcm\n"
     ]
    },
    {
     "name": "stdout",
     "output_type": "stream",
     "text": [
      "Generating negative control shuffled_full\n"
     ]
    },
    {
     "name": "stdout",
     "output_type": "stream",
     "text": [
      "Generating negative control shuffled_roi\n"
     ]
    },
    {
     "name": "stdout",
     "output_type": "stream",
     "text": [
      "Generating negative control shuffled_non_roi\n"
     ]
    },
    {
     "name": "stdout",
     "output_type": "stream",
     "text": [
      "Generating negative control randomized_sampled_full\n"
     ]
    },
    {
     "name": "stdout",
     "output_type": "stream",
     "text": [
      "Generating negative control randomized_sampled_roi\n"
     ]
    },
    {
     "name": "stdout",
     "output_type": "stream",
     "text": [
      "Generating negative control randomized_sampled_non_roi\n"
     ]
    },
    {
     "name": "stdout",
     "output_type": "stream",
     "text": [
      "Loading data for subject 1_LUNG1-101 : patient LUNG1-101\n",
      "Loading CT /Users/bhklab/dev/radiomics/readii-idc-notebooks/notebooks/data/images/nsclc_radiomics/dicoms/Patient-LUNG1-101/StudyUID-27911/CT_SeriesUID-55665\n",
      "Loading mask /Users/bhklab/dev/radiomics/readii-idc-notebooks/notebooks/data/images/nsclc_radiomics/dicoms/Patient-LUNG1-101/StudyUID-27911/RTSTRUCT_SeriesUID-25865/e2867194-0e89-4adf-a99b-22c7c0e73b15.dcm\n"
     ]
    },
    {
     "name": "stdout",
     "output_type": "stream",
     "text": [
      "Generating negative control shuffled_full\n"
     ]
    },
    {
     "name": "stdout",
     "output_type": "stream",
     "text": [
      "Generating negative control shuffled_roi\n"
     ]
    },
    {
     "name": "stdout",
     "output_type": "stream",
     "text": [
      "Generating negative control shuffled_non_roi\n"
     ]
    },
    {
     "name": "stdout",
     "output_type": "stream",
     "text": [
      "Generating negative control randomized_sampled_full\n"
     ]
    },
    {
     "name": "stdout",
     "output_type": "stream",
     "text": [
      "Generating negative control randomized_sampled_roi\n"
     ]
    },
    {
     "name": "stdout",
     "output_type": "stream",
     "text": [
      "Generating negative control randomized_sampled_non_roi\n"
     ]
    },
    {
     "name": "stdout",
     "output_type": "stream",
     "text": [
      "Loading data for subject 2_LUNG1-108 : patient LUNG1-108\n",
      "Loading CT /Users/bhklab/dev/radiomics/readii-idc-notebooks/notebooks/data/images/nsclc_radiomics/dicoms/Patient-LUNG1-108/StudyUID-62453/CT_SeriesUID-81484\n"
     ]
    },
    {
     "name": "stdout",
     "output_type": "stream",
     "text": [
      "Loading mask /Users/bhklab/dev/radiomics/readii-idc-notebooks/notebooks/data/images/nsclc_radiomics/dicoms/Patient-LUNG1-108/StudyUID-62453/RTSTRUCT_SeriesUID-99496/6191cd77-c19b-4531-8e7d-b39069390a03.dcm\n"
     ]
    },
    {
     "name": "stdout",
     "output_type": "stream",
     "text": [
      "Generating negative control shuffled_full\n"
     ]
    },
    {
     "name": "stdout",
     "output_type": "stream",
     "text": [
      "Generating negative control shuffled_roi\n"
     ]
    },
    {
     "name": "stdout",
     "output_type": "stream",
     "text": [
      "Generating negative control shuffled_non_roi\n"
     ]
    },
    {
     "name": "stdout",
     "output_type": "stream",
     "text": [
      "Generating negative control randomized_sampled_full\n"
     ]
    },
    {
     "name": "stdout",
     "output_type": "stream",
     "text": [
      "Generating negative control randomized_sampled_roi\n"
     ]
    },
    {
     "name": "stdout",
     "output_type": "stream",
     "text": [
      "Generating negative control randomized_sampled_non_roi\n"
     ]
    }
   ],
   "source": [
    "from functools import partial\n",
    "from readii import loaders as rdloaders\n",
    "from readii.feature_extraction import generateNegativeControl\n",
    "from readii.io.writers.nifti_writer import NIFTIWriter\n",
    "\n",
    "# Define the directory structure we want with placeholders for the PatientID, StudyInstanceUID, SeriesInstanceUID\n",
    "# These must be passed in as keyword arguments to the save method\n",
    "# We will have custom IMAGE_ID for each image\n",
    "filename_format = \"SubjectID-{PatientID}/StudyUID-{StudyInstanceUID}/{Modality}_SeriesUID-{SeriesInstanceUID}/{IMAGE_ID}.nii.gz\"\n",
    "neg_nifti_writer = NIFTIWriter(\n",
    "  root_directory=NIFTI_OUTPUT_DIR,\n",
    "  filename_format=filename_format,\n",
    "  overwrite=True,\n",
    ")\n",
    "\n",
    "for patient in dataset.df_combined.itertuples():\n",
    "  print(f\"Loading data for subject {patient.Index} : patient {patient.patient_ID}\")\n",
    "\n",
    "  # Load the CT and mask images\n",
    "  ct_path = patient.folder_CT\n",
    "  print(f\"Loading CT {ct_path}\")\n",
    "  base_image = rdloaders.loadDicomSITK(ct_path)\n",
    "  \n",
    "  mask_path = patient.folder_RTSTRUCT_CT\n",
    "  print(f\"Loading mask {mask_path}\")\n",
    "  mask_image = rdloaders.loadRTSTRUCTSITK(\n",
    "    rtstructPath=mask_path,\n",
    "    baseImageDirPath=ct_path,\n",
    "    roiNames=roi_match_pattern\n",
    "  ).get(ROI_NAME)\n",
    "\n",
    "  # Create a partial function for saving images\n",
    "  save_image = partial(\n",
    "    neg_nifti_writer.save,\n",
    "    PatientID=patient.Index,\n",
    "    StudyInstanceUID=patient.study[-5:],\n",
    "  )\n",
    "\n",
    "  ######################################################################################\n",
    "  # first we save the original CT and mask\n",
    "  ######################################################################################\n",
    "  save_image(\n",
    "    image=base_image,\n",
    "    SeriesInstanceUID=patient.series_CT[-5:],\n",
    "    Modality=\"CT\",\n",
    "    IMAGE_ID=\"original\"\n",
    "  )\n",
    "  save_image(\n",
    "    image=mask_image,\n",
    "    SeriesInstanceUID=patient.series_RTSTRUCT_CT[-5:],\n",
    "    Modality=\"RTSTRUCT\",\n",
    "    IMAGE_ID=ROI_NAME\n",
    "  )\n",
    "  ######################################################################################\n",
    "  # Now we create the negative controls and save them\n",
    "  ######################################################################################\n",
    "\n",
    "  for NEGATIVE_CONTROL in IMAGE_TYPES:\n",
    "    print(f\"Generating negative control {NEGATIVE_CONTROL}\")\n",
    "    neg_control_image = generateNegativeControl(\n",
    "      ctImage=base_image,\n",
    "      alignedROIImage=mask_image,\n",
    "      randomSeed=RANDOM_SEED,\n",
    "      negativeControl=NEGATIVE_CONTROL\n",
    "    )\n",
    "    # Save the negative control image\n",
    "    save_image(\n",
    "      image=neg_control_image,\n",
    "      SeriesInstanceUID=patient.series_CT[-5:],\n",
    "      Modality=\"CT\",\n",
    "      IMAGE_ID=NEGATIVE_CONTROL\n",
    "    )\n",
    "  "
   ]
  },
  {
   "cell_type": "code",
   "execution_count": 16,
   "metadata": {
    "execution": {
     "iopub.execute_input": "2024-12-16T21:40:04.156957Z",
     "iopub.status.busy": "2024-12-16T21:40:04.156275Z",
     "iopub.status.idle": "2024-12-16T21:40:04.413831Z",
     "shell.execute_reply": "2024-12-16T21:40:04.413247Z"
    }
   },
   "outputs": [
    {
     "name": "stdout",
     "output_type": "stream",
     "text": [
      "\u001b[01;34mdata/images/nsclc_radiomics\u001b[0m/\r\n",
      "├── \u001b[01;34mdicoms\u001b[0m/\r\n",
      "│   ├── \u001b[01;34mPatient-LUNG1-101\u001b[0m/\r\n",
      "│   │   └── \u001b[01;34mStudyUID-27911\u001b[0m/\r\n",
      "│   │       ├── \u001b[01;34mCT_SeriesUID-55665\u001b[0m/\r\n",
      "│   │       └── \u001b[01;34mRTSTRUCT_SeriesUID-25865\u001b[0m/\r\n",
      "│   ├── \u001b[01;34mPatient-LUNG1-108\u001b[0m/\r\n",
      "│   │   └── \u001b[01;34mStudyUID-62453\u001b[0m/\r\n",
      "│   │       ├── \u001b[01;34mCT_SeriesUID-81484\u001b[0m/\r\n",
      "│   │       └── \u001b[01;34mRTSTRUCT_SeriesUID-99496\u001b[0m/\r\n",
      "│   └── \u001b[01;34mPatient-LUNG1-162\u001b[0m/\r\n",
      "│       └── \u001b[01;34mStudyUID-21249\u001b[0m/\r\n",
      "│           ├── \u001b[01;34mCT_SeriesUID-72433\u001b[0m/\r\n",
      "│           └── \u001b[01;34mRTSTRUCT_SeriesUID-38612\u001b[0m/\r\n",
      "└── \u001b[01;34mniftis\u001b[0m/\r\n",
      "    ├── \u001b[01;34mSubjectID-0_LUNG1-162\u001b[0m/\r\n",
      "    │   └── \u001b[01;34mStudyUID-21249\u001b[0m/\r\n",
      "    │       ├── \u001b[01;34mCT_SeriesUID-72433\u001b[0m/\r\n",
      "    │       │   ├── \u001b[01;31moriginal.nii.gz\u001b[0m\r\n",
      "    │       │   ├── \u001b[01;31mrandomized_sampled_full.nii.gz\u001b[0m\r\n",
      "    │       │   ├── \u001b[01;31mrandomized_sampled_non_roi.nii.gz\u001b[0m\r\n",
      "    │       │   ├── \u001b[01;31mrandomized_sampled_roi.nii.gz\u001b[0m\r\n",
      "    │       │   ├── \u001b[01;31mshuffled_full.nii.gz\u001b[0m\r\n",
      "    │       │   ├── \u001b[01;31mshuffled_non_roi.nii.gz\u001b[0m\r\n",
      "    │       │   └── \u001b[01;31mshuffled_roi.nii.gz\u001b[0m\r\n",
      "    │       └── \u001b[01;34mRTSTRUCT_SeriesUID-38612\u001b[0m/\r\n",
      "    │           └── \u001b[01;31mGTV.nii.gz\u001b[0m\r\n",
      "    ├── \u001b[01;34mSubjectID-1_LUNG1-101\u001b[0m/\r\n",
      "    │   └── \u001b[01;34mStudyUID-27911\u001b[0m/\r\n",
      "    │       ├── \u001b[01;34mCT_SeriesUID-55665\u001b[0m/\r\n",
      "    │       │   ├── \u001b[01;31moriginal.nii.gz\u001b[0m\r\n",
      "    │       │   ├── \u001b[01;31mrandomized_sampled_full.nii.gz\u001b[0m\r\n",
      "    │       │   ├── \u001b[01;31mrandomized_sampled_non_roi.nii.gz\u001b[0m\r\n",
      "    │       │   ├── \u001b[01;31mrandomized_sampled_roi.nii.gz\u001b[0m\r\n",
      "    │       │   ├── \u001b[01;31mshuffled_full.nii.gz\u001b[0m\r\n",
      "    │       │   ├── \u001b[01;31mshuffled_non_roi.nii.gz\u001b[0m\r\n",
      "    │       │   └── \u001b[01;31mshuffled_roi.nii.gz\u001b[0m\r\n",
      "    │       └── \u001b[01;34mRTSTRUCT_SeriesUID-25865\u001b[0m/\r\n",
      "    │           └── \u001b[01;31mGTV.nii.gz\u001b[0m\r\n",
      "    └── \u001b[01;34mSubjectID-2_LUNG1-108\u001b[0m/\r\n",
      "        └── \u001b[01;34mStudyUID-62453\u001b[0m/\r\n",
      "            ├── \u001b[01;34mCT_SeriesUID-81484\u001b[0m/\r\n",
      "            │   ├── \u001b[01;31moriginal.nii.gz\u001b[0m\r\n",
      "            │   ├── \u001b[01;31mrandomized_sampled_full.nii.gz\u001b[0m\r\n",
      "            │   ├── \u001b[01;31mrandomized_sampled_non_roi.nii.gz\u001b[0m\r\n",
      "            │   ├── \u001b[01;31mrandomized_sampled_roi.nii.gz\u001b[0m\r\n",
      "            │   ├── \u001b[01;31mshuffled_full.nii.gz\u001b[0m\r\n",
      "            │   ├── \u001b[01;31mshuffled_non_roi.nii.gz\u001b[0m\r\n",
      "            │   └── \u001b[01;31mshuffled_roi.nii.gz\u001b[0m\r\n",
      "            └── \u001b[01;34mRTSTRUCT_SeriesUID-99496\u001b[0m/\r\n",
      "                └── \u001b[01;31mGTV.nii.gz\u001b[0m\r\n",
      "\r\n",
      "27 directories, 24 files\r\n"
     ]
    }
   ],
   "source": [
    "# Print the directory structure but hide the actual dicom files to avoid clutter\n",
    "! tree -F $NIFTI_OUTPUT_DIR.parent -I \"*.dcm\""
   ]
  }
 ],
 "metadata": {
  "kernelspec": {
   "display_name": "default",
   "language": "python",
   "name": "python3"
  },
  "language_info": {
   "codemirror_mode": {
    "name": "ipython",
    "version": 3
   },
   "file_extension": ".py",
   "mimetype": "text/x-python",
   "name": "python",
   "nbconvert_exporter": "python",
   "pygments_lexer": "ipython3",
   "version": "3.12.0"
  },
  "widgets": {
   "application/vnd.jupyter.widget-state+json": {
    "state": {
     "08a34bb73f2a484096cc7be6867ec8f1": {
      "model_module": "@jupyter-widgets/base",
      "model_module_version": "2.0.0",
      "model_name": "LayoutModel",
      "state": {
       "_model_module": "@jupyter-widgets/base",
       "_model_module_version": "2.0.0",
       "_model_name": "LayoutModel",
       "_view_count": null,
       "_view_module": "@jupyter-widgets/base",
       "_view_module_version": "2.0.0",
       "_view_name": "LayoutView",
       "align_content": null,
       "align_items": null,
       "align_self": null,
       "border_bottom": null,
       "border_left": null,
       "border_right": null,
       "border_top": null,
       "bottom": null,
       "display": null,
       "flex": null,
       "flex_flow": null,
       "grid_area": null,
       "grid_auto_columns": null,
       "grid_auto_flow": null,
       "grid_auto_rows": null,
       "grid_column": null,
       "grid_gap": null,
       "grid_row": null,
       "grid_template_areas": null,
       "grid_template_columns": null,
       "grid_template_rows": null,
       "height": null,
       "justify_content": null,
       "justify_items": null,
       "left": null,
       "margin": null,
       "max_height": null,
       "max_width": null,
       "min_height": null,
       "min_width": null,
       "object_fit": null,
       "object_position": null,
       "order": null,
       "overflow": null,
       "padding": null,
       "right": null,
       "top": null,
       "visibility": null,
       "width": null
      }
     },
     "1d028561d8d74064825ba4ce5b8c6caf": {
      "model_module": "@jupyter-widgets/output",
      "model_module_version": "1.0.0",
      "model_name": "OutputModel",
      "state": {
       "_dom_classes": [],
       "_model_module": "@jupyter-widgets/output",
       "_model_module_version": "1.0.0",
       "_model_name": "OutputModel",
       "_view_count": null,
       "_view_module": "@jupyter-widgets/output",
       "_view_module_version": "1.0.0",
       "_view_name": "OutputView",
       "layout": "IPY_MODEL_d43bf42252e54d99a6ee2e0fab0b842b",
       "msg_id": "",
       "outputs": [
        {
         "data": {
          "text/html": "<pre style=\"white-space:pre;overflow-x:auto;line-height:normal;font-family:Menlo,'DejaVu Sans Mono',consolas,'Courier New',monospace\">Handling files <span style=\"color: #f92672; text-decoration-color: #f92672\">━━━━━━━━━━━━━━━━━━━━━╸</span><span style=\"color: #3a3a3a; text-decoration-color: #3a3a3a\">━━━━━━━━━━━━━━━━━━</span> <span style=\"color: #800080; text-decoration-color: #800080\"> 55%</span> <span style=\"color: #008000; text-decoration-color: #008000\">228/415</span> Time elapsed: <span style=\"color: #808000; text-decoration-color: #808000\">0:00:00</span>\n</pre>\n",
          "text/plain": "Handling files \u001b[38;2;249;38;114m━━━━━━━━━━━━━━━━━━━━━\u001b[0m\u001b[38;2;249;38;114m╸\u001b[0m\u001b[38;5;237m━━━━━━━━━━━━━━━━━━\u001b[0m \u001b[35m 55%\u001b[0m \u001b[32m228/415\u001b[0m Time elapsed: \u001b[33m0:00:00\u001b[0m\n"
         },
         "metadata": {},
         "output_type": "display_data"
        }
       ],
       "tabbable": null,
       "tooltip": null
      }
     },
     "482262f441c3486d9f941357e0075df8": {
      "model_module": "@jupyter-widgets/output",
      "model_module_version": "1.0.0",
      "model_name": "OutputModel",
      "state": {
       "_dom_classes": [],
       "_model_module": "@jupyter-widgets/output",
       "_model_module_version": "1.0.0",
       "_model_name": "OutputModel",
       "_view_count": null,
       "_view_module": "@jupyter-widgets/output",
       "_view_module_version": "1.0.0",
       "_view_name": "OutputView",
       "layout": "IPY_MODEL_bbf4c001c4d54a53a3e5ee79b9d1ef5e",
       "msg_id": "",
       "outputs": [
        {
         "data": {
          "text/html": "<pre style=\"white-space:pre;overflow-x:auto;line-height:normal;font-family:Menlo,'DejaVu Sans Mono',consolas,'Courier New',monospace\">Resolving paths <span style=\"color: #f92672; text-decoration-color: #f92672\">━━━━━━━━━━━━━━━━━━━━━━━━━━━━━━━━╸</span><span style=\"color: #3a3a3a; text-decoration-color: #3a3a3a\">━━━━━━━</span> <span style=\"color: #800080; text-decoration-color: #800080\"> 82%</span> <span style=\"color: #008000; text-decoration-color: #008000\">341/415</span> Time elapsed: <span style=\"color: #808000; text-decoration-color: #808000\">0:00:00</span>\n</pre>\n",
          "text/plain": "Resolving paths \u001b[38;2;249;38;114m━━━━━━━━━━━━━━━━━━━━━━━━━━━━━━━━\u001b[0m\u001b[38;2;249;38;114m╸\u001b[0m\u001b[38;5;237m━━━━━━━\u001b[0m \u001b[35m 82%\u001b[0m \u001b[32m341/415\u001b[0m Time elapsed: \u001b[33m0:00:00\u001b[0m\n"
         },
         "metadata": {},
         "output_type": "display_data"
        }
       ],
       "tabbable": null,
       "tooltip": null
      }
     },
     "4d23d327e2594120a947a31cc5292268": {
      "model_module": "@jupyter-widgets/controls",
      "model_module_version": "2.0.0",
      "model_name": "ProgressStyleModel",
      "state": {
       "_model_module": "@jupyter-widgets/controls",
       "_model_module_version": "2.0.0",
       "_model_name": "ProgressStyleModel",
       "_view_count": null,
       "_view_module": "@jupyter-widgets/base",
       "_view_module_version": "2.0.0",
       "_view_name": "StyleView",
       "bar_color": null,
       "description_width": ""
      }
     },
     "5bb93cafe9104f2394a27f026b9aad15": {
      "model_module": "@jupyter-widgets/controls",
      "model_module_version": "2.0.0",
      "model_name": "IntProgressModel",
      "state": {
       "_dom_classes": [],
       "_model_module": "@jupyter-widgets/controls",
       "_model_module_version": "2.0.0",
       "_model_name": "IntProgressModel",
       "_view_count": null,
       "_view_module": "@jupyter-widgets/controls",
       "_view_module_version": "2.0.0",
       "_view_name": "ProgressView",
       "bar_style": "info",
       "description": "Downloading:",
       "description_allow_html": false,
       "layout": "IPY_MODEL_d9b679f64a034f05a71d49b0ddff4818",
       "max": 412,
       "min": 0,
       "orientation": "horizontal",
       "style": "IPY_MODEL_4d23d327e2594120a947a31cc5292268",
       "tabbable": null,
       "tooltip": null,
       "value": 412
      }
     },
     "bbf4c001c4d54a53a3e5ee79b9d1ef5e": {
      "model_module": "@jupyter-widgets/base",
      "model_module_version": "2.0.0",
      "model_name": "LayoutModel",
      "state": {
       "_model_module": "@jupyter-widgets/base",
       "_model_module_version": "2.0.0",
       "_model_name": "LayoutModel",
       "_view_count": null,
       "_view_module": "@jupyter-widgets/base",
       "_view_module_version": "2.0.0",
       "_view_name": "LayoutView",
       "align_content": null,
       "align_items": null,
       "align_self": null,
       "border_bottom": null,
       "border_left": null,
       "border_right": null,
       "border_top": null,
       "bottom": null,
       "display": null,
       "flex": null,
       "flex_flow": null,
       "grid_area": null,
       "grid_auto_columns": null,
       "grid_auto_flow": null,
       "grid_auto_rows": null,
       "grid_column": null,
       "grid_gap": null,
       "grid_row": null,
       "grid_template_areas": null,
       "grid_template_columns": null,
       "grid_template_rows": null,
       "height": null,
       "justify_content": null,
       "justify_items": null,
       "left": null,
       "margin": null,
       "max_height": null,
       "max_width": null,
       "min_height": null,
       "min_width": null,
       "object_fit": null,
       "object_position": null,
       "order": null,
       "overflow": null,
       "padding": null,
       "right": null,
       "top": null,
       "visibility": null,
       "width": null
      }
     },
     "c458cd4d30054c1db49b344b7ec7131e": {
      "model_module": "@jupyter-widgets/controls",
      "model_module_version": "2.0.0",
      "model_name": "IntProgressModel",
      "state": {
       "_dom_classes": [],
       "_model_module": "@jupyter-widgets/controls",
       "_model_module_version": "2.0.0",
       "_model_name": "IntProgressModel",
       "_view_count": null,
       "_view_module": "@jupyter-widgets/controls",
       "_view_module_version": "2.0.0",
       "_view_name": "ProgressView",
       "bar_style": "info",
       "description": "Downloading:",
       "description_allow_html": false,
       "layout": "IPY_MODEL_08a34bb73f2a484096cc7be6867ec8f1",
       "max": 3,
       "min": 0,
       "orientation": "horizontal",
       "style": "IPY_MODEL_e5a875ebbf574d79bcb9358c64eb83e2",
       "tabbable": null,
       "tooltip": null,
       "value": 3
      }
     },
     "d43bf42252e54d99a6ee2e0fab0b842b": {
      "model_module": "@jupyter-widgets/base",
      "model_module_version": "2.0.0",
      "model_name": "LayoutModel",
      "state": {
       "_model_module": "@jupyter-widgets/base",
       "_model_module_version": "2.0.0",
       "_model_name": "LayoutModel",
       "_view_count": null,
       "_view_module": "@jupyter-widgets/base",
       "_view_module_version": "2.0.0",
       "_view_name": "LayoutView",
       "align_content": null,
       "align_items": null,
       "align_self": null,
       "border_bottom": null,
       "border_left": null,
       "border_right": null,
       "border_top": null,
       "bottom": null,
       "display": null,
       "flex": null,
       "flex_flow": null,
       "grid_area": null,
       "grid_auto_columns": null,
       "grid_auto_flow": null,
       "grid_auto_rows": null,
       "grid_column": null,
       "grid_gap": null,
       "grid_row": null,
       "grid_template_areas": null,
       "grid_template_columns": null,
       "grid_template_rows": null,
       "height": null,
       "justify_content": null,
       "justify_items": null,
       "left": null,
       "margin": null,
       "max_height": null,
       "max_width": null,
       "min_height": null,
       "min_width": null,
       "object_fit": null,
       "object_position": null,
       "order": null,
       "overflow": null,
       "padding": null,
       "right": null,
       "top": null,
       "visibility": null,
       "width": null
      }
     },
     "d9b679f64a034f05a71d49b0ddff4818": {
      "model_module": "@jupyter-widgets/base",
      "model_module_version": "2.0.0",
      "model_name": "LayoutModel",
      "state": {
       "_model_module": "@jupyter-widgets/base",
       "_model_module_version": "2.0.0",
       "_model_name": "LayoutModel",
       "_view_count": null,
       "_view_module": "@jupyter-widgets/base",
       "_view_module_version": "2.0.0",
       "_view_name": "LayoutView",
       "align_content": null,
       "align_items": null,
       "align_self": null,
       "border_bottom": null,
       "border_left": null,
       "border_right": null,
       "border_top": null,
       "bottom": null,
       "display": null,
       "flex": null,
       "flex_flow": null,
       "grid_area": null,
       "grid_auto_columns": null,
       "grid_auto_flow": null,
       "grid_auto_rows": null,
       "grid_column": null,
       "grid_gap": null,
       "grid_row": null,
       "grid_template_areas": null,
       "grid_template_columns": null,
       "grid_template_rows": null,
       "height": null,
       "justify_content": null,
       "justify_items": null,
       "left": null,
       "margin": null,
       "max_height": null,
       "max_width": null,
       "min_height": null,
       "min_width": null,
       "object_fit": null,
       "object_position": null,
       "order": null,
       "overflow": null,
       "padding": null,
       "right": null,
       "top": null,
       "visibility": null,
       "width": null
      }
     },
     "e5a875ebbf574d79bcb9358c64eb83e2": {
      "model_module": "@jupyter-widgets/controls",
      "model_module_version": "2.0.0",
      "model_name": "ProgressStyleModel",
      "state": {
       "_model_module": "@jupyter-widgets/controls",
       "_model_module_version": "2.0.0",
       "_model_name": "ProgressStyleModel",
       "_view_count": null,
       "_view_module": "@jupyter-widgets/base",
       "_view_module_version": "2.0.0",
       "_view_name": "StyleView",
       "bar_color": null,
       "description_width": ""
      }
     }
    },
    "version_major": 2,
    "version_minor": 0
   }
  }
 },
 "nbformat": 4,
 "nbformat_minor": 2
}
