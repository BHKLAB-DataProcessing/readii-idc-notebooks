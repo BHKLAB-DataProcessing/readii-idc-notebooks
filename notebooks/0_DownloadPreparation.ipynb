{
 "cells": [
  {
   "cell_type": "code",
   "execution_count": 3,
   "metadata": {},
   "outputs": [],
   "source": [
    "import asyncio\n",
    "import os\n",
    "import subprocess\n",
    "import tempfile\n",
    "from pathlib import Path\n",
    "\n",
    "import aiohttp\n",
    "import ipywidgets as widgets\n",
    "from idc_index import index\n",
    "from imgtools.dicom.sort import DICOMSorter\n",
    "from imgtools.logging import logger as imgtools_logger\n",
    "from pydicom import dcmread\n",
    "\n",
    "imgtools_logger.setLevel(\"WARNING\")"
   ]
  },
  {
   "cell_type": "markdown",
   "metadata": {},
   "source": [
    "# SETUP "
   ]
  },
  {
   "cell_type": "code",
   "execution_count": 4,
   "metadata": {},
   "outputs": [
    {
     "name": "stdout",
     "output_type": "stream",
     "text": [
      "Current IDC Version: v17\n",
      "Found 142 collections\n"
     ]
    },
    {
     "data": {
      "text/html": [
       "<div>\n",
       "<style scoped>\n",
       "    .dataframe tbody tr th:only-of-type {\n",
       "        vertical-align: middle;\n",
       "    }\n",
       "\n",
       "    .dataframe tbody tr th {\n",
       "        vertical-align: top;\n",
       "    }\n",
       "\n",
       "    .dataframe thead th {\n",
       "        text-align: right;\n",
       "    }\n",
       "</style>\n",
       "<table border=\"1\" class=\"dataframe\">\n",
       "  <thead>\n",
       "    <tr style=\"text-align: right;\">\n",
       "      <th></th>\n",
       "      <th>Modality</th>\n",
       "      <th>series_size_MB</th>\n",
       "    </tr>\n",
       "    <tr>\n",
       "      <th>collection_id</th>\n",
       "      <th></th>\n",
       "      <th></th>\n",
       "    </tr>\n",
       "  </thead>\n",
       "  <tbody>\n",
       "    <tr>\n",
       "      <th>4d_lung</th>\n",
       "      <td>[RTSTRUCT, CT]</td>\n",
       "      <td>183054.14</td>\n",
       "    </tr>\n",
       "    <tr>\n",
       "      <th>acrin_6698</th>\n",
       "      <td>[MR, SEG]</td>\n",
       "      <td>841956.27</td>\n",
       "    </tr>\n",
       "    <tr>\n",
       "      <th>acrin_contralateral_breast_mr</th>\n",
       "      <td>[MR, CR]</td>\n",
       "      <td>199592.57</td>\n",
       "    </tr>\n",
       "    <tr>\n",
       "      <th>acrin_flt_breast</th>\n",
       "      <td>[PT, CT, OT]</td>\n",
       "      <td>74235.64</td>\n",
       "    </tr>\n",
       "    <tr>\n",
       "      <th>acrin_nsclc_fdg_pet</th>\n",
       "      <td>[PT, CT, DX, CR, NM, MR, SC, SEG]</td>\n",
       "      <td>145677.88</td>\n",
       "    </tr>\n",
       "    <tr>\n",
       "      <th>...</th>\n",
       "      <td>...</td>\n",
       "      <td>...</td>\n",
       "    </tr>\n",
       "    <tr>\n",
       "      <th>tcga_uvm</th>\n",
       "      <td>[SM]</td>\n",
       "      <td>102250.70</td>\n",
       "    </tr>\n",
       "    <tr>\n",
       "      <th>upenn_gbm</th>\n",
       "      <td>[MR]</td>\n",
       "      <td>139399.35</td>\n",
       "    </tr>\n",
       "    <tr>\n",
       "      <th>vestibular_schwannoma_mc_rc</th>\n",
       "      <td>[MR]</td>\n",
       "      <td>10015.97</td>\n",
       "    </tr>\n",
       "    <tr>\n",
       "      <th>vestibular_schwannoma_seg</th>\n",
       "      <td>[RTDOSE, RTSTRUCT, RTPLAN, MR]</td>\n",
       "      <td>28194.20</td>\n",
       "    </tr>\n",
       "    <tr>\n",
       "      <th>victre</th>\n",
       "      <td>[MG]</td>\n",
       "      <td>1027187.60</td>\n",
       "    </tr>\n",
       "  </tbody>\n",
       "</table>\n",
       "<p>142 rows × 2 columns</p>\n",
       "</div>"
      ],
      "text/plain": [
       "                                                        Modality  \\\n",
       "collection_id                                                      \n",
       "4d_lung                                           [RTSTRUCT, CT]   \n",
       "acrin_6698                                             [MR, SEG]   \n",
       "acrin_contralateral_breast_mr                           [MR, CR]   \n",
       "acrin_flt_breast                                    [PT, CT, OT]   \n",
       "acrin_nsclc_fdg_pet            [PT, CT, DX, CR, NM, MR, SC, SEG]   \n",
       "...                                                          ...   \n",
       "tcga_uvm                                                    [SM]   \n",
       "upenn_gbm                                                   [MR]   \n",
       "vestibular_schwannoma_mc_rc                                 [MR]   \n",
       "vestibular_schwannoma_seg         [RTDOSE, RTSTRUCT, RTPLAN, MR]   \n",
       "victre                                                      [MG]   \n",
       "\n",
       "                               series_size_MB  \n",
       "collection_id                                  \n",
       "4d_lung                             183054.14  \n",
       "acrin_6698                          841956.27  \n",
       "acrin_contralateral_breast_mr       199592.57  \n",
       "acrin_flt_breast                     74235.64  \n",
       "acrin_nsclc_fdg_pet                 145677.88  \n",
       "...                                       ...  \n",
       "tcga_uvm                            102250.70  \n",
       "upenn_gbm                           139399.35  \n",
       "vestibular_schwannoma_mc_rc          10015.97  \n",
       "vestibular_schwannoma_seg            28194.20  \n",
       "victre                             1027187.60  \n",
       "\n",
       "[142 rows x 2 columns]"
      ]
     },
     "execution_count": 4,
     "metadata": {},
     "output_type": "execute_result"
    }
   ],
   "source": [
    "# Create a client object from the IDC package\n",
    "client = index.IDCClient()\n",
    "print(f'Current IDC Version: {client.get_idc_version()}')\n",
    "\n",
    "# Get the list of collections\n",
    "collections = sorted(client.get_collections())\n",
    "print(f\"Found {len(collections)} collections\")  \n",
    "client.collection_summary"
   ]
  },
  {
   "cell_type": "markdown",
   "metadata": {},
   "source": [
    "# Filter Collections that have both RTSTRUCTS and CTs"
   ]
  },
  {
   "cell_type": "code",
   "execution_count": 5,
   "metadata": {},
   "outputs": [
    {
     "name": "stdout",
     "output_type": "stream",
     "text": [
      "Found 13 collections with both RTSTRUCT and CT\n"
     ]
    },
    {
     "data": {
      "text/plain": [
       "collection_id\n",
       "4d_lung                                           {CT, RTSTRUCT}\n",
       "cc_tumor_heterogeneity               {CT, RTSTRUCT, MR, REG, PT}\n",
       "cptac_ccrcc                               {MR, CT, SM, RTSTRUCT}\n",
       "cptac_pda                         {CT, SM, RTSTRUCT, MR, US, PT}\n",
       "cptac_ucec                            {CT, SM, RTSTRUCT, MR, PT}\n",
       "lctsc                                             {CT, RTSTRUCT}\n",
       "nsclc_radiomics                          {CT, SEG, SR, RTSTRUCT}\n",
       "nsclc_radiomics_interobserver1               {CT, SEG, RTSTRUCT}\n",
       "pancreatic_ct_cbct_seg                    {CT, RTDOSE, RTSTRUCT}\n",
       "pediatric_ct_seg                                  {CT, RTSTRUCT}\n",
       "prostate_anatomical_edge_cases                    {CT, RTSTRUCT}\n",
       "rider_lung_ct                        {SR, CT, RTSTRUCT, PR, SEG}\n",
       "soft_tissue_sarcoma                       {MR, PT, CT, RTSTRUCT}\n",
       "Name: Modality, dtype: object"
      ]
     },
     "execution_count": 5,
     "metadata": {},
     "output_type": "execute_result"
    }
   ],
   "source": [
    "# Group the data by 'collection_id' and aggregate the 'Modality' column into a set for each group\n",
    "# Aggregate the 'Modality' column into a set, so we get unique modalities per 'collection_id'\n",
    "# Filter groups where the 'Modality' set includes both 'RTSTRUCT' and 'CT'\n",
    "rt_ct_collections = client.index\\\n",
    "  .groupby('collection_id')['Modality']\\\n",
    "  .agg(set)\\\n",
    "  .loc[lambda x: x.map({'RTSTRUCT', 'CT'}.issubset)]\n",
    "\n",
    "print(f\"Found {len(rt_ct_collections)} collections with both RTSTRUCT and CT\")\n",
    "rt_ct_collections"
   ]
  },
  {
   "cell_type": "markdown",
   "metadata": {},
   "source": [
    "# Select a Collection\n",
    "\n",
    "The default is `nsclc_radiomics`.\n",
    "\n",
    "for the sake of the demonstration, the dropdown options are disabled."
   ]
  },
  {
   "cell_type": "code",
   "execution_count": 6,
   "metadata": {},
   "outputs": [],
   "source": [
    "# collection_list = rt_ct_collections.index\n",
    "\n",
    "# collection_widget = widgets.Dropdown(\n",
    "#     options=collection_list,\n",
    "#     description='Collection:',\n",
    "#     value='nsclc_radiomics',\n",
    "#     disabled=False,\n",
    "# )\n",
    "# display(collection_widget)\n",
    "# COLLECTION_ID = collection_widget.value \n"
   ]
  },
  {
   "cell_type": "code",
   "execution_count": 7,
   "metadata": {},
   "outputs": [],
   "source": [
    "COLLECTION_ID = 'nsclc_radiomics'"
   ]
  },
  {
   "cell_type": "code",
   "execution_count": 8,
   "metadata": {},
   "outputs": [
    {
     "name": "stdout",
     "output_type": "stream",
     "text": [
      "Found 4926 series in collection nsclc_radiomics\n",
      "Found 422 RTSTRUCT series in collection nsclc_radiomics\n"
     ]
    }
   ],
   "source": [
    "\n",
    "matching_series = client.index.loc[client.index.collection_id == COLLECTION_ID, ['SeriesInstanceUID', 'Modality', \"series_size_MB\"]]\n",
    "print(f\"Found {len(matching_series)} series in collection {COLLECTION_ID}\")\n",
    "options=[\n",
    "  (\n",
    "    f'SeriesUID-{row['SeriesInstanceUID'][-10:]} [Modality: {row[\"Modality\"]}; Size: {row[\"series_size_MB\"]}MB]',\n",
    "    row[\"SeriesInstanceUID\"]\n",
    "  )\n",
    "  for _, row in matching_series.iterrows()\n",
    "  if row['Modality'] == 'RTSTRUCT'\n",
    "]\n",
    "print(f\"Found {len(options)} RTSTRUCT series in collection {COLLECTION_ID}\")\n",
    "# rt_widget = widgets.Dropdown(\n",
    "#     options=options,\n",
    "#     description='Series:',\n",
    "#     layout={'width': 'max-content'},\n",
    "#     disabled=False,\n",
    "# )\n",
    "# display(rt_widget)"
   ]
  },
  {
   "cell_type": "markdown",
   "metadata": {},
   "source": [
    "## Setting up Directories To Download\n"
   ]
  },
  {
   "cell_type": "code",
   "execution_count": 9,
   "metadata": {},
   "outputs": [],
   "source": [
    "# Find user's s5cmd path\n",
    "s5cmd = client.s5cmdPath\n",
    "\n",
    "# Save data to local directory\n",
    "DATA_DIR = Path('data') \n",
    "\n",
    "# Create a temporary directory to store the downloaded files before moving them to local directory\n",
    "TMP_DIR = Path(tempfile.mkdtemp())\n",
    "TMP_DIR.mkdir(parents=True, exist_ok=True)\n",
    "\n"
   ]
  },
  {
   "cell_type": "markdown",
   "metadata": {},
   "source": [
    "## Download chosen RTSTRUCT and CT files\n",
    "\n",
    "1. download the RTSTRUCT\n",
    "2. Query the RTSTRUCT's metadata for the CT `SeriesInstanceUID` it references\n",
    "3. Download the CT files corresponding to the `SeriesInstanceUID`"
   ]
  },
  {
   "cell_type": "code",
   "execution_count": 10,
   "metadata": {},
   "outputs": [],
   "source": [
    "async def download_file(s3_url: str, output_dir: str, progress) -> None:\n",
    "\t\"\"\"\n",
    "\tDownload a file from a public S3 bucket URL to the specified directory.\n",
    "\n",
    "\tParameters\n",
    "\t----------\n",
    "\ts3_url : str\n",
    "\t\tThe S3 URL of the file (e.g., s3://bucket/key).\n",
    "\toutput_dir : str\n",
    "\t\tThe directory where the file will be saved.\n",
    "\t\"\"\"\n",
    "\t# Convert the S3 URL to an HTTP URL\n",
    "\thttp_url = s3_url.replace(\"s3://\", \"https://s3.amazonaws.com/\")\n",
    "\t\n",
    "\tfilename = os.path.basename(http_url)\n",
    "\toutput_path = os.path.join(output_dir, filename)\n",
    "\n",
    "\t# Ensure the output directory exists\n",
    "\tos.makedirs(output_dir, exist_ok=True)\n",
    "\n",
    "\tasync with aiohttp.ClientSession() as session:\n",
    "\t\tasync with session.get(http_url) as response:\n",
    "\t\t\tif response.status != 200:\n",
    "\t\t\t\t# raise Exception(f\"Failed to fetch {s3_url}. HTTP status: {response.status}\")\n",
    "\t\t\t\tprint(f\"Failed to fetch {s3_url}. HTTP status: {response.status}\")\n",
    "\t\t\t\n",
    "\t\t\t# Save the file with a progress bar\n",
    "\t\t\t# total_size = int(response.headers.get(\"Content-Length\", 0))\n",
    "\t\t\twith open(output_path, \"wb\") as file:\n",
    "\t\t\t# \t tqdm(\n",
    "\t\t\t# \ttotal=total_size, unit=\"B\", unit_scale=True, desc=filename\n",
    "\t\t\t# ) as pba\n",
    "\t\t\t\tasync for chunk in response.content.iter_chunked(1024):\n",
    "\t\t\t\t\tfile.write(chunk)\n",
    "\t\t\tprogress.value += 1\n",
    "\t# print(f\"Downloaded: {output_path}\")\n",
    "\n",
    "async def download_files_from_list(s3_paths: list[str], output_dir: str) -> None:\n",
    "\t\"\"\"\n",
    "\tDownload all files from a list of S3 URLs.\n",
    "\n",
    "\tParameters\n",
    "\t----------\n",
    "\ts3_paths : list[str]\n",
    "\t\tList of S3 URLs to download.\n",
    "\toutput_dir : str\n",
    "\t\tThe directory where all files will be saved.\n",
    "\t\"\"\" \n",
    "\n",
    "\tpbar = widgets.IntProgress(\n",
    "\t\tvalue=0,\n",
    "\t\tmin=0,\n",
    "\t\tmax=len(s3_paths),\n",
    "\t\tdescription=\"Downloading:\",\n",
    "\t\tbar_style=\"info\",\n",
    "\t\torientation=\"horizontal\"\n",
    "\t)\n",
    "\tdisplay(pbar)\n",
    "\n",
    "\ttasks = [download_file(s3_url, output_dir, pbar) for s3_url in s3_paths]\n",
    "\tawait asyncio.gather(*tasks)"
   ]
  },
  {
   "cell_type": "code",
   "execution_count": 11,
   "metadata": {},
   "outputs": [
    {
     "data": {
      "application/vnd.jupyter.widget-view+json": {
       "model_id": "3d3c0e0c8afb42a095b054ec146b1a37",
       "version_major": 2,
       "version_minor": 0
      },
      "text/plain": [
       "IntProgress(value=0, bar_style='info', description='Downloading:', max=10)"
      ]
     },
     "metadata": {},
     "output_type": "display_data"
    }
   ],
   "source": [
    "# rt_url = client.get_series_file_URLs(rt_widget.value)[0]\n",
    "# print(rt_url)\n",
    "# print(\"Downloading RTSTRUCT file...\")\n",
    "# # ! $s5cmd --no-sign-request --endpoint-url https://s3.amazonaws.com cp --show-progress  $rt_url $TMP_DIR\n",
    "# rt_path = TMP_DIR.iterdir().__next__()\n",
    "# print(f\"RTSTRUCT file downloaded to {rt_path}\")\n",
    "import random # noqa\n",
    "\n",
    "# set random seed for random \n",
    "\n",
    "random.seed(42)\n",
    "\n",
    "NUM_RTSTRUCTS = 10\n",
    "\n",
    "rtstruct_uids = [options[i][1] for i in random.sample(range(len(options)), NUM_RTSTRUCTS)]\n",
    "\n",
    "rt_paths = [client.get_series_file_URLs(uid)[0] for uid in rtstruct_uids]\n",
    "await download_files_from_list(rt_paths, TMP_DIR)\n",
    "\n",
    "patients = client.index[client.index.SeriesInstanceUID.isin(rtstruct_uids)].PatientID.unique()\n",
    "\n",
    "# get all series for the selected patients\n",
    "# series = client.index[client.index.PatientID.isin(patients)][client.index.Modality.isin([\"CT\", \"RTSTRUCT\"])].SeriesInstanceUID.unique()\n",
    "# paths = []\n",
    "# for series in series:\n",
    "#   paths.extend(client.get_series_file_URLs(series))\n",
    "\n",
    "# # await download_files_from_list(paths, TMP_DIR)\n",
    "# for path in paths:\n",
    "#   print(path)\n",
    "# for seriesUID in series:\n",
    "  # client.download_dicom_series(seriesInstanceUID=seriesUID, downloadDir=TMP_DIR, quiet=False)"
   ]
  },
  {
   "cell_type": "code",
   "execution_count": 12,
   "metadata": {},
   "outputs": [
    {
     "name": "stdout",
     "output_type": "stream",
     "text": [
      "Found 1237 CT files to download for 10 RTSTRUCT series\n"
     ]
    }
   ],
   "source": [
    "# ds = dcmread(rt_path, stop_before_pixels=True, specific_tags=['ReferencedFrameOfReferenceSequence', 'StructureSetROISequence'])\n",
    "\n",
    "# referenced_ct = ds.ReferencedFrameOfReferenceSequence[0].RTReferencedStudySequence[0].RTReferencedSeriesSequence[0].SeriesInstanceUID\n",
    "# print(f\"Referenced CT Series: {referenced_ct}\")\n",
    "\n",
    "ct_paths = []\n",
    "for rt in TMP_DIR.iterdir():\n",
    "    ds = dcmread(rt, stop_before_pixels=True, specific_tags=['ReferencedFrameOfReferenceSequence', 'StructureSetROISequence', 'Modality'])\n",
    "    if not ds.Modality == 'RTSTRUCT':\n",
    "        print(f\"Skipping non-RTSTRUCT file: {rt}\")\n",
    "    referenced_ct = ds.ReferencedFrameOfReferenceSequence[0].RTReferencedStudySequence[0].RTReferencedSeriesSequence[0].SeriesInstanceUID\n",
    "    ct_paths.extend(client.get_series_file_URLs(referenced_ct))\n",
    "\n",
    "print(f'Found {len(ct_paths)} CT files to download for {len(rt_paths)} RTSTRUCT series')\n"
   ]
  },
  {
   "cell_type": "code",
   "execution_count": 13,
   "metadata": {},
   "outputs": [
    {
     "name": "stdout",
     "output_type": "stream",
     "text": [
      "Downloading CT files...\n"
     ]
    },
    {
     "data": {
      "application/vnd.jupyter.widget-view+json": {
       "model_id": "a3fd0084ffaa4ad49b0d81df3ddbcb6e",
       "version_major": 2,
       "version_minor": 0
      },
      "text/plain": [
       "IntProgress(value=0, bar_style='info', description='Downloading:', max=1237)"
      ]
     },
     "metadata": {},
     "output_type": "display_data"
    },
    {
     "name": "stdout",
     "output_type": "stream",
     "text": [
      "CT files downloaded\n"
     ]
    }
   ],
   "source": [
    "print(\"Downloading CT files...\")\n",
    "await download_files_from_list(ct_paths, TMP_DIR)\n",
    "print(\"CT files downloaded\")"
   ]
  },
  {
   "cell_type": "markdown",
   "metadata": {},
   "source": [
    "# Sort the dicom files into an appropriate structure\n",
    "\n",
    "The dicom files are all named with a unique UUID. \n",
    "This makes it difficult to understand which files are related to each other.\n",
    "\n",
    "We will sort the files into a directory structure that makes it easier to understand the relationships between the files.\n",
    "\n",
    "This uses `Med-ImageTools`' `DICOMSorter` class to sort the files into a directory structure.\n",
    "\n",
    "The structure we are aiming for is:\n",
    "\n",
    "```console\n",
    "./data/<collection_name>/dicoms/sorted/\n",
    "└── Patient-<PatientID>\n",
    "    └── StudyUID-<StudyInstanceUID>\n",
    "        ├── <Modality>_SeriesUID-<SeriesInstanceUID>\n",
    "        └── <Modality2>_SeriesUID-<SeriesInstanceUID>\n",
    "            ├── DICOM-FILE\n",
    "            └── DICOM-FILE\n",
    "```\n",
    "\n",
    "**Note:**\n",
    "Earlier, we downloaded the data to a temporary directory, so we will perform a `move` operation on the sorter\n",
    "If you do not want to move your input data, you can use the `symlink` option to create symbolic links to the files instead of moving them."
   ]
  },
  {
   "cell_type": "code",
   "execution_count": 14,
   "metadata": {},
   "outputs": [
    {
     "data": {
      "application/vnd.jupyter.widget-view+json": {
       "model_id": "1d35eeb0944e4479b29e0b44423fdc00",
       "version_major": 2,
       "version_minor": 0
      },
      "text/plain": [
       "Output()"
      ]
     },
     "metadata": {},
     "output_type": "display_data"
    },
    {
     "data": {
      "text/html": [
       "<pre style=\"white-space:pre;overflow-x:auto;line-height:normal;font-family:Menlo,'DejaVu Sans Mono',consolas,'Courier New',monospace\"></pre>\n"
      ],
      "text/plain": []
     },
     "metadata": {},
     "output_type": "display_data"
    },
    {
     "data": {
      "application/vnd.jupyter.widget-view+json": {
       "model_id": "5a2764f9c3b34094a4471af3ca79630a",
       "version_major": 2,
       "version_minor": 0
      },
      "text/plain": [
       "Output()"
      ]
     },
     "metadata": {},
     "output_type": "display_data"
    },
    {
     "data": {
      "text/html": [
       "<pre style=\"white-space:pre;overflow-x:auto;line-height:normal;font-family:Menlo,'DejaVu Sans Mono',consolas,'Courier New',monospace\"></pre>\n"
      ],
      "text/plain": []
     },
     "metadata": {},
     "output_type": "display_data"
    }
   ],
   "source": [
    "sorted_path = DATA_DIR / \"images\" / COLLECTION_ID / \"dicoms\"\n",
    "\n",
    "NIFTI_OUTPUT_DIR = DATA_DIR / \"images\" / COLLECTION_ID / \"niftis\"\n",
    "\n",
    "dicomsorter = DICOMSorter(\n",
    "  source_directory=TMP_DIR.absolute(),\n",
    "  target_pattern=Path(\n",
    "    sorted_path,\n",
    "    \"Patient-%PatientID/StudyUID-%StudyInstanceUID/%Modality_SeriesUID-%SeriesInstanceUID/\"\n",
    "  ).as_posix(),\n",
    ")\n",
    "dicomsorter.execute(action=\"move\")\n"
   ]
  },
  {
   "cell_type": "code",
   "execution_count": 15,
   "metadata": {},
   "outputs": [
    {
     "name": "stdout",
     "output_type": "stream",
     "text": [
      "New Directory Structure: \n",
      "\u001b[01;34m/Users/bhklab/dev/radiomics/readii-idc-notebooks/notebooks/data/images/nsclc_radiomics/dicoms\u001b[0m\n",
      "├── \u001b[01;34mPatient-LUNG1-005\u001b[0m\n",
      "│   └── \u001b[01;34mStudyUID-93819\u001b[0m\n",
      "│       ├── \u001b[01;34mCT_SeriesUID-68747\u001b[0m\n",
      "│       └── \u001b[01;34mRTSTRUCT_SeriesUID-99068\u001b[0m\n",
      "├── \u001b[01;34mPatient-LUNG1-027\u001b[0m\n",
      "│   └── \u001b[01;34mStudyUID-35913\u001b[0m\n",
      "│       ├── \u001b[01;34mCT_SeriesUID-45865\u001b[0m\n",
      "│       └── \u001b[01;34mRTSTRUCT_SeriesUID-63878\u001b[0m\n",
      "├── \u001b[01;34mPatient-LUNG1-101\u001b[0m\n",
      "│   └── \u001b[01;34mStudyUID-27911\u001b[0m\n",
      "│       ├── \u001b[01;34mCT_SeriesUID-55665\u001b[0m\n",
      "│       └── \u001b[01;34mRTSTRUCT_SeriesUID-25865\u001b[0m\n",
      "├── \u001b[01;34mPatient-LUNG1-108\u001b[0m\n",
      "│   └── \u001b[01;34mStudyUID-62453\u001b[0m\n",
      "│       ├── \u001b[01;34mCT_SeriesUID-81484\u001b[0m\n",
      "│       └── \u001b[01;34mRTSTRUCT_SeriesUID-99496\u001b[0m\n",
      "├── \u001b[01;34mPatient-LUNG1-162\u001b[0m\n",
      "│   └── \u001b[01;34mStudyUID-21249\u001b[0m\n",
      "│       ├── \u001b[01;34mCT_SeriesUID-72433\u001b[0m\n",
      "│       └── \u001b[01;34mRTSTRUCT_SeriesUID-38612\u001b[0m\n",
      "├── \u001b[01;34mPatient-LUNG1-202\u001b[0m\n",
      "│   └── \u001b[01;34mStudyUID-47068\u001b[0m\n",
      "│       ├── \u001b[01;34mCT_SeriesUID-64821\u001b[0m\n",
      "│       └── \u001b[01;34mRTSTRUCT_SeriesUID-56100\u001b[0m\n",
      "├── \u001b[01;34mPatient-LUNG1-229\u001b[0m\n",
      "│   └── \u001b[01;34mStudyUID-22809\u001b[0m\n",
      "│       ├── \u001b[01;34mCT_SeriesUID-29880\u001b[0m\n",
      "│       └── \u001b[01;34mRTSTRUCT_SeriesUID-54435\u001b[0m\n",
      "├── \u001b[01;34mPatient-LUNG1-269\u001b[0m\n",
      "│   └── \u001b[01;34mStudyUID-27195\u001b[0m\n",
      "│       ├── \u001b[01;34mCT_SeriesUID-30065\u001b[0m\n",
      "│       └── \u001b[01;34mRTSTRUCT_SeriesUID-09474\u001b[0m\n",
      "├── \u001b[01;34mPatient-LUNG1-321\u001b[0m\n",
      "│   └── \u001b[01;34mStudyUID-98086\u001b[0m\n",
      "│       ├── \u001b[01;34mCT_SeriesUID-57753\u001b[0m\n",
      "│       └── \u001b[01;34mRTSTRUCT_SeriesUID-47118\u001b[0m\n",
      "└── \u001b[01;34mPatient-LUNG1-342\u001b[0m\n",
      "    └── \u001b[01;34mStudyUID-33638\u001b[0m\n",
      "        ├── \u001b[01;34mCT_SeriesUID-0"
     ]
    },
    {
     "data": {
      "text/plain": [
       "CompletedProcess(args=['tree', '-d', PosixPath('/Users/bhklab/dev/radiomics/readii-idc-notebooks/notebooks/data/images/nsclc_radiomics/dicoms')], returncode=0)"
      ]
     },
     "execution_count": 15,
     "metadata": {},
     "output_type": "execute_result"
    },
    {
     "name": "stdout",
     "output_type": "stream",
     "text": [
      "1555\u001b[0m\n",
      "        └── \u001b[01;34mRTSTRUCT_SeriesUID-09318\u001b[0m\n",
      "\n",
      "41 directories\n"
     ]
    }
   ],
   "source": [
    "print(\"New Directory Structure: \")\n",
    "subprocess.run([\"tree\", \"-d\", sorted_path.absolute()])"
   ]
  },
  {
   "cell_type": "code",
   "execution_count": 16,
   "metadata": {},
   "outputs": [],
   "source": [
    "# Modalities of interest, \n",
    "MODALITIES = [\"CT\", \"RTSTRUCT\"]\n",
    "\n",
    "\n",
    "PYRADIOMICS_CONFIG = Path().cwd().parent / \"pyradiomics.yaml\"\n",
    "RANDOM_SEED = 10\n",
    "IMAGE_TYPES =  [\"shuffled_full\",\"shuffled_roi\",\"shuffled_non_roi\",\"randomized_sampled_full\",\"randomized_sampled_roi\",\"randomized_sampled_non_roi\"]\n",
    "\n",
    "ROI_NAME = \"GTV\"\n",
    "roi_match_pattern = {ROI_NAME: \"^(GTV.*)$\"} # Use a regex to match the ROI name to rois like \"GTV 1\", \"GTV 2\""
   ]
  },
  {
   "cell_type": "code",
   "execution_count": 17,
   "metadata": {},
   "outputs": [
    {
     "name": "stderr",
     "output_type": "stream",
     "text": [
      "100%|██████████| 10/10 [00:00<00:00, 35.72it/s]\n",
      "/Users/bhklab/dev/radiomics/readii-idc-notebooks/.pixi/envs/default/lib/python3.12/site-packages/imgtools/modules/datagraph.py:430: UserWarning: This pattern is interpreted as a regular expression, and has match groups. To actually get the groups, use str.extract.\n",
      "  relevant_study_id = self.df_new.loc[(self.df_new.edge_type.str.contains(regex_term)), \"study_x\"].unique()\n"
     ]
    }
   ],
   "source": [
    "from imgtools.autopipeline import ImageAutoInput\n",
    "\t\n",
    "dataset = ImageAutoInput(\n",
    "  dir_path=sorted_path.absolute(),\n",
    "  modalities=\",\".join(MODALITIES),\n",
    "  update=True,\n",
    "  n_jobs=-1,\n",
    ")"
   ]
  },
  {
   "cell_type": "code",
   "execution_count": 18,
   "metadata": {},
   "outputs": [
    {
     "data": {
      "text/plain": [
       "ImageAutoInput(dir_path=/Users/bhklab/dev/radiomics/readii-idc-notebooks/notebooks/data/images/nsclc_radiomics/dicoms, modalities='CT,RTSTRUCT', parent='/Users/bhklab/dev/radiomics/readii-idc-notebooks/notebooks/data/images/nsclc_radiomics', dataset_name='dicoms', df_combined=                                                         study patient_ID  \\\n",
       "0_LUNG1-162  1.3.6.1.4.1.32722.99.99.1180964476832044349435...  LUNG1-162   \n",
       "1_LUNG1-229  1.3.6.1.4.1.32722.99.99.1455652893231674112753...  LUNG1-229   \n",
       "2_LUNG1-269  1.3.6.1.4.1.32722.99.99.1621909963199591977926...  LUNG1-269   \n",
       "3_LUNG1-321  1.3.6.1.4.1.32722.99.99.1909517473411568305189...  LUNG1-321   \n",
       "4_LUNG1-202  1.3.6.1.4.1.32722.99.99.1931154789203662465292...  LUNG1-202   \n",
       "5_LUNG1-101  1.3.6.1.4.1.32722.99.99.2181619283844400761797...  LUNG1-101   \n",
       "6_LUNG1-108  1.3.6.1.4.1.32722.99.99.4628341155248475632097...  LUNG1-108   \n",
       "7_LUNG1-342  1.3.6.1.4.1.32722.99.99.4950223536888418291171...  LUNG1-342   \n",
       "8_LUNG1-005  1.3.6.1.4.1.32722.99.99.7196186628043392557101...  LUNG1-005   \n",
       "9_LUNG1-027  1.3.6.1.4.1.32722.99.99.7675440033341345479533...  LUNG1-027   \n",
       "\n",
       "                                                     series_CT  \\\n",
       "0_LUNG1-162  1.3.6.1.4.1.32722.99.99.2810167325173223382743...   \n",
       "1_LUNG1-229  1.3.6.1.4.1.32722.99.99.1557555583406278116016...   \n",
       "2_LUNG1-269  1.3.6.1.4.1.32722.99.99.2108850037359174731895...   \n",
       "3_LUNG1-321  1.3.6.1.4.1.32722.99.99.2953041328276627744057...   \n",
       "4_LUNG1-202  1.3.6.1.4.1.32722.99.99.1838655108218126830272...   \n",
       "5_LUNG1-101  1.3.6.1.4.1.32722.99.99.4607783786930715275093...   \n",
       "6_LUNG1-108  1.3.6.1.4.1.32722.99.99.1345369473842441779357...   \n",
       "7_LUNG1-342  1.3.6.1.4.1.32722.99.99.2066668200544782849861...   \n",
       "8_LUNG1-005  1.3.6.1.4.1.32722.99.99.3490584753983772067630...   \n",
       "9_LUNG1-027  1.3.6.1.4.1.32722.99.99.2305160426467195519568...   \n",
       "\n",
       "                                                     folder_CT  \\\n",
       "0_LUNG1-162  /Users/bhklab/dev/radiomics/readii-idc-noteboo...   \n",
       "1_LUNG1-229  /Users/bhklab/dev/radiomics/readii-idc-noteboo...   \n",
       "2_LUNG1-269  /Users/bhklab/dev/radiomics/readii-idc-noteboo...   \n",
       "3_LUNG1-321  /Users/bhklab/dev/radiomics/readii-idc-noteboo...   \n",
       "4_LUNG1-202  /Users/bhklab/dev/radiomics/readii-idc-noteboo...   \n",
       "5_LUNG1-101  /Users/bhklab/dev/radiomics/readii-idc-noteboo...   \n",
       "6_LUNG1-108  /Users/bhklab/dev/radiomics/readii-idc-noteboo...   \n",
       "7_LUNG1-342  /Users/bhklab/dev/radiomics/readii-idc-noteboo...   \n",
       "8_LUNG1-005  /Users/bhklab/dev/radiomics/readii-idc-noteboo...   \n",
       "9_LUNG1-027  /Users/bhklab/dev/radiomics/readii-idc-noteboo...   \n",
       "\n",
       "                                            series_RTSTRUCT_CT  \\\n",
       "0_LUNG1-162  1.3.6.1.4.1.32722.99.99.9137953234128425330895...   \n",
       "1_LUNG1-229  1.3.6.1.4.1.32722.99.99.9216080459679348559754...   \n",
       "2_LUNG1-269  1.3.6.1.4.1.32722.99.99.1302684517154013579093...   \n",
       "3_LUNG1-321  1.3.6.1.4.1.32722.99.99.3020731135793801927469...   \n",
       "4_LUNG1-202  1.3.6.1.4.1.32722.99.99.2169211617209408427175...   \n",
       "5_LUNG1-101  1.3.6.1.4.1.32722.99.99.2945471959951889289167...   \n",
       "6_LUNG1-108  1.3.6.1.4.1.32722.99.99.1138012460826058137015...   \n",
       "7_LUNG1-342  1.3.6.1.4.1.32722.99.99.1000293741544894406685...   \n",
       "8_LUNG1-005  1.3.6.1.4.1.32722.99.99.1186162681418618501244...   \n",
       "9_LUNG1-027  1.3.6.1.4.1.32722.99.99.1957895383973254501974...   \n",
       "\n",
       "                                            folder_RTSTRUCT_CT  \n",
       "0_LUNG1-162  /Users/bhklab/dev/radiomics/readii-idc-noteboo...  \n",
       "1_LUNG1-229  /Users/bhklab/dev/radiomics/readii-idc-noteboo...  \n",
       "2_LUNG1-269  /Users/bhklab/dev/radiomics/readii-idc-noteboo...  \n",
       "3_LUNG1-321  /Users/bhklab/dev/radiomics/readii-idc-noteboo...  \n",
       "4_LUNG1-202  /Users/bhklab/dev/radiomics/readii-idc-noteboo...  \n",
       "5_LUNG1-101  /Users/bhklab/dev/radiomics/readii-idc-noteboo...  \n",
       "6_LUNG1-108  /Users/bhklab/dev/radiomics/readii-idc-noteboo...  \n",
       "7_LUNG1-342  /Users/bhklab/dev/radiomics/readii-idc-noteboo...  \n",
       "8_LUNG1-005  /Users/bhklab/dev/radiomics/readii-idc-noteboo...  \n",
       "9_LUNG1-027  /Users/bhklab/dev/radiomics/readii-idc-noteboo...  , output_streams=['CT', 'RTSTRUCT_CT'], column_names=['folder_CT', 'folder_RTSTRUCT_CT'], series_names=['series_CT', 'series_RTSTRUCT_CT'], readers=[<function read_dicom_auto at 0x318747880>, <function read_dicom_auto at 0x318747880>])"
      ]
     },
     "execution_count": 18,
     "metadata": {},
     "output_type": "execute_result"
    }
   ],
   "source": [
    "\n",
    "dataset"
   ]
  },
  {
   "cell_type": "code",
   "execution_count": 19,
   "metadata": {},
   "outputs": [
    {
     "name": "stdout",
     "output_type": "stream",
     "text": [
      "Loading data for subject 0_LUNG1-162 : patient LUNG1-162\n",
      "Loading CT /Users/bhklab/dev/radiomics/readii-idc-notebooks/notebooks/data/images/nsclc_radiomics/dicoms/Patient-LUNG1-162/StudyUID-21249/CT_SeriesUID-72433\n",
      "Loading mask /Users/bhklab/dev/radiomics/readii-idc-notebooks/notebooks/data/images/nsclc_radiomics/dicoms/Patient-LUNG1-162/StudyUID-21249/RTSTRUCT_SeriesUID-38612/d547a179-83d6-4c38-ac2f-62875388f17a.dcm\n",
      "Generating negative control shuffled_full\n",
      "Generating negative control shuffled_roi\n",
      "Generating negative control shuffled_non_roi\n",
      "Generating negative control randomized_sampled_full\n",
      "Generating negative control randomized_sampled_roi\n",
      "Generating negative control randomized_sampled_non_roi\n"
     ]
    }
   ],
   "source": [
    "from readii import loaders as rdloaders\n",
    "from readii.feature_extraction import generateNegativeControl\n",
    "from readii.io.writers.nifti_writer import NIFTIWriter\n",
    "\n",
    "# Define the directory structure we want with placeholders for the PatientID, StudyInstanceUID, SeriesInstanceUID\n",
    "# These must be passed in as keyword arguments to the save method\n",
    "# We will have custom IMAGE_ID for each image\n",
    "filename_format = \"SubjectID-{PatientID}/StudyUID-{StudyInstanceUID}/{Modality}_SeriesUID-{SeriesInstanceUID}/{IMAGE_ID}.nii.gz\"\n",
    "neg_nifti_writer = NIFTIWriter(\n",
    "  root_directory = NIFTI_OUTPUT_DIR,\n",
    "  filename_format = filename_format,\n",
    "  overwrite = True,\n",
    ")\n",
    "\n",
    "for patient in dataset.df_combined.itertuples():\n",
    "  print(f\"Loading data for subject {patient.Index} : patient {patient.patient_ID}\")\n",
    "\n",
    "  # Load the CT and mask images\n",
    "  ct_path = patient.folder_CT\n",
    "  print(f\"Loading CT {ct_path}\")\n",
    "  base_image = rdloaders.loadDicomSITK(ct_path)\n",
    "  \n",
    "  mask_path = patient.folder_RTSTRUCT_CT\n",
    "  print(f\"Loading mask {mask_path}\")\n",
    "  mask_image = rdloaders.loadRTSTRUCTSITK(\n",
    "    rtstructPath = mask_path,\n",
    "    baseImageDirPath = ct_path,\n",
    "    roiNames = roi_match_pattern\n",
    "  ).get(ROI_NAME)\n",
    "\n",
    "  ######################################################################################\n",
    "  # first we save the original CT and mask\n",
    "  ######################################################################################\n",
    "  neg_nifti_writer.save(\n",
    "    image=base_image,\n",
    "    PatientID=patient.Index,\n",
    "    StudyInstanceUID=patient.study[-5:],\n",
    "    SeriesInstanceUID=patient.series_CT[-5:],\n",
    "    Modality=\"CT\",\n",
    "    IMAGE_ID=\"original\"\n",
    "  )\n",
    "  neg_nifti_writer.save(\n",
    "    image=mask_image,\n",
    "    PatientID=patient.Index,\n",
    "    StudyInstanceUID=patient.study[-5:],\n",
    "    SeriesInstanceUID=patient.series_RTSTRUCT_CT[-5:],\n",
    "    Modality=\"RTSTRUCT\",\n",
    "    IMAGE_ID=ROI_NAME\n",
    "  )\n",
    "  ######################################################################################\n",
    "  # Now we create the negative controls and save them\n",
    "  ######################################################################################\n",
    "\n",
    "  for nc in IMAGE_TYPES:\n",
    "    print(f\"Generating negative control {nc}\")\n",
    "    neg_control_image = generateNegativeControl(\n",
    "      ctImage = base_image,\n",
    "      alignedROIImage = mask_image,\n",
    "      randomSeed = RANDOM_SEED,\n",
    "      negativeControl = nc\n",
    "    )\n",
    "    # Save the negative control image\n",
    "    neg_nifti_writer.save(\n",
    "      image=neg_control_image,\n",
    "      PatientID=patient.Index,\n",
    "      StudyInstanceUID=patient.study[-5:],\n",
    "      SeriesInstanceUID=patient.series_CT[-5:],\n",
    "      Modality=\"CT\",\n",
    "      IMAGE_ID=nc\n",
    "    )\n",
    "  break\n",
    "  "
   ]
  },
  {
   "cell_type": "code",
   "execution_count": 20,
   "metadata": {},
   "outputs": [
    {
     "name": "stdout",
     "output_type": "stream",
     "text": [
      "\u001b[01;34mdata/images/nsclc_radiomics\u001b[0m/\n",
      "├── \u001b[01;34mdicoms\u001b[0m/\n",
      "│   ├── \u001b[01;34mPatient-LUNG1-005\u001b[0m/\n",
      "│   │   └── \u001b[01;34mStudyUID-93819\u001b[0m/\n",
      "│   │       ├── \u001b[01;34mCT_SeriesUID-68747\u001b[0m/\n",
      "│   │       └── \u001b[01;34mRTSTRUCT_SeriesUID-99068\u001b[0m/\n",
      "│   ├── \u001b[01;34mPatient-LUNG1-027\u001b[0m/\n",
      "│   │   └── \u001b[01;34mStudyUID-35913\u001b[0m/\n",
      "│   │       ├── \u001b[01;34mCT_SeriesUID-45865\u001b[0m/\n",
      "│   │       └── \u001b[01;34mRTSTRUCT_SeriesUID-63878\u001b[0m/\n",
      "│   ├── \u001b[01;34mPatient-LUNG1-101\u001b[0m/\n",
      "│   │   └── \u001b[01;34mStudyUID-27911\u001b[0m/\n",
      "│   │       ├── \u001b[01;34mCT_SeriesUID-55665\u001b[0m/\n",
      "│   │       └── \u001b[01;34mRTSTRUCT_SeriesUID-25865\u001b[0m/\n",
      "│   ├── \u001b[01;34mPatient-LUNG1-108\u001b[0m/\n",
      "│   │   └── \u001b[01;34mStudyUID-62453\u001b[0m/\n",
      "│   │       ├── \u001b[01;34mCT_SeriesUID-81484\u001b[0m/\n",
      "│   │       └── \u001b[01;34mRTSTRUCT_SeriesUID-99496\u001b[0m/\n",
      "│   ├── \u001b[01;34mPatient-LUNG1-162\u001b[0m/\n",
      "│   │   └── \u001b[01;34mStudyUID-21249\u001b[0m/\n",
      "│   │       ├── \u001b[01;34mCT_SeriesUID-72433\u001b[0m/\n",
      "│   │       └── \u001b[01;34mRTSTRUCT_SeriesUID-38612\u001b[0m/\n",
      "│   ├── \u001b[01;34mPatient-LUNG1-202\u001b[0m/\n",
      "│   │   └── \u001b[01;34mStudyUID-47068\u001b[0m/\n",
      "│   │       ├── \u001b[01;34mCT_SeriesUID-64821\u001b[0m/\n",
      "│   │       └── \u001b[01;34mRTSTRUCT_SeriesUID-56100\u001b[0m/\n",
      "│   ├── \u001b[01;34mPatient-LUNG1-229\u001b[0m/\n",
      "│   │   └── \u001b[01;34mStudyUID-22809\u001b[0m/\n",
      "│   │       ├── \u001b[01;34mCT_SeriesUID-29880\u001b[0m/\n",
      "│   │       └── \u001b[01;34mRTSTRUCT_SeriesUID-54435\u001b[0m/\n",
      "│   ├── \u001b[01;34mPatient-LUNG1-269\u001b[0m/\n",
      "│   │   └── \u001b[01;34mStudyUID-27195\u001b[0m/\n",
      "│   │       ├── \u001b[01;34mCT_SeriesUID-30065\u001b[0m/\n",
      "│   │       └── \u001b[01;34mRTSTRUCT_SeriesUID-09474\u001b[0m/\n",
      "│   ├── \u001b[01;34mPatient-LUNG1-321\u001b[0m/\n",
      "│   │   └── \u001b[01;34mStudyUID-98086\u001b[0m/\n",
      "│   │       ├── \u001b[01;34mCT_SeriesUID-57753\u001b[0m/\n",
      "│   │       └── \u001b[01;34mRTSTRUCT_SeriesUID-47118\u001b[0m/\n",
      "│   └── \u001b[01;34mPatient-LUNG1-342\u001b[0m/\n",
      "│       └── \u001b[01;34mStudyUID-33638\u001b[0m/\n",
      "│           ├── \u001b[01;34mCT_SeriesUID-01555\u001b[0m/\n",
      "│           └── \u001b[01;34mRTSTRUCT_SeriesUID-09318\u001b[0m/\n",
      "└── \u001b[01;34mniftis\u001b[0m/\n",
      "    └── \u001b[01;34mSubjectID-0_LUNG1-162\u001b[0m/\n",
      "        └── \u001b[01;34mStudyUID-21249\u001b[0m/\n",
      "            ├── \u001b[01;34mCT_SeriesUID-72433\u001b[0m/\n",
      "            │   ├── \u001b[01;31moriginal.nii.gz\u001b[0m\n",
      "            │   ├── \u001b[01;31mrandomized_sampled_full.nii.gz\u001b[0m\n",
      "            │   ├── \u001b[01;31mrandomized_sampled_non_roi.nii.gz\u001b[0m\n",
      "            │   ├── \u001b[01;31mrandomized_sampled_roi.nii.gz\u001b[0m\n",
      "            │   ├── \u001b[01;31mshuffled_full.nii.gz\u001b[0m\n",
      "            │   ├── \u001b[01;31mshuffled_non_roi.nii.gz\u001b[0m\n",
      "            │   └── \u001b[01;31mshuffled_roi.nii.gz\u001b[0m\n",
      "            └── \u001b[01;34mRTSTRUCT_SeriesUID-38612\u001b[0m/\n",
      "                └── \u001b[01;31mGTV.nii.gz\u001b[0m\n",
      "\n",
      "47 directories, 8 files\n"
     ]
    }
   ],
   "source": [
    "# Print the directory structure but hide the actual dicom files to avoid clutter\n",
    "! tree -F $NIFTI_OUTPUT_DIR.parent -I \"*.dcm\""
   ]
  },
  {
   "cell_type": "code",
   "execution_count": null,
   "metadata": {},
   "outputs": [],
   "source": []
  }
 ],
 "metadata": {
  "kernelspec": {
   "display_name": "default",
   "language": "python",
   "name": "python3"
  },
  "language_info": {
   "codemirror_mode": {
    "name": "ipython",
    "version": 3
   },
   "file_extension": ".py",
   "mimetype": "text/x-python",
   "name": "python",
   "nbconvert_exporter": "python",
   "pygments_lexer": "ipython3",
   "version": "3.13.1"
  }
 },
 "nbformat": 4,
 "nbformat_minor": 2
}
