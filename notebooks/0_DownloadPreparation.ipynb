{
 "cells": [
  {
   "cell_type": "code",
   "execution_count": 13,
   "metadata": {},
   "outputs": [],
   "source": [
    "import subprocess\n",
    "from pathlib import Path\n",
    "\n",
    "from fmcib.utils import download_LUNG1\n",
    "from imgtools.autopipeline import ImageAutoInput\n",
    "\n",
    "from readii import loaders as rdloaders\n",
    "from readii.feature_extraction import generateNegativeControl\n",
    "from readii.io.writers.nifti_writer import NIFTIWriter\n",
    "import re\n",
    "\n",
    "# Define the directory structure we want with placeholders for the PatientID, StudyInstanceUID, SeriesInstanceUID\n",
    "# These must be passed in as keyword arguments to the save method\n",
    "# We will have custom IMAGE_ID for each image\n",
    "import pandas as pd\n",
    "\n",
    "def generate_and_save_negative_controls(\n",
    "  patient : pd.Series,\n",
    "  roi_match_pattern : dict,\n",
    "  negative_control_list : list,\n",
    "  writer : NIFTIWriter,\n",
    "  random_seed : int\n",
    "):\n",
    "  print(f\"Loading data for subject {patient.Index} : patient {patient.patient_ID}\")\n",
    "  base_image = rdloaders.loadDicomSITK(patient.folder_CT)\n",
    "  ROI_NAME = list(roi_match_pattern.keys())[0]\n",
    "  mask_image = rdloaders.loadRTSTRUCTSITK(\n",
    "    rtstructPath=patient.folder_RTSTRUCT_CT,\n",
    "    baseImageDirPath=patient.folder_CT,\n",
    "    roiNames=roi_match_pattern\n",
    "  ).get(ROI_NAME)\n",
    "  writer.save(\n",
    "    image=base_image,\n",
    "    PatientID=patient.Index,\n",
    "    StudyInstanceUID=patient.study[-5:],\n",
    "    SeriesInstanceUID=patient.series_CT[-5:],\n",
    "    Modality=\"CT\",\n",
    "    IMAGE_ID=\"original\"\n",
    "  )\n",
    "  writer.save(\n",
    "    image=mask_image,\n",
    "    PatientID=patient.Index,\n",
    "    StudyInstanceUID=patient.study[-5:],\n",
    "    SeriesInstanceUID=patient.series_RTSTRUCT_CT[-5:],\n",
    "    Modality=\"RTSTRUCT\",\n",
    "    IMAGE_ID=ROI_NAME\n",
    "  )\n",
    "\n",
    "  for NEGATIVE_CONTROL in negative_control_list:\n",
    "    print(f\"Generating negative control {NEGATIVE_CONTROL}\")\n",
    "    neg_control_image = generateNegativeControl(\n",
    "      ctImage=base_image,\n",
    "      alignedROIImage=mask_image,\n",
    "      randomSeed=random_seed,\n",
    "      negativeControl=NEGATIVE_CONTROL\n",
    "    )\n",
    "    # Save the negative control image\n",
    "    writer.save(\n",
    "      image=neg_control_image,\n",
    "      PatientID=patient.Index,\n",
    "      StudyInstanceUID=patient.study[-5:],\n",
    "      SeriesInstanceUID=patient.series_CT[-5:],\n",
    "      Modality=\"CT\",\n",
    "      IMAGE_ID=NEGATIVE_CONTROL\n",
    "    )\n",
    "\n",
    "def index_and_submit_saves(\n",
    "  input_dir,\n",
    "  modalities,\n",
    "  roi_match_pattern,\n",
    "  update_imgtools_index,\n",
    "  n_jobs,\n",
    "  nifti_output_dir,\n",
    "  filename_format,\n",
    "  overwrite,\n",
    "  random_seed,\n",
    "  negative_control_list,\n",
    "):\n",
    "  neg_nifti_writer = NIFTIWriter(\n",
    "    root_directory=nifti_output_dir,\n",
    "    filename_format=filename_format,\n",
    "    overwrite=overwrite,\n",
    "  )\n",
    "  dataset = ImageAutoInput(\n",
    "    dir_path=input_dir,\n",
    "    modalities=\",\".join(modalities),\n",
    "    update=update_imgtools_index,\n",
    "    n_jobs=n_jobs,\n",
    "  )\n",
    "\n",
    "  for patient in dataset.df_combined.itertuples():\n",
    "    generate_and_save_negative_controls(\n",
    "      patient=patient,\n",
    "      roi_match_pattern=roi_match_pattern,\n",
    "      negative_control_list=negative_control_list,\n",
    "      writer=neg_nifti_writer,\n",
    "      random_seed=random_seed,\n",
    "    )\n",
    "  filename_pattern = neg_nifti_writer.pattern_resolver.formatted_pattern.replace(\n",
    "    \"%(\", \"(?P<\"\n",
    "  ).replace(\")s\", \">.*?)\")\n",
    "\n",
    "  datafiles = []\n",
    "  for file_path in nifti_output_dir.rglob(\"*.nii.gz\"):\n",
    "    if (match := re.search(filename_pattern, str(file_path).replace(\"\\\\\", \"/\"))):\n",
    "      relative_path = file_path.absolute().relative_to(nifti_output_dir.absolute())\n",
    "      datafiles.append({**match.groupdict(), \"filepath\": relative_path})\n",
    "  datafiles_df = pd.DataFrame(datafiles)\n",
    "  csv_path = nifti_output_dir / \"dataset_index.csv\"\n",
    "  datafiles_df.to_csv(csv_path, index=False)\n",
    "  return csv_path\n"
   ]
  },
  {
   "cell_type": "markdown",
   "metadata": {},
   "source": [
    "# SETUP "
   ]
  },
  {
   "cell_type": "code",
   "execution_count": 14,
   "metadata": {},
   "outputs": [],
   "source": [
    "COLLECTION_ID = 'nsclc_radiomics'\n",
    "\n",
    "# Save data to local directory\n",
    "DATA_DIR = Path('data') / 'images' / COLLECTION_ID\n",
    "\n",
    "\n",
    "\n",
    "# After sorting, convert them to nifti and save them in the niftis directory\n",
    "NIFTI_OUTPUT_DIR = DATA_DIR /  \"niftis\"\n",
    "\n",
    "# Modalities of interest, \n",
    "MODALITIES = [\"CT\", \"RTSTRUCT\"]\n",
    "\n",
    "RANDOM_SEED = 10\n",
    "IMAGE_TYPES =  [\"shuffled_full\",\"shuffled_roi\",\"shuffled_non_roi\",\"randomized_sampled_full\",\"randomized_sampled_roi\",\"randomized_sampled_non_roi\"]\n",
    "\n",
    "NIFTI_FILENAME_FORMAT = \"SubjectID-{PatientID}/{Modality}_SeriesUID-{SeriesInstanceUID}/{IMAGE_ID}.nii.gz\"\n",
    "\n",
    "ROI_NAME = \"GTV\"\n",
    "roi_match_pattern = {ROI_NAME: \"^(GTV.*)$\"} # Use a regex to match the ROI name to rois like \"GTV 1\", \"GTV 2\""
   ]
  },
  {
   "cell_type": "code",
   "execution_count": 19,
   "metadata": {},
   "outputs": [
    {
     "name": "stderr",
     "output_type": "stream",
     "text": [
      "2024-12-19 16:46:07.604 | INFO     | fmcib.utils.idc_helper:download_LUNG1:155 - Downloading LUNG1 manifest from Dropbox ...\n",
      "2024-12-19 16:46:09.155 | INFO     | fmcib.utils.idc_helper:download_from_manifest:99 - Downloading DICOM data from IDC (Imaging Data Commons) ...\n",
      "100%|██████████| 113/113 [00:02<00:00, 53.91it/s]"
     ]
    },
    {
     "name": "stdout",
     "output_type": "stream",
     "text": [
      "New Directory Structure: \n",
      "\u001b[01;34mdata/images/nsclc_radiomics\u001b[0m\n",
      "└── \u001b[01;34mdicom\u001b[0m\n",
      "    └── \u001b[01;34mLUNG1-175\u001b[0m\n",
      "        └── \u001b[01;34m1.3.6.1.4.1.32722.99.99.276242784190608938349755555331454709152\u001b[0m\n",
      "\n",
      "4 directories\n"
     ]
    },
    {
     "name": "stderr",
     "output_type": "stream",
     "text": [
      "\n"
     ]
    },
    {
     "data": {
      "text/plain": [
       "CompletedProcess(args=['tree', '-d', PosixPath('data/images/nsclc_radiomics')], returncode=0)"
      ]
     },
     "execution_count": 19,
     "metadata": {},
     "output_type": "execute_result"
    }
   ],
   "source": [
    "download_LUNG1(str(DATA_DIR), 1)\n",
    "print(\"New Directory Structure: \")\n",
    "subprocess.run([\"tree\", \"-d\", DATA_DIR])"
   ]
  },
  {
   "cell_type": "code",
   "execution_count": 20,
   "metadata": {},
   "outputs": [
    {
     "name": "stderr",
     "output_type": "stream",
     "text": [
      "100%|██████████| 3/3 [00:00<00:00, 2240.95it/s]\n",
      "/Users/bhklab/dev/radiomics/readii-idc-notebooks/.pixi/envs/fmcib/lib/python3.10/site-packages/imgtools/modules/datagraph.py:430: UserWarning: This pattern is interpreted as a regular expression, and has match groups. To actually get the groups, use str.extract.\n",
      "  relevant_study_id = self.df_new.loc[(self.df_new.edge_type.str.contains(regex_term)), \"study_x\"].unique()\n"
     ]
    },
    {
     "name": "stdout",
     "output_type": "stream",
     "text": [
      "Loading data for subject 0_LUNG1-175 : patient LUNG1-175\n",
      "Generating negative control shuffled_full\n",
      "Generating negative control shuffled_roi\n",
      "Generating negative control shuffled_non_roi\n",
      "Generating negative control randomized_sampled_full\n",
      "Generating negative control randomized_sampled_roi\n",
      "Generating negative control randomized_sampled_non_roi\n",
      "Saved dataset index to data/images/nsclc_radiomics/niftis/dataset_index.csv\n"
     ]
    }
   ],
   "source": [
    "csv_path = index_and_submit_saves(\n",
    "  input_dir=DATA_DIR.absolute(),\n",
    "  modalities=MODALITIES,\n",
    "  roi_match_pattern=roi_match_pattern,\n",
    "  update_imgtools_index=True,\n",
    "  n_jobs=-1,\n",
    "  nifti_output_dir=NIFTI_OUTPUT_DIR,\n",
    "  filename_format=NIFTI_FILENAME_FORMAT,\n",
    "  overwrite=True,\n",
    "  random_seed=RANDOM_SEED,\n",
    "  negative_control_list=IMAGE_TYPES,\n",
    ")\n",
    "\n",
    "print(f\"Saved dataset index to {csv_path}\")"
   ]
  },
  {
   "cell_type": "code",
   "execution_count": 11,
   "metadata": {},
   "outputs": [
    {
     "name": "stdout",
     "output_type": "stream",
     "text": [
      "\u001b[01;34mdata/images/nsclc_radiomics\u001b[0m/\n",
      "├── \u001b[01;34mdicom\u001b[0m/\n",
      "│   └── \u001b[01;34mLUNG1-232\u001b[0m/\n",
      "│       └── \u001b[01;34m1.3.6.1.4.1.32722.99.99.68529125696580382731828145030595983266\u001b[0m/\n",
      "├── \u001b[01;34mniftis\u001b[0m/\n",
      "│   ├── \u001b[01;34mSubjectID-0_LUNG1-232\u001b[0m/\n",
      "│   │   ├── \u001b[01;34mCT_SeriesUID-92625\u001b[0m/\n",
      "│   │   │   ├── \u001b[01;31moriginal.nii.gz\u001b[0m\n",
      "│   │   │   ├── \u001b[01;31mrandomized_sampled_full.nii.gz\u001b[0m\n",
      "│   │   │   ├── \u001b[01;31mrandomized_sampled_non_roi.nii.gz\u001b[0m\n",
      "│   │   │   ├── \u001b[01;31mrandomized_sampled_roi.nii.gz\u001b[0m\n",
      "│   │   │   ├── \u001b[01;31mshuffled_full.nii.gz\u001b[0m\n",
      "│   │   │   ├── \u001b[01;31mshuffled_non_roi.nii.gz\u001b[0m\n",
      "│   │   │   └── \u001b[01;31mshuffled_roi.nii.gz\u001b[0m\n",
      "│   │   └── \u001b[01;34mRTSTRUCT_SeriesUID-02754\u001b[0m/\n",
      "│   │       └── \u001b[01;31mGTV.nii.gz\u001b[0m\n",
      "│   └── \u001b[00mdataset_index.csv\u001b[0m\n",
      "└── \u001b[00mnsclc_radiomics.csv\u001b[0m\n",
      "\n",
      "8 directories, 10 files\n"
     ]
    }
   ],
   "source": [
    "# Print the directory structure but hide the actual dicom files to avoid clutter\n",
    "! tree -F $NIFTI_OUTPUT_DIR.parent -I \"*.dcm\""
   ]
  }
 ],
 "metadata": {
  "kernelspec": {
   "display_name": "fmcib",
   "language": "python",
   "name": "python3"
  },
  "language_info": {
   "codemirror_mode": {
    "name": "ipython",
    "version": 3
   },
   "file_extension": ".py",
   "mimetype": "text/x-python",
   "name": "python",
   "nbconvert_exporter": "python",
   "pygments_lexer": "ipython3",
   "version": "3.10.16"
  }
 },
 "nbformat": 4,
 "nbformat_minor": 2
}
