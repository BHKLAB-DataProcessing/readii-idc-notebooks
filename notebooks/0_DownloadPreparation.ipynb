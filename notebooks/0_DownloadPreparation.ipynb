{
 "cells": [
  {
   "cell_type": "code",
   "execution_count": 1,
   "metadata": {},
   "outputs": [],
   "source": [
    "import subprocess\n",
    "from pathlib import Path\n",
    "\n",
    "import numpy as np\n",
    "from fmcib.utils import download_LUNG1\n",
    "\n",
    "from readii_idc_notebooks import index_and_submit_saves"
   ]
  },
  {
   "cell_type": "markdown",
   "metadata": {},
   "source": [
    "# SETUP "
   ]
  },
  {
   "cell_type": "code",
   "execution_count": 2,
   "metadata": {},
   "outputs": [],
   "source": [
    "COLLECTION_ID = \"nsclc_radiomics\"\n",
    "\n",
    "# Save data to local directory\n",
    "DATA_DIR = Path(\"data\") / \"images\" / COLLECTION_ID\n",
    "\n",
    "# After sorting, convert them to nifti and save them in the niftis directory\n",
    "NIFTI_OUTPUT_DIR = DATA_DIR / \"niftis\"\n",
    "\n",
    "# Modalities of interest,\n",
    "MODALITIES = [\"CT\", \"RTSTRUCT\"]\n",
    "\n",
    "RANDOM_SEED = 10\n",
    "\n",
    "IMAGE_TYPES = [\n",
    "    \"shuffled_full\",\n",
    "    \"shuffled_roi\",\n",
    "    \"shuffled_non_roi\",\n",
    "    \"randomized_full\",\n",
    "    \"randomized_roi\",\n",
    "    \"randomized_non_roi\",\n",
    "    \"randomized_sampled_full\",\n",
    "    \"randomized_sampled_roi\",\n",
    "    \"randomized_sampled_non_roi\",\n",
    "]\n",
    "\n",
    "NIFTI_FILENAME_FORMAT = (\n",
    "    \"SubjectID-{PatientID}/{Modality}_SeriesUID-{SeriesInstanceUID}/{IMAGE_ID}.nii.gz\"\n",
    ")\n",
    "\n",
    "ROI_NAME = \"GTV\"\n",
    "roi_match_pattern = {\n",
    "    ROI_NAME: \"^(GTV.*)$\"\n",
    "}  # Use a regex to match the ROI name to rois like \"GTV 1\", \"GTV 2\""
   ]
  },
  {
   "cell_type": "code",
   "execution_count": 3,
   "metadata": {},
   "outputs": [
    {
     "name": "stderr",
     "output_type": "stream",
     "text": [
      "2025-01-06 18:11:02.493 | INFO     | fmcib.utils.idc_helper:download_LUNG1:155 - Downloading LUNG1 manifest from Dropbox ...\n",
      "2025-01-06 18:11:04.232 | INFO     | fmcib.utils.idc_helper:download_from_manifest:99 - Downloading DICOM data from IDC (Imaging Data Commons) ...\n",
      "100%|██████████| 593/593 [00:03<00:00, 173.67it/s]"
     ]
    },
    {
     "name": "stdout",
     "output_type": "stream",
     "text": [
      "New Directory Structure: \n",
      "\u001b[01;34mdata/images/nsclc_radiomics\u001b[00m\n",
      "├── \u001b[01;34mdicom\u001b[00m\n",
      "│   ├── \u001b[01;34mLUNG1-100\u001b[00m\n",
      "│   │   └── \u001b[01;34m1.3.6.1.4.1.32722.99.99.73012855591005609709750757985153279317\u001b[00m\n",
      "│   ├── \u001b[01;34mLUNG1-241\u001b[00m\n",
      "│   │   └── \u001b[01;34m1.3.6.1.4.1.32722.99.99.9749522862227904459662052993782066003\u001b[00m\n",
      "│   ├── \u001b[01;34mLUNG1-254\u001b[00m\n",
      "│   │   └── \u001b[01;34m1.3.6.1.4.1.32722.99.99.101385144304667221218962368127740145808\u001b[00m\n",
      "│   ├── \u001b[01;34mLUNG1-261\u001b[00m\n",
      "│   │   └── \u001b[01;34m1.3.6.1.4.1.32722.99.99.315921065862774785801495962476548705528\u001b[00m\n",
      "│   └── \u001b[01;34mLUNG1-289\u001b[00m\n",
      "│       └── \u001b[01;34m1.3.6.1.4.1.32722.99.99.113571361328418150338693333135534997557\u001b[00m\n",
      "└── \u001b[01;34mniftis\u001b[00m\n",
      "    └── \u001b[01;34mSubjectID-0_LUNG1-254\u001b[00m\n",
      "        ├── \u001b[01;34mCT_SeriesUID-65670\u001b[00m\n",
      "        └── \u001b[01;34mRTSTRUCT_SeriesUID-44321\u001b[00m\n",
      "\n",
      "15 directories\n"
     ]
    },
    {
     "name": "stderr",
     "output_type": "stream",
     "text": [
      "\n"
     ]
    },
    {
     "data": {
      "text/plain": [
       "CompletedProcess(args=['tree', '-d', PosixPath('data/images/nsclc_radiomics')], returncode=0)"
      ]
     },
     "execution_count": 3,
     "metadata": {},
     "output_type": "execute_result"
    }
   ],
   "source": [
    "# set numpy random seed\n",
    "\n",
    "\n",
    "np.random.seed(RANDOM_SEED)\n",
    "\n",
    "download_LUNG1(str(DATA_DIR), 5)\n",
    "print(\"New Directory Structure: \")\n",
    "subprocess.run([\"tree\", \"-d\", DATA_DIR])"
   ]
  },
  {
   "cell_type": "code",
   "execution_count": 4,
   "metadata": {},
   "outputs": [
    {
     "name": "stderr",
     "output_type": "stream",
     "text": [
      "/home/bioinf/bhklab/radiomics/repos/med-imagetools/src/imgtools/modules/datagraph.py:519: UserWarning: This pattern is interpreted as a regular expression, and has match groups. To actually get the groups, use str.extract.\n",
      "  self.df_new.edge_type.str.contains(f'(?:{regex_term})', regex=True),\n"
     ]
    },
    {
     "name": "stdout",
     "output_type": "stream",
     "text": [
      "Loading data for subject_ID 1/5: 0_LUNG1-254 (PatientID : LUNG1-254)\n",
      "Generating negative control 1/9 shuffled_full\n",
      "Generating negative control 2/9 shuffled_roi\n",
      "Generating negative control 3/9 shuffled_non_roi\n",
      "Generating negative control 4/9 randomized_full\n",
      "Generating negative control 5/9 randomized_roi\n",
      "Generating negative control 6/9 randomized_non_roi\n",
      "Generating negative control 7/9 randomized_sampled_full\n",
      "Generating negative control 8/9 randomized_sampled_roi\n",
      "Generating negative control 9/9 randomized_sampled_non_roi\n",
      "Loading data for subject_ID 2/5: 1_LUNG1-289 (PatientID : LUNG1-289)\n",
      "Generating negative control 1/9 shuffled_full\n",
      "Generating negative control 2/9 shuffled_roi\n",
      "Generating negative control 3/9 shuffled_non_roi\n",
      "Generating negative control 4/9 randomized_full\n",
      "Generating negative control 5/9 randomized_roi\n",
      "Generating negative control 6/9 randomized_non_roi\n",
      "Generating negative control 7/9 randomized_sampled_full\n",
      "Generating negative control 8/9 randomized_sampled_roi\n",
      "Generating negative control 9/9 randomized_sampled_non_roi\n",
      "Loading data for subject_ID 3/5: 2_LUNG1-261 (PatientID : LUNG1-261)\n",
      "Generating negative control 1/9 shuffled_full\n",
      "Generating negative control 2/9 shuffled_roi\n",
      "Generating negative control 3/9 shuffled_non_roi\n",
      "Generating negative control 4/9 randomized_full\n",
      "Generating negative control 5/9 randomized_roi\n",
      "Generating negative control 6/9 randomized_non_roi\n",
      "Generating negative control 7/9 randomized_sampled_full\n",
      "Generating negative control 8/9 randomized_sampled_roi\n",
      "Generating negative control 9/9 randomized_sampled_non_roi\n",
      "Loading data for subject_ID 4/5: 3_LUNG1-100 (PatientID : LUNG1-100)\n",
      "Generating negative control 1/9 shuffled_full\n",
      "Generating negative control 2/9 shuffled_roi\n",
      "Generating negative control 3/9 shuffled_non_roi\n",
      "Generating negative control 4/9 randomized_full\n",
      "Generating negative control 5/9 randomized_roi\n",
      "Generating negative control 6/9 randomized_non_roi\n",
      "Generating negative control 7/9 randomized_sampled_full\n",
      "Generating negative control 8/9 randomized_sampled_roi\n",
      "Generating negative control 9/9 randomized_sampled_non_roi\n",
      "Loading data for subject_ID 5/5: 4_LUNG1-241 (PatientID : LUNG1-241)\n",
      "Generating negative control 1/9 shuffled_full\n",
      "Generating negative control 2/9 shuffled_roi\n",
      "Generating negative control 3/9 shuffled_non_roi\n",
      "Generating negative control 4/9 randomized_full\n",
      "Generating negative control 5/9 randomized_roi\n",
      "Generating negative control 6/9 randomized_non_roi\n",
      "Generating negative control 7/9 randomized_sampled_full\n",
      "Generating negative control 8/9 randomized_sampled_roi\n",
      "Generating negative control 9/9 randomized_sampled_non_roi\n",
      "Saved dataset index to data/images/nsclc_radiomics/niftis/dataset_index.csv\n"
     ]
    }
   ],
   "source": [
    "csv_path = index_and_submit_saves(\n",
    "    input_dir=DATA_DIR.absolute(),\n",
    "    modalities=MODALITIES,\n",
    "    roi_match_pattern=roi_match_pattern,\n",
    "    update_imgtools_index=True,\n",
    "    n_jobs=-1,\n",
    "    nifti_output_dir=NIFTI_OUTPUT_DIR,\n",
    "    filename_format=NIFTI_FILENAME_FORMAT,\n",
    "    overwrite=True,\n",
    "    random_seed=RANDOM_SEED,\n",
    "    negative_control_list=IMAGE_TYPES,\n",
    ")\n",
    "\n",
    "print(f\"Saved dataset index to {csv_path}\")"
   ]
  },
  {
   "cell_type": "code",
   "execution_count": 5,
   "metadata": {},
   "outputs": [
    {
     "name": "stdout",
     "output_type": "stream",
     "text": [
      "\u001b[01;34mdata/images/nsclc_radiomics\u001b[00m\n",
      "├── \u001b[01;34mdicom\u001b[00m/\n",
      "│   ├── \u001b[01;34mLUNG1-100\u001b[00m/\n",
      "│   │   └── \u001b[01;34m1.3.6.1.4.1.32722.99.99.73012855591005609709750757985153279317\u001b[00m/\n",
      "│   ├── \u001b[01;34mLUNG1-241\u001b[00m/\n",
      "│   │   └── \u001b[01;34m1.3.6.1.4.1.32722.99.99.9749522862227904459662052993782066003\u001b[00m/\n",
      "│   ├── \u001b[01;34mLUNG1-254\u001b[00m/\n",
      "│   │   └── \u001b[01;34m1.3.6.1.4.1.32722.99.99.101385144304667221218962368127740145808\u001b[00m/\n",
      "│   ├── \u001b[01;34mLUNG1-261\u001b[00m/\n",
      "│   │   └── \u001b[01;34m1.3.6.1.4.1.32722.99.99.315921065862774785801495962476548705528\u001b[00m/\n",
      "│   └── \u001b[01;34mLUNG1-289\u001b[00m/\n",
      "│       └── \u001b[01;34m1.3.6.1.4.1.32722.99.99.113571361328418150338693333135534997557\u001b[00m/\n",
      "├── \u001b[01;34mniftis\u001b[00m/\n",
      "│   ├── dataset_index.csv\n",
      "│   ├── \u001b[01;34mSubjectID-0_LUNG1-254\u001b[00m/\n",
      "│   │   ├── \u001b[01;34mCT_SeriesUID-65670\u001b[00m/\n",
      "│   │   │   ├── \u001b[01;31moriginal.nii.gz\u001b[00m\n",
      "│   │   │   ├── \u001b[01;31mrandomized_full.nii.gz\u001b[00m\n",
      "│   │   │   ├── \u001b[01;31mrandomized_non_roi.nii.gz\u001b[00m\n",
      "│   │   │   ├── \u001b[01;31mrandomized_roi.nii.gz\u001b[00m\n",
      "│   │   │   ├── \u001b[01;31mrandomized_sampled_full.nii.gz\u001b[00m\n",
      "│   │   │   ├── \u001b[01;31mrandomized_sampled_non_roi.nii.gz\u001b[00m\n",
      "│   │   │   ├── \u001b[01;31mrandomized_sampled_roi.nii.gz\u001b[00m\n",
      "│   │   │   ├── \u001b[01;31mshuffled_full.nii.gz\u001b[00m\n",
      "│   │   │   ├── \u001b[01;31mshuffled_non_roi.nii.gz\u001b[00m\n",
      "│   │   │   └── \u001b[01;31mshuffled_roi.nii.gz\u001b[00m\n",
      "│   │   └── \u001b[01;34mRTSTRUCT_SeriesUID-44321\u001b[00m/\n",
      "│   │       └── \u001b[01;31mGTV.nii.gz\u001b[00m\n",
      "│   ├── \u001b[01;34mSubjectID-1_LUNG1-289\u001b[00m/\n",
      "│   │   ├── \u001b[01;34mCT_SeriesUID-98684\u001b[00m/\n",
      "│   │   │   ├── \u001b[01;31moriginal.nii.gz\u001b[00m\n",
      "│   │   │   ├── \u001b[01;31mrandomized_full.nii.gz\u001b[00m\n",
      "│   │   │   ├── \u001b[01;31mrandomized_non_roi.nii.gz\u001b[00m\n",
      "│   │   │   ├── \u001b[01;31mrandomized_roi.nii.gz\u001b[00m\n",
      "│   │   │   ├── \u001b[01;31mrandomized_sampled_full.nii.gz\u001b[00m\n",
      "│   │   │   ├── \u001b[01;31mrandomized_sampled_non_roi.nii.gz\u001b[00m\n",
      "│   │   │   ├── \u001b[01;31mrandomized_sampled_roi.nii.gz\u001b[00m\n",
      "│   │   │   ├── \u001b[01;31mshuffled_full.nii.gz\u001b[00m\n",
      "│   │   │   ├── \u001b[01;31mshuffled_non_roi.nii.gz\u001b[00m\n",
      "│   │   │   └── \u001b[01;31mshuffled_roi.nii.gz\u001b[00m\n",
      "│   │   └── \u001b[01;34mRTSTRUCT_SeriesUID-86747\u001b[00m/\n",
      "│   │       └── \u001b[01;31mGTV.nii.gz\u001b[00m\n",
      "│   ├── \u001b[01;34mSubjectID-2_LUNG1-261\u001b[00m/\n",
      "│   │   ├── \u001b[01;34mCT_SeriesUID-62313\u001b[00m/\n",
      "│   │   │   ├── \u001b[01;31moriginal.nii.gz\u001b[00m\n",
      "│   │   │   ├── \u001b[01;31mrandomized_full.nii.gz\u001b[00m\n",
      "│   │   │   ├── \u001b[01;31mrandomized_non_roi.nii.gz\u001b[00m\n",
      "│   │   │   ├── \u001b[01;31mrandomized_roi.nii.gz\u001b[00m\n",
      "│   │   │   ├── \u001b[01;31mrandomized_sampled_full.nii.gz\u001b[00m\n",
      "│   │   │   ├── \u001b[01;31mrandomized_sampled_non_roi.nii.gz\u001b[00m\n",
      "│   │   │   ├── \u001b[01;31mrandomized_sampled_roi.nii.gz\u001b[00m\n",
      "│   │   │   ├── \u001b[01;31mshuffled_full.nii.gz\u001b[00m\n",
      "│   │   │   ├── \u001b[01;31mshuffled_non_roi.nii.gz\u001b[00m\n",
      "│   │   │   └── \u001b[01;31mshuffled_roi.nii.gz\u001b[00m\n",
      "│   │   └── \u001b[01;34mRTSTRUCT_SeriesUID-97208\u001b[00m/\n",
      "│   │       └── \u001b[01;31mGTV.nii.gz\u001b[00m\n",
      "│   ├── \u001b[01;34mSubjectID-3_LUNG1-100\u001b[00m/\n",
      "│   │   ├── \u001b[01;34mCT_SeriesUID-95207\u001b[00m/\n",
      "│   │   │   ├── \u001b[01;31moriginal.nii.gz\u001b[00m\n",
      "│   │   │   ├── \u001b[01;31mrandomized_full.nii.gz\u001b[00m\n",
      "│   │   │   ├── \u001b[01;31mrandomized_non_roi.nii.gz\u001b[00m\n",
      "│   │   │   ├── \u001b[01;31mrandomized_roi.nii.gz\u001b[00m\n",
      "│   │   │   ├── \u001b[01;31mrandomized_sampled_full.nii.gz\u001b[00m\n",
      "│   │   │   ├── \u001b[01;31mrandomized_sampled_non_roi.nii.gz\u001b[00m\n",
      "│   │   │   ├── \u001b[01;31mrandomized_sampled_roi.nii.gz\u001b[00m\n",
      "│   │   │   ├── \u001b[01;31mshuffled_full.nii.gz\u001b[00m\n",
      "│   │   │   ├── \u001b[01;31mshuffled_non_roi.nii.gz\u001b[00m\n",
      "│   │   │   └── \u001b[01;31mshuffled_roi.nii.gz\u001b[00m\n",
      "│   │   └── \u001b[01;34mRTSTRUCT_SeriesUID-84885\u001b[00m/\n",
      "│   │       └── \u001b[01;31mGTV.nii.gz\u001b[00m\n",
      "│   └── \u001b[01;34mSubjectID-4_LUNG1-241\u001b[00m/\n",
      "│       ├── \u001b[01;34mCT_SeriesUID-04303\u001b[00m/\n",
      "│       │   ├── \u001b[01;31moriginal.nii.gz\u001b[00m\n",
      "│       │   ├── \u001b[01;31mrandomized_full.nii.gz\u001b[00m\n",
      "│       │   ├── \u001b[01;31mrandomized_non_roi.nii.gz\u001b[00m\n",
      "│       │   ├── \u001b[01;31mrandomized_roi.nii.gz\u001b[00m\n",
      "│       │   ├── \u001b[01;31mrandomized_sampled_full.nii.gz\u001b[00m\n",
      "│       │   ├── \u001b[01;31mrandomized_sampled_non_roi.nii.gz\u001b[00m\n",
      "│       │   ├── \u001b[01;31mrandomized_sampled_roi.nii.gz\u001b[00m\n",
      "│       │   ├── \u001b[01;31mshuffled_full.nii.gz\u001b[00m\n",
      "│       │   ├── \u001b[01;31mshuffled_non_roi.nii.gz\u001b[00m\n",
      "│       │   └── \u001b[01;31mshuffled_roi.nii.gz\u001b[00m\n",
      "│       └── \u001b[01;34mRTSTRUCT_SeriesUID-01405\u001b[00m/\n",
      "│           └── \u001b[01;31mGTV.nii.gz\u001b[00m\n",
      "├── nsclc_radiomics (1).csv\n",
      "└── nsclc_radiomics.csv\n",
      "\n",
      "27 directories, 58 files\n"
     ]
    }
   ],
   "source": [
    "# Print the directory structure but hide the actual dicom files to avoid clutter\n",
    "! tree -F $NIFTI_OUTPUT_DIR.parent -I \"*.dcm\""
   ]
  }
 ],
 "metadata": {
  "kernelspec": {
   "display_name": "Python 3",
   "language": "python",
   "name": "python3"
  },
  "language_info": {
   "codemirror_mode": {
    "name": "ipython",
    "version": 3
   },
   "file_extension": ".py",
   "mimetype": "text/x-python",
   "name": "python",
   "nbconvert_exporter": "python",
   "pygments_lexer": "ipython3",
   "version": "3.10.16"
  }
 },
 "nbformat": 4,
 "nbformat_minor": 2
}
